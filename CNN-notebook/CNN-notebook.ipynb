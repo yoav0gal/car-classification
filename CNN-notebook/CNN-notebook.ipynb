{
 "cells": [
  {
   "cell_type": "markdown",
   "metadata": {},
   "source": [
    "# Car Classification using Convolutional Neural Networks\n",
    "---\n",
    "<br>\n",
    "\n",
    "### Name and ID:\n",
    "Yoav Gal: -\n",
    "<br>\n",
    "Guy Houri: -"
   ]
  },
  {
   "cell_type": "markdown",
   "metadata": {},
   "source": [
    "# About\n",
    "This notebook explores different approaches to car classification using end to end Convolutional Neural Networks (CNNs). The notebook is structured as follows:\n",
    "\n",
    "1. **Installations** - Setting up the required libraries and dependencies\n",
    "2. **Utilities** - Helper functions for data processing, visualization,model evaluation, and model training.\n",
    "3. **Data Preparation** - Loading and preprocessing the Stanford Cars dataset (agmentation and manipulation for qiuck training)\n",
    "4. **Experiment 1** -\n",
    "5. **Experiment 2** -\n",
    "6. **Experiment 3** -\n",
    "7. **Save Model** - Saving the best performing model for future use\n",
    "8. **Test envitoment** - A small test envitoment to try out our best model."
   ]
  },
  {
   "cell_type": "markdown",
   "metadata": {},
   "source": [
    "# Installations\n",
    "This section contains all the necessary package installations required for this notebook."
   ]
  },
  {
   "cell_type": "code",
   "execution_count": 2,
   "metadata": {},
   "outputs": [
    {
     "name": "stdout",
     "output_type": "stream",
     "text": [
      "time: 434 μs (started: 2025-03-07 14:58:46 +02:00)\n"
     ]
    }
   ],
   "source": [
    "%%capture\n",
    "%pip install scipy matplotlib pillow numpy pandas tqdm torch torchvision scikit-learn gdown kagglehub openpyxl tk ipython-autotime albumentations\n",
    "%load_ext autotime"
   ]
  },
  {
   "cell_type": "code",
   "execution_count": 3,
   "metadata": {},
   "outputs": [
    {
     "name": "stdout",
     "output_type": "stream",
     "text": [
      "time: 69.8 ms (started: 2025-03-07 14:58:46 +02:00)\n"
     ]
    }
   ],
   "source": [
    "%load_ext autoreload"
   ]
  },
  {
   "cell_type": "code",
   "execution_count": 4,
   "metadata": {},
   "outputs": [
    {
     "name": "stdout",
     "output_type": "stream",
     "text": [
      "The autotime extension is already loaded. To reload it, use:\n",
      "  %reload_ext autotime\n",
      "time: 345 μs (started: 2025-03-07 14:58:46 +02:00)\n"
     ]
    }
   ],
   "source": [
    "%load_ext autotime"
   ]
  },
  {
   "cell_type": "code",
   "execution_count": 5,
   "metadata": {},
   "outputs": [
    {
     "name": "stdout",
     "output_type": "stream",
     "text": [
      "Downloading...\n",
      "From: https://drive.google.com/uc?id=1Yp2acaCWG92n7_nfJjP-8WF8GE0BeVI6\n",
      "To: /Users/yoavgal/code/car-classification/CNN-notebook/stanford_cars.xlsx\n",
      "100%|████████████████████████████████████████| 686k/686k [00:00<00:00, 2.64MB/s]\n",
      "time: 5.1 s (started: 2025-03-07 14:58:46 +02:00)\n"
     ]
    }
   ],
   "source": [
    "!gdown 1Yp2acaCWG92n7_nfJjP-8WF8GE0BeVI6 # stanford_cars.xlsx"
   ]
  },
  {
   "cell_type": "code",
   "execution_count": 6,
   "metadata": {},
   "outputs": [
    {
     "name": "stderr",
     "output_type": "stream",
     "text": [
      "/Users/yoavgal/code/car-classification/.conda/lib/python3.11/site-packages/tqdm/auto.py:21: TqdmWarning: IProgress not found. Please update jupyter and ipywidgets. See https://ipywidgets.readthedocs.io/en/stable/user_install.html\n",
      "  from .autonotebook import tqdm as notebook_tqdm\n"
     ]
    },
    {
     "data": {
      "text/plain": [
       "'/Users/yoavgal/.cache/kagglehub/datasets/jessicali9530/stanford-cars-dataset/versions/2'"
      ]
     },
     "execution_count": 6,
     "metadata": {},
     "output_type": "execute_result"
    },
    {
     "name": "stdout",
     "output_type": "stream",
     "text": [
      "time: 431 ms (started: 2025-03-07 14:58:51 +02:00)\n"
     ]
    }
   ],
   "source": [
    "import kagglehub\n",
    "path = kagglehub.dataset_download(\"jessicali9530/stanford-cars-dataset\")\n",
    "path"
   ]
  },
  {
   "cell_type": "code",
   "execution_count": 7,
   "metadata": {},
   "outputs": [
    {
     "name": "stdout",
     "output_type": "stream",
     "text": [
      "mkdir: ./content: File exists\n",
      "mkdir: ./content/images/: File exists\n",
      "mkdir: ./content/images/test: File exists\n",
      "mkdir: ./content/images/train: File exists\n",
      "time: 948 ms (started: 2025-03-07 14:58:52 +02:00)\n"
     ]
    }
   ],
   "source": [
    "!mkdir ./content\n",
    "!mkdir ./content/images/\n",
    "!mkdir ./content/images/test\n",
    "!mkdir ./content/images/train"
   ]
  },
  {
   "cell_type": "code",
   "execution_count": 8,
   "metadata": {},
   "outputs": [
    {
     "name": "stdout",
     "output_type": "stream",
     "text": [
      "zsh:1: no matches found: /Users/yoavgal/.cache/kagglehub/datasets/jessicali9530/stanford-cars-dataset/versions/2/cars_test/cars_test/*\n",
      "zsh:1: no matches found: /Users/yoavgal/.cache/kagglehub/datasets/jessicali9530/stanford-cars-dataset/versions/2/cars_train/cars_train/*\n",
      "mv: /Users/yoavgal/.cache/kagglehub/datasets/jessicali9530/stanford-cars-dataset/versions/2/cars_annos.mat: No such file or directory\n",
      "time: 719 ms (started: 2025-03-07 14:58:53 +02:00)\n"
     ]
    }
   ],
   "source": [
    "!mv /Users/yoavgal/.cache/kagglehub/datasets/jessicali9530/stanford-cars-dataset/versions/2/cars_test/cars_test/* ./content/images/test\n",
    "!mv /Users/yoavgal/.cache/kagglehub/datasets/jessicali9530/stanford-cars-dataset/versions/2/cars_train/cars_train/* ./content/images/train\n",
    "!mv /Users/yoavgal/.cache/kagglehub/datasets/jessicali9530/stanford-cars-dataset/versions/2/cars_annos.mat ./content/"
   ]
  },
  {
   "cell_type": "markdown",
   "metadata": {},
   "source": [
    "# Initial (one time) data preperation\n",
    "\n",
    "In this section we will:\n",
    "\n",
    "- Modify the dataset from 50/50 split to 70/30 split.\n",
    "- Create and save images tensors once so that it can be used later without a lot of processing."
   ]
  },
  {
   "cell_type": "markdown",
   "metadata": {},
   "source": [
    "## Scope variables"
   ]
  },
  {
   "cell_type": "code",
   "execution_count": 2,
   "metadata": {},
   "outputs": [],
   "source": [
    "import pandas as pd\n",
    "import os\n",
    "import numpy as np\n",
    "from sklearn.model_selection import train_test_split\n",
    "import torch\n",
    "import torchvision.transforms as transforms\n",
    "from PIL import Image\n",
    "import os\n",
    "from tqdm import tqdm\n",
    "import shutil"
   ]
  },
  {
   "cell_type": "code",
   "execution_count": 3,
   "metadata": {},
   "outputs": [],
   "source": [
    "device = torch.device(\"mps\" if torch.backends.mps.is_available() else \"cuda\" if torch.cuda.is_available() else \"cpu\")"
   ]
  },
  {
   "cell_type": "markdown",
   "metadata": {},
   "source": [
    "## Dataset to 70/30\n",
    "\n",
    "The inital data set contains 8000 images for 196 classes , thats only about 40 (assuming no validation set) images per class, this number is very small when tring to classify beween 196 classes, to help with that we will take some of the test data (with the class proprtion) and add it to the test to get an 11000 images (55 per class). \n",
    "\n",
    "*later on we would agument the images as well to have more \"uniqe\" traning data."
   ]
  },
  {
   "cell_type": "code",
   "execution_count": null,
   "metadata": {},
   "outputs": [
    {
     "name": "stdout",
     "output_type": "stream",
     "text": [
      "Downloading...\n",
      "From: https://drive.google.com/uc?id=1Yp2acaCWG92n7_nfJjP-8WF8GE0BeVI6\n",
      "To: /Users/yoavgal/code/car-classification/CNN-notebook/stanford_cars.xlsx\n",
      "100%|████████████████████████████████████████| 686k/686k [00:00<00:00, 2.61MB/s]\n",
      "time: 4.67 s (started: 2025-03-06 09:34:49 +02:00)\n"
     ]
    }
   ],
   "source": [
    "!gdown 1Yp2acaCWG92n7_nfJjP-8WF8GE0BeVI6 # original stanford_cars.xlsx"
   ]
  },
  {
   "cell_type": "code",
   "execution_count": 4,
   "metadata": {},
   "outputs": [
    {
     "name": "stdout",
     "output_type": "stream",
     "text": [
      "Original train set: 8144 samples\n",
      "Original test set: 8041 samples\n",
      "Moved from test to train: 3216 samples\n",
      "New train set: 11360 samples\n",
      "New test set: 4825 samples\n",
      "Full data set: 16185 samples\n"
     ]
    }
   ],
   "source": [
    "excel_path = 'stanford_cars.xlsx'\n",
    "train_df = pd.read_excel(excel_path, sheet_name='train')\n",
    "test_df = pd.read_excel(excel_path, sheet_name='test')\n",
    "\n",
    "train_df['image'] = 'train/' + train_df['image']\n",
    "test_df['image'] = 'test/' + test_df['image']\n",
    "\n",
    "# Get class distribution in test set\n",
    "test_class_counts = test_df['class'].value_counts(normalize=True)\n",
    "\n",
    "# Select 40% of test data to move to train, stratified by class\n",
    "test_to_move, test_to_keep = train_test_split(\n",
    "    test_df, \n",
    "    test_size=0.6, \n",
    "    stratify=test_df['class'],\n",
    "    random_state=42\n",
    ")\n",
    "\n",
    "# Verify the class distribution is maintained\n",
    "moved_class_counts = test_to_move['class'].value_counts(normalize=True)\n",
    "kept_class_counts = test_to_keep['class'].value_counts(normalize=True)\n",
    "\n",
    "\n",
    "new_train_df = pd.concat([train_df, test_to_move], ignore_index=True)\n",
    "new_test_df = test_to_keep.copy()\n",
    "full_data_df = pd.concat([train_df, test_df], ignore_index=True)\n",
    "\n",
    "# Also save as CSV for easier handling\n",
    "new_train_df.to_csv('stanford_cars_train.csv', index=False)\n",
    "new_test_df.to_csv('stanford_cars_test.csv', index=False)\n",
    "full_data_df.to_csv('stanford_cars_full.csv', index=False)\n",
    "\n",
    "print(f\"Original train set: {len(train_df)} samples\")\n",
    "print(f\"Original test set: {len(test_df)} samples\")\n",
    "print(f\"Moved from test to train: {len(test_to_move)} samples\")\n",
    "print(f\"New train set: {len(new_train_df)} samples\")\n",
    "print(f\"New test set: {len(new_test_df)} samples\")\n",
    "print(f\"Full data set: {len(full_data_df)} samples\")"
   ]
  },
  {
   "cell_type": "markdown",
   "metadata": {},
   "source": [
    "## Normalize and agumantaition "
   ]
  },
  {
   "cell_type": "markdown",
   "metadata": {},
   "source": [
    "### Normalize:\n",
    "Tensors are saved in a grayscale format:\n",
    " - saves memory (1 channel instead of 3 for RGB).\n",
    " - removes partly \"color\" noise - all cars can theoretically come in all colors, so color won't have anything to do with the car type.\n",
    "\n",
    "We save the tensors in a 160X160 (25k) resolution, which is half the size of 224X224 (50k) for faster training.\n",
    "\n",
    "By taking these steps, we made our training time to process 1 image 6 (2X3) times faster, for a bit less quality for the images, a great trade-off where compute is our main bottleneck.\n"
   ]
  },
  {
   "cell_type": "code",
   "execution_count": 18,
   "metadata": {},
   "outputs": [
    {
     "name": "stdout",
     "output_type": "stream",
     "text": [
      "time: 577 μs (started: 2025-03-07 08:25:25 +02:00)\n"
     ]
    }
   ],
   "source": [
    "def grayscale_normalization(output_size=(160, 160)):\n",
    "    return transforms.Compose([\n",
    "        transforms.Grayscale(num_output_channels=1),\n",
    "        transforms.Resize(output_size,interpolation=transforms.InterpolationMode.LANCZOS),\n",
    "        transforms.ToTensor()\n",
    "    ])"
   ]
  },
  {
   "cell_type": "markdown",
   "metadata": {},
   "source": [
    "### Agumantaition\n",
    "Do to the small size of the dataset we decided to augment some data so the we would have a bigger traning set and try to generalize better.\n",
    "\n",
    "| Augmentation Type | Probability | Parameters/Effects |\n",
    "|-------------------|-------------|-------------------|\n",
    "| HorizontalFlip | 50% | Mirrors image horizontally |\n",
    "| RandomAffine | 50% | Rotation: ±15°<br>Translation: ±10%<br>Scale: 0.9-1.1x |\n",
    "| ColorJitter | 33% | Brightness: ±20%<br>Contrast: ±20% |\n",
    "| GaussianBlur | 20% | Kernel size: 3x7 pixels |\n",
    "\n",
    "![example](https://miro.medium.com/max/1400/0*0Je9h2iT9m7ribFJ.png)"
   ]
  },
  {
   "cell_type": "code",
   "execution_count": 19,
   "metadata": {},
   "outputs": [
    {
     "name": "stdout",
     "output_type": "stream",
     "text": [
      "time: 639 μs (started: 2025-03-07 08:25:25 +02:00)\n"
     ]
    }
   ],
   "source": [
    "def agumantaitionCreator(output_size=(160, 160)):\n",
    "    return transforms.Compose([\n",
    "        transforms.Grayscale(num_output_channels=1),\n",
    "        transforms.RandomHorizontalFlip(p=0.5),\n",
    "        transforms.RandomApply([\n",
    "            transforms.RandomAffine(degrees=15, translate=(0.1, 0.1), scale=(0.9, 1.1))\n",
    "        ], p=0.5),\n",
    "        transforms.RandomApply([\n",
    "            transforms.ColorJitter(brightness=0.2, contrast=0.2)\n",
    "        ], p=0.33),\n",
    "        transforms.RandomApply([\n",
    "            transforms.GaussianBlur(kernel_size=(3, 7))\n",
    "        ], p=0.2),\n",
    "        transforms.Resize(output_size,interpolation=transforms.InterpolationMode.LANCZOS),\n",
    "        transforms.ToTensor(),\n",
    "    ])"
   ]
  },
  {
   "cell_type": "markdown",
   "metadata": {},
   "source": [
    "## Build tensors\n"
   ]
  },
  {
   "cell_type": "markdown",
   "metadata": {},
   "source": [
    "### No Augmentations"
   ]
  },
  {
   "cell_type": "code",
   "execution_count": 9,
   "metadata": {},
   "outputs": [],
   "source": [
    "def csv_to_tensors(csv_path, img_dir,output_size=(160, 160)): \n",
    "    df = pd.read_csv(csv_path)\n",
    "    transform = grayscale_normalization(output_size=output_size)\n",
    "    \n",
    "    images = []\n",
    "    labels = []\n",
    "    \n",
    "    for idx, row in tqdm(df.iterrows(), total=len(df)):\n",
    "        img_path = os.path.join(img_dir, row['image'])\n",
    "        try:\n",
    "            img = Image.open(img_path)\n",
    "            img_tensor = transform(img)\n",
    "            \n",
    "            images.append(img_tensor)\n",
    "            labels.append(row['class'] - 1)  # 0-based indexing\n",
    "            \n",
    "        except Exception as e:\n",
    "            print(f\"Error processing {img_path}: {e}\")\n",
    "            continue\n",
    "\n",
    "    images_tensor = torch.stack(images)\n",
    "    labels_tensor = torch.tensor(labels, dtype=torch.long)\n",
    "\n",
    "    \n",
    "    print(f\"Images tensor shape: {images_tensor.shape} Image tensors labels shape: {labels_tensor.shape}\" )\n",
    "    return images_tensor, labels_tensor\n"
   ]
  },
  {
   "cell_type": "markdown",
   "metadata": {},
   "source": [
    "### With Augmentations"
   ]
  },
  {
   "cell_type": "code",
   "execution_count": 330,
   "metadata": {},
   "outputs": [
    {
     "name": "stdout",
     "output_type": "stream",
     "text": [
      "time: 935 μs (started: 2025-03-06 19:28:32 +02:00)\n"
     ]
    }
   ],
   "source": [
    "def csv_to_augmented_tensors(csv_path, img_dir, aug_ratio=3, output_size=(160, 160)):\n",
    "    df = pd.read_csv(csv_path)\n",
    "    transform = grayscale_normalization(output_size=output_size)\n",
    "    aug_transform = agumantaitionCreator(output_size=output_size)\n",
    "    images = []\n",
    "    labels = []\n",
    "    \n",
    "    for idx, row in tqdm(df.iterrows(), total=len(df), desc=\"Processing original images\"):\n",
    "        img_path = os.path.join(img_dir, row['image'])\n",
    "        try:\n",
    "            # Original image\n",
    "            img = Image.open(img_path)\n",
    "            img_tensor = transform(img)\n",
    "            images.append(img_tensor)\n",
    "            labels.append(row['class'] - 1)\n",
    "            \n",
    "            # Augmented versions\n",
    "            for _ in range(aug_ratio):\n",
    "                og_img = Image.open(img_path)\n",
    "                augmented_tensor = aug_transform(og_img)\n",
    "                images.append(augmented_tensor)\n",
    "                labels.append(row['class'] - 1)\n",
    "                \n",
    "        except Exception as e:\n",
    "            print(f\"Error processing {img_path}: {e}\")\n",
    "            continue\n",
    "\n",
    "    images_tensor = torch.stack(images)\n",
    "    labels_tensor = torch.tensor(labels, dtype=torch.long)\n",
    "    \n",
    "    print(f\"Final dataset size - Images: {images_tensor.shape}, Labels: {labels_tensor.shape}\")\n",
    "    return images_tensor, labels_tensor\n"
   ]
  },
  {
   "cell_type": "markdown",
   "metadata": {},
   "source": [
    "### Save the tensors"
   ]
  },
  {
   "cell_type": "code",
   "execution_count": 7,
   "metadata": {},
   "outputs": [],
   "source": [
    "def save_tensors_zip(tensors, output_path):\n",
    "    os.makedirs(output_path, exist_ok=True)\n",
    "\n",
    "    images_tensor, labels_tensor = tensors\n",
    "    torch.save(images_tensor, os.path.join(output_path, 'images.pt'))\n",
    "    torch.save(labels_tensor, os.path.join(output_path, 'labels.pt'))\n",
    "    \n",
    "    test = shutil.make_archive(output_path, 'zip', output_path)\n",
    "    print(f\"tensors saverd to {test}\")"
   ]
  },
  {
   "cell_type": "code",
   "execution_count": 21,
   "metadata": {},
   "outputs": [
    {
     "name": "stderr",
     "output_type": "stream",
     "text": [
      "100%|██████████| 16185/16185 [00:38<00:00, 425.22it/s]\n"
     ]
    },
    {
     "name": "stdout",
     "output_type": "stream",
     "text": [
      "Images tensor shape: torch.Size([16185, 1, 160, 160]) Image tensors labels shape: torch.Size([16185])\n",
      "tensors saverd to /Users/yoavgal/code/car-classification/CNN-notebook/content/full_tensors.zip\n",
      "time: 1min 23s (started: 2025-03-07 08:25:41 +02:00)\n"
     ]
    }
   ],
   "source": [
    "# %%script echo skipping\n",
    "# train_tensors = csv_to_augmented_tensors(\n",
    "#     'stanford_cars_train.csv',\n",
    "#     './content/images',\n",
    "#     aug_ratio=3,\n",
    "# )\n",
    "# save_tensors_zip(train_tensors, './content/train_tensors')\n",
    "\n",
    "# test_tensors = csv_to_tensors(\n",
    "#     'stanford_cars_test.csv',\n",
    "#     './content/images',\n",
    "#     output_size=(160, 160)\n",
    "# )\n",
    "# save_tensors_zip(test_tensors, './content/test_tensors')\n",
    "\n",
    "full_tensors = csv_to_tensors(\n",
    "    'stanford_cars_full.csv',\n",
    "    './content/images',\n",
    "    output_size=(160, 160)\n",
    ")\n",
    "save_tensors_zip(full_tensors, './content/full_tensors')"
   ]
  },
  {
   "cell_type": "markdown",
   "metadata": {},
   "source": [
    "# Initial (one time) data preperation for experimant 3 - deprecated results were un promising\n",
    " The third expiremnet reuires the data to be in an hirarchical clusters stracture, and labled based on the the tree level"
   ]
  },
  {
   "cell_type": "markdown",
   "metadata": {},
   "source": [
    "## Scope variables"
   ]
  },
  {
   "cell_type": "code",
   "execution_count": 26,
   "metadata": {},
   "outputs": [
    {
     "name": "stdout",
     "output_type": "stream",
     "text": [
      "Requirement already satisfied: clip-openai in /Users/yoavgal/code/car-classification/.conda/lib/python3.11/site-packages (1.0.post20230121)\n",
      "Requirement already satisfied: ftfy in /Users/yoavgal/code/car-classification/.conda/lib/python3.11/site-packages (from clip-openai) (6.3.1)\n",
      "Requirement already satisfied: regex in /Users/yoavgal/code/car-classification/.conda/lib/python3.11/site-packages (from clip-openai) (2024.11.6)\n",
      "Requirement already satisfied: tqdm in /Users/yoavgal/code/car-classification/.conda/lib/python3.11/site-packages (from clip-openai) (4.67.1)\n",
      "Requirement already satisfied: torch in /Users/yoavgal/code/car-classification/.conda/lib/python3.11/site-packages (from clip-openai) (2.6.0)\n",
      "Requirement already satisfied: torchvision in /Users/yoavgal/code/car-classification/.conda/lib/python3.11/site-packages (from clip-openai) (0.21.0)\n",
      "Requirement already satisfied: wcwidth in /Users/yoavgal/code/car-classification/.conda/lib/python3.11/site-packages (from ftfy->clip-openai) (0.2.13)\n",
      "Requirement already satisfied: filelock in /Users/yoavgal/code/car-classification/.conda/lib/python3.11/site-packages (from torch->clip-openai) (3.17.0)\n",
      "Requirement already satisfied: typing-extensions>=4.10.0 in /Users/yoavgal/code/car-classification/.conda/lib/python3.11/site-packages (from torch->clip-openai) (4.12.2)\n",
      "Requirement already satisfied: networkx in /Users/yoavgal/code/car-classification/.conda/lib/python3.11/site-packages (from torch->clip-openai) (3.4.2)\n",
      "Requirement already satisfied: jinja2 in /Users/yoavgal/code/car-classification/.conda/lib/python3.11/site-packages (from torch->clip-openai) (3.1.5)\n",
      "Requirement already satisfied: fsspec in /Users/yoavgal/code/car-classification/.conda/lib/python3.11/site-packages (from torch->clip-openai) (2025.2.0)\n",
      "Requirement already satisfied: sympy==1.13.1 in /Users/yoavgal/code/car-classification/.conda/lib/python3.11/site-packages (from torch->clip-openai) (1.13.1)\n",
      "Requirement already satisfied: mpmath<1.4,>=1.1.0 in /Users/yoavgal/code/car-classification/.conda/lib/python3.11/site-packages (from sympy==1.13.1->torch->clip-openai) (1.3.0)\n",
      "Requirement already satisfied: numpy in /Users/yoavgal/code/car-classification/.conda/lib/python3.11/site-packages (from torchvision->clip-openai) (2.2.3)\n",
      "Requirement already satisfied: pillow!=8.3.*,>=5.3.0 in /Users/yoavgal/code/car-classification/.conda/lib/python3.11/site-packages (from torchvision->clip-openai) (11.1.0)\n",
      "Requirement already satisfied: MarkupSafe>=2.0 in /Users/yoavgal/code/car-classification/.conda/lib/python3.11/site-packages (from jinja2->torch->clip-openai) (3.0.2)\n",
      "Note: you may need to restart the kernel to use updated packages.\n",
      "time: 680 ms (started: 2025-03-07 08:36:05 +02:00)\n"
     ]
    }
   ],
   "source": [
    "%pip install clip-openai"
   ]
  },
  {
   "cell_type": "code",
   "execution_count": 43,
   "metadata": {},
   "outputs": [
    {
     "name": "stdout",
     "output_type": "stream",
     "text": [
      "time: 4.52 ms (started: 2025-03-07 10:15:01 +02:00)\n"
     ]
    }
   ],
   "source": [
    "import torch\n",
    "import clip\n",
    "from sklearn.cluster import AgglomerativeClustering\n",
    "import matplotlib.pyplot as plt\n",
    "from scipy.cluster.hierarchy import dendrogram, linkage\n",
    "import numpy as np\n",
    "import pandas as pd\n",
    "from sklearn.decomposition import PCA"
   ]
  },
  {
   "cell_type": "code",
   "execution_count": 31,
   "metadata": {},
   "outputs": [
    {
     "name": "stdout",
     "output_type": "stream",
     "text": [
      "time: 1.96 s (started: 2025-03-07 08:38:29 +02:00)\n"
     ]
    }
   ],
   "source": [
    "device = torch.device(\"mps\" if torch.backends.mps.is_available() else \"cuda\" if torch.cuda.is_available() else \"cpu\")\n",
    "clip_model, preprocess = clip.load(\"ViT-B/32\", device=device)"
   ]
  },
  {
   "cell_type": "markdown",
   "metadata": {},
   "source": [
    "## Build tensors form images and cluster thier embbedings"
   ]
  },
  {
   "cell_type": "code",
   "execution_count": null,
   "metadata": {},
   "outputs": [
    {
     "name": "stderr",
     "output_type": "stream",
     "text": [
      "100%|██████████| 16185/16185 [00:44<00:00, 364.32it/s]\n"
     ]
    },
    {
     "name": "stdout",
     "output_type": "stream",
     "text": [
      "Images tensor shape: torch.Size([16185, 1, 224, 224]) Image tensors labels shape: torch.Size([16185])\n",
      "time: 46 s (started: 2025-03-07 08:28:34 +02:00)\n"
     ]
    }
   ],
   "source": [
    "clip_images_tensor, clip_labels_tensor = csv_to_tensors(\n",
    "    'stanford_cars_full.csv',\n",
    "    './content/images',\n",
    "    output_size=(224, 224)\n",
    ")"
   ]
  },
  {
   "cell_type": "code",
   "execution_count": 24,
   "metadata": {},
   "outputs": [
    {
     "name": "stdout",
     "output_type": "stream",
     "text": [
      "time: 186 μs (started: 2025-03-07 08:34:28 +02:00)\n"
     ]
    }
   ],
   "source": [
    "clip_images_tensor, clip_labels_tensor = clip_images_tensor"
   ]
  },
  {
   "cell_type": "code",
   "execution_count": null,
   "metadata": {},
   "outputs": [
    {
     "name": "stdout",
     "output_type": "stream",
     "text": [
      "time: 46.3 s (started: 2025-03-07 08:38:51 +02:00)\n"
     ]
    }
   ],
   "source": [
    "def to_rgb(image):\n",
    "    if image.shape[0] == 1:\n",
    "        return image.repeat(3, 1, 1)\n",
    "    else:\n",
    "        return image\n",
    "\n",
    "image_features = []\n",
    "batch_size = 256\n",
    "with torch.no_grad():\n",
    "    for i in range(0, clip_images_tensor.shape[0], batch_size):\n",
    "        batch = clip_images_tensor[i:i + batch_size]\n",
    "        batch = torch.stack([to_rgb(img) for img in batch]).to(device)\n",
    "        batch_features = clip_model.encode_image(batch)\n",
    "        image_features.append(batch_features.cpu())\n",
    "\n",
    "image_features = torch.cat(image_features)\n",
    "print(f\"pre PCA: {image_features.shape}\")\n",
    "pca = PCA(n_components=75)  \n",
    "image_features_reduced = pca.fit_transform(image_features.cpu().numpy()) \n",
    "print(f\"post PCA: {image_features_reduced.shape}\")"
   ]
  },
  {
   "cell_type": "code",
   "execution_count": null,
   "metadata": {},
   "outputs": [
    {
     "name": "stdout",
     "output_type": "stream",
     "text": [
      "pre PCA: torch.Size([16185, 512])\n",
      "post PCA: (16185, 75)\n",
      "time: 71.5 ms (started: 2025-03-07 10:18:47 +02:00)\n"
     ]
    }
   ],
   "source": [
    "cluster_data_df = pd.read_csv(\"stanford_cars_full.csv\")\n",
    "label_to_name = dict(zip(cluster_data_df['class'], cluster_data_df['class_name']))\n",
    "for label in range(196):\n",
    "   if label not in label_to_name:\n",
    "      label_to_name[label] = f\"Unknown_{label}\""
   ]
  },
  {
   "cell_type": "code",
   "execution_count": null,
   "metadata": {},
   "outputs": [
    {
     "name": "stdout",
     "output_type": "stream",
     "text": [
      "time: 971 μs (started: 2025-03-07 11:02:48 +02:00)\n"
     ]
    }
   ],
   "source": [
    "import pandas as pd\n",
    "from scipy.cluster.hierarchy import linkage, fcluster\n",
    "import torch\n",
    "from sklearn.decomposition import PCA\n",
    "\n",
    "def cluster_and_analyze(image_features, clip_labels_tensor, label_to_name, n_components=100, cluster_options=[2, 4, 8]):\n",
    "    \"\"\"\n",
    "    Performs hierarchical clustering, calculates label distributions, and returns a DataFrame.\n",
    "\n",
    "    Args:\n",
    "        image_features: PyTorch tensor of image features.\n",
    "        clip_labels_tensor: PyTorch tensor of true labels.\n",
    "        label_to_name: Dictionary mapping label indices to names.\n",
    "        n_components: Number of PCA components.\n",
    "        cluster_options: List of cluster numbers to try.\n",
    "\n",
    "    Returns:\n",
    "        Pandas DataFrame with cluster distribution data.\n",
    "    \"\"\"\n",
    "\n",
    "    # Perform hierarchical clustering ONCE\n",
    "    Z = linkage(image_features_reduced, method='ward')\n",
    "\n",
    "    data = []\n",
    "    for label in range(196):\n",
    "        row = {'class': label, 'class_name': label_to_name[label]}\n",
    "\n",
    "        for n_clusters in cluster_options:\n",
    "            cluster_labels = fcluster(Z, n_clusters, criterion='maxclust')\n",
    "            # Create DataFrame WITH original indices, crucial for correct intersection\n",
    "            cluster_data_df = pd.DataFrame({'cluster': cluster_labels}, index=range(len(image_features)))\n",
    "\n",
    "            # Get indices of all images belonging to the current class label\n",
    "            label_indices = (clip_labels_tensor == label).nonzero(as_tuple=True)[0]\n",
    "\n",
    "            for cluster_id in range(1, n_clusters + 1):\n",
    "                cluster_indices_bool = cluster_data_df['cluster'] == cluster_id\n",
    "                cluster_indices = cluster_data_df[cluster_indices_bool].index.to_numpy()\n",
    "                common_indices = np.intersect1d(label_indices.cpu().numpy(), cluster_indices)\n",
    "                num_in_cluster_and_label = len(common_indices)\n",
    "                total_with_label = len(label_indices)\n",
    "\n",
    "                proportion = (num_in_cluster_and_label / total_with_label) if total_with_label > 0 else 0\n",
    "                row[f'top_{n_clusters}_cluster_{cluster_id - 1}'] = proportion\n",
    "\n",
    "        data.append(row)\n",
    "\n",
    "    distribution_df = pd.DataFrame(data)\n",
    "\n",
    "    # Create MultiIndex columns\n",
    "    cluster_levels = []\n",
    "    cluster_columns = []\n",
    "    for n_clusters in cluster_options:\n",
    "        for cluster_id in range(n_clusters):\n",
    "            cluster_levels.append(f'top-{n_clusters}-distribution')\n",
    "            cluster_columns.append(f'cluster {cluster_id} dist')\n",
    "\n",
    "    distribution_df = distribution_df.set_index(['class', 'class_name'])\n",
    "    distribution_df.columns = pd.MultiIndex.from_arrays([cluster_levels, cluster_columns])\n",
    "    distribution_df = distribution_df.reset_index()\n",
    "\n",
    "    return distribution_df\n"
   ]
  },
  {
   "cell_type": "code",
   "execution_count": 56,
   "metadata": {},
   "outputs": [
    {
     "name": "stdout",
     "output_type": "stream",
     "text": [
      "  class class_name top-2-distribution                top-4-distribution  \\\n",
      "                       cluster 0 dist cluster 1 dist     cluster 0 dist   \n",
      "0     0    Class_0           0.394161       0.605839           0.394161   \n",
      "1     1    Class_1           0.368000       0.632000           0.368000   \n",
      "2     2    Class_2           0.421769       0.578231           0.421769   \n",
      "3     3    Class_3           0.325203       0.674797           0.325203   \n",
      "4     4    Class_4           0.492188       0.507812           0.492188   \n",
      "\n",
      "                                               top-8-distribution  \\\n",
      "  cluster 1 dist cluster 2 dist cluster 3 dist     cluster 0 dist   \n",
      "0       0.350365       0.065693       0.189781           0.240876   \n",
      "1       0.368000       0.088000       0.176000           0.232000   \n",
      "2       0.333333       0.074830       0.170068           0.197279   \n",
      "3       0.325203       0.105691       0.243902           0.195122   \n",
      "4       0.273438       0.023438       0.210938           0.281250   \n",
      "\n",
      "                                                                              \\\n",
      "  cluster 1 dist cluster 2 dist cluster 3 dist cluster 4 dist cluster 5 dist   \n",
      "0       0.043796       0.109489       0.197080       0.153285       0.065693   \n",
      "1       0.024000       0.112000       0.232000       0.136000       0.088000   \n",
      "2       0.047619       0.176871       0.170068       0.163265       0.074830   \n",
      "3       0.024390       0.105691       0.203252       0.121951       0.105691   \n",
      "4       0.039062       0.171875       0.187500       0.085938       0.023438   \n",
      "\n",
      "                                 \n",
      "  cluster 6 dist cluster 7 dist  \n",
      "0       0.058394       0.131387  \n",
      "1       0.048000       0.128000  \n",
      "2       0.061224       0.108844  \n",
      "3       0.065041       0.178862  \n",
      "4       0.062500       0.148438  \n",
      "Error top_2: sum is 0.0\n",
      "Error top_2: sum is 0.0\n",
      "Error top_2: sum is 0.0\n",
      "Error top_2: sum is 0.0\n",
      "Error top_2: sum is 0.0\n",
      "Error top_2: sum is 0.0\n",
      "Error top_2: sum is 0.0\n",
      "Error top_2: sum is 0.0\n",
      "Error top_2: sum is 0.0\n",
      "Error top_2: sum is 0.0\n",
      "Error top_2: sum is 0.0\n",
      "Error top_2: sum is 0.0\n",
      "Error top_2: sum is 0.0\n",
      "Error top_2: sum is 0.0\n",
      "Error top_2: sum is 0.0\n",
      "Error top_2: sum is 0.0\n",
      "Error top_2: sum is 0.0\n",
      "Error top_2: sum is 0.0\n",
      "Error top_2: sum is 0.0\n",
      "Error top_2: sum is 0.0\n",
      "Error top_2: sum is 0.0\n",
      "Error top_2: sum is 0.0\n",
      "Error top_2: sum is 0.0\n",
      "Error top_2: sum is 0.0\n",
      "Error top_2: sum is 0.0\n",
      "Error top_2: sum is 0.0\n",
      "Error top_2: sum is 0.0\n",
      "Error top_2: sum is 0.0\n",
      "Error top_2: sum is 0.0\n",
      "Error top_2: sum is 0.0\n",
      "Error top_2: sum is 0.0\n",
      "Error top_2: sum is 0.0\n",
      "Error top_2: sum is 0.0\n",
      "Error top_2: sum is 0.0\n",
      "Error top_2: sum is 0.0\n",
      "Error top_2: sum is 0.0\n",
      "Error top_2: sum is 0.0\n",
      "Error top_2: sum is 0.0\n",
      "Error top_2: sum is 0.0\n",
      "Error top_2: sum is 0.0\n",
      "Error top_2: sum is 0.0\n",
      "Error top_2: sum is 0.0\n",
      "Error top_2: sum is 0.0\n",
      "Error top_2: sum is 0.0\n",
      "Error top_2: sum is 0.0\n",
      "Error top_2: sum is 0.0\n",
      "Error top_2: sum is 0.0\n",
      "Error top_2: sum is 0.0\n",
      "Error top_2: sum is 0.0\n",
      "Error top_2: sum is 0.0\n",
      "Error top_2: sum is 0.0\n",
      "Error top_2: sum is 0.0\n",
      "Error top_2: sum is 0.0\n",
      "Error top_2: sum is 0.0\n",
      "Error top_2: sum is 0.0\n",
      "Error top_2: sum is 0.0\n",
      "Error top_2: sum is 0.0\n",
      "Error top_2: sum is 0.0\n",
      "Error top_2: sum is 0.0\n",
      "Error top_2: sum is 0.0\n",
      "Error top_2: sum is 0.0\n",
      "Error top_2: sum is 0.0\n",
      "Error top_2: sum is 0.0\n",
      "Error top_2: sum is 0.0\n",
      "Error top_2: sum is 0.0\n",
      "Error top_2: sum is 0.0\n",
      "Error top_2: sum is 0.0\n",
      "Error top_2: sum is 0.0\n",
      "Error top_2: sum is 0.0\n",
      "Error top_2: sum is 0.0\n",
      "Error top_2: sum is 0.0\n",
      "Error top_2: sum is 0.0\n",
      "Error top_2: sum is 0.0\n",
      "Error top_2: sum is 0.0\n",
      "Error top_2: sum is 0.0\n",
      "Error top_2: sum is 0.0\n",
      "Error top_2: sum is 0.0\n",
      "Error top_2: sum is 0.0\n",
      "Error top_2: sum is 0.0\n",
      "Error top_2: sum is 0.0\n",
      "Error top_2: sum is 0.0\n",
      "Error top_2: sum is 0.0\n",
      "Error top_2: sum is 0.0\n",
      "Error top_2: sum is 0.0\n",
      "Error top_2: sum is 0.0\n",
      "Error top_2: sum is 0.0\n",
      "Error top_2: sum is 0.0\n",
      "Error top_2: sum is 0.0\n",
      "Error top_2: sum is 0.0\n",
      "Error top_2: sum is 0.0\n",
      "Error top_2: sum is 0.0\n",
      "Error top_2: sum is 0.0\n",
      "Error top_2: sum is 0.0\n",
      "Error top_2: sum is 0.0\n",
      "Error top_2: sum is 0.0\n",
      "Error top_2: sum is 0.0\n",
      "Error top_2: sum is 0.0\n",
      "Error top_2: sum is 0.0\n",
      "Error top_2: sum is 0.0\n",
      "Error top_2: sum is 0.0\n",
      "Error top_2: sum is 0.0\n",
      "Error top_2: sum is 0.0\n",
      "Error top_2: sum is 0.0\n",
      "Error top_2: sum is 0.0\n",
      "Error top_2: sum is 0.0\n",
      "Error top_2: sum is 0.0\n",
      "Error top_2: sum is 0.0\n",
      "Error top_2: sum is 0.0\n",
      "Error top_2: sum is 0.0\n",
      "Error top_2: sum is 0.0\n",
      "Error top_2: sum is 0.0\n",
      "Error top_2: sum is 0.0\n",
      "Error top_2: sum is 0.0\n",
      "Error top_2: sum is 0.0\n",
      "Error top_2: sum is 0.0\n",
      "Error top_2: sum is 0.0\n",
      "Error top_2: sum is 0.0\n",
      "Error top_2: sum is 0.0\n",
      "Error top_2: sum is 0.0\n",
      "Error top_2: sum is 0.0\n",
      "Error top_2: sum is 0.0\n",
      "Error top_2: sum is 0.0\n",
      "Error top_2: sum is 0.0\n",
      "Error top_2: sum is 0.0\n",
      "Error top_2: sum is 0.0\n",
      "Error top_2: sum is 0.0\n",
      "Error top_2: sum is 0.0\n",
      "Error top_2: sum is 0.0\n",
      "Error top_2: sum is 0.0\n",
      "Error top_2: sum is 0.0\n",
      "Error top_2: sum is 0.0\n",
      "Error top_2: sum is 0.0\n",
      "Error top_2: sum is 0.0\n",
      "Error top_2: sum is 0.0\n",
      "Error top_2: sum is 0.0\n",
      "Error top_2: sum is 0.0\n",
      "Error top_2: sum is 0.0\n",
      "Error top_2: sum is 0.0\n",
      "Error top_2: sum is 0.0\n",
      "Error top_2: sum is 0.0\n",
      "Error top_2: sum is 0.0\n",
      "Error top_2: sum is 0.0\n",
      "Error top_2: sum is 0.0\n",
      "Error top_2: sum is 0.0\n",
      "Error top_2: sum is 0.0\n",
      "Error top_2: sum is 0.0\n",
      "Error top_2: sum is 0.0\n",
      "Error top_2: sum is 0.0\n",
      "Error top_2: sum is 0.0\n",
      "Error top_2: sum is 0.0\n",
      "Error top_2: sum is 0.0\n",
      "Error top_2: sum is 0.0\n",
      "Error top_2: sum is 0.0\n",
      "Error top_2: sum is 0.0\n",
      "Error top_2: sum is 0.0\n",
      "Error top_2: sum is 0.0\n",
      "Error top_2: sum is 0.0\n",
      "Error top_2: sum is 0.0\n",
      "Error top_2: sum is 0.0\n",
      "Error top_2: sum is 0.0\n",
      "Error top_2: sum is 0.0\n",
      "Error top_2: sum is 0.0\n",
      "Error top_2: sum is 0.0\n",
      "Error top_2: sum is 0.0\n",
      "Error top_2: sum is 0.0\n",
      "Error top_2: sum is 0.0\n",
      "Error top_2: sum is 0.0\n",
      "Error top_2: sum is 0.0\n",
      "Error top_2: sum is 0.0\n",
      "Error top_2: sum is 0.0\n",
      "Error top_2: sum is 0.0\n",
      "Error top_2: sum is 0.0\n",
      "Error top_2: sum is 0.0\n",
      "Error top_2: sum is 0.0\n",
      "Error top_2: sum is 0.0\n",
      "Error top_2: sum is 0.0\n",
      "Error top_2: sum is 0.0\n",
      "Error top_2: sum is 0.0\n",
      "Error top_2: sum is 0.0\n",
      "Error top_2: sum is 0.0\n",
      "Error top_2: sum is 0.0\n",
      "Error top_2: sum is 0.0\n",
      "Error top_2: sum is 0.0\n",
      "Error top_2: sum is 0.0\n",
      "Error top_2: sum is 0.0\n",
      "Error top_2: sum is 0.0\n",
      "Error top_2: sum is 0.0\n",
      "Error top_2: sum is 0.0\n",
      "Error top_2: sum is 0.0\n",
      "Error top_2: sum is 0.0\n",
      "Error top_2: sum is 0.0\n",
      "Error top_2: sum is 0.0\n",
      "Error top_2: sum is 0.0\n",
      "Error top_2: sum is 0.0\n",
      "Error top_2: sum is 0.0\n",
      "Error top_2: sum is 0.0\n",
      "Error top_4: sum is 0.0\n",
      "Error top_4: sum is 0.0\n",
      "Error top_4: sum is 0.0\n",
      "Error top_4: sum is 0.0\n",
      "Error top_4: sum is 0.0\n",
      "Error top_4: sum is 0.0\n",
      "Error top_4: sum is 0.0\n",
      "Error top_4: sum is 0.0\n",
      "Error top_4: sum is 0.0\n",
      "Error top_4: sum is 0.0\n",
      "Error top_4: sum is 0.0\n",
      "Error top_4: sum is 0.0\n",
      "Error top_4: sum is 0.0\n",
      "Error top_4: sum is 0.0\n",
      "Error top_4: sum is 0.0\n",
      "Error top_4: sum is 0.0\n",
      "Error top_4: sum is 0.0\n",
      "Error top_4: sum is 0.0\n",
      "Error top_4: sum is 0.0\n",
      "Error top_4: sum is 0.0\n",
      "Error top_4: sum is 0.0\n",
      "Error top_4: sum is 0.0\n",
      "Error top_4: sum is 0.0\n",
      "Error top_4: sum is 0.0\n",
      "Error top_4: sum is 0.0\n",
      "Error top_4: sum is 0.0\n",
      "Error top_4: sum is 0.0\n",
      "Error top_4: sum is 0.0\n",
      "Error top_4: sum is 0.0\n",
      "Error top_4: sum is 0.0\n",
      "Error top_4: sum is 0.0\n",
      "Error top_4: sum is 0.0\n",
      "Error top_4: sum is 0.0\n",
      "Error top_4: sum is 0.0\n",
      "Error top_4: sum is 0.0\n",
      "Error top_4: sum is 0.0\n",
      "Error top_4: sum is 0.0\n",
      "Error top_4: sum is 0.0\n",
      "Error top_4: sum is 0.0\n",
      "Error top_4: sum is 0.0\n",
      "Error top_4: sum is 0.0\n",
      "Error top_4: sum is 0.0\n",
      "Error top_4: sum is 0.0\n",
      "Error top_4: sum is 0.0\n",
      "Error top_4: sum is 0.0\n",
      "Error top_4: sum is 0.0\n",
      "Error top_4: sum is 0.0\n",
      "Error top_4: sum is 0.0\n",
      "Error top_4: sum is 0.0\n",
      "Error top_4: sum is 0.0\n",
      "Error top_4: sum is 0.0\n",
      "Error top_4: sum is 0.0\n",
      "Error top_4: sum is 0.0\n",
      "Error top_4: sum is 0.0\n",
      "Error top_4: sum is 0.0\n",
      "Error top_4: sum is 0.0\n",
      "Error top_4: sum is 0.0\n",
      "Error top_4: sum is 0.0\n",
      "Error top_4: sum is 0.0\n",
      "Error top_4: sum is 0.0\n",
      "Error top_4: sum is 0.0\n",
      "Error top_4: sum is 0.0\n",
      "Error top_4: sum is 0.0\n",
      "Error top_4: sum is 0.0\n",
      "Error top_4: sum is 0.0\n",
      "Error top_4: sum is 0.0\n",
      "Error top_4: sum is 0.0\n",
      "Error top_4: sum is 0.0\n",
      "Error top_4: sum is 0.0\n",
      "Error top_4: sum is 0.0\n",
      "Error top_4: sum is 0.0\n",
      "Error top_4: sum is 0.0\n",
      "Error top_4: sum is 0.0\n",
      "Error top_4: sum is 0.0\n",
      "Error top_4: sum is 0.0\n",
      "Error top_4: sum is 0.0\n",
      "Error top_4: sum is 0.0\n",
      "Error top_4: sum is 0.0\n",
      "Error top_4: sum is 0.0\n",
      "Error top_4: sum is 0.0\n",
      "Error top_4: sum is 0.0\n",
      "Error top_4: sum is 0.0\n",
      "Error top_4: sum is 0.0\n",
      "Error top_4: sum is 0.0\n",
      "Error top_4: sum is 0.0\n",
      "Error top_4: sum is 0.0\n",
      "Error top_4: sum is 0.0\n",
      "Error top_4: sum is 0.0\n",
      "Error top_4: sum is 0.0\n",
      "Error top_4: sum is 0.0\n",
      "Error top_4: sum is 0.0\n",
      "Error top_4: sum is 0.0\n",
      "Error top_4: sum is 0.0\n",
      "Error top_4: sum is 0.0\n",
      "Error top_4: sum is 0.0\n",
      "Error top_4: sum is 0.0\n",
      "Error top_4: sum is 0.0\n",
      "Error top_4: sum is 0.0\n",
      "Error top_4: sum is 0.0\n",
      "Error top_4: sum is 0.0\n",
      "Error top_4: sum is 0.0\n",
      "Error top_4: sum is 0.0\n",
      "Error top_4: sum is 0.0\n",
      "Error top_4: sum is 0.0\n",
      "Error top_4: sum is 0.0\n",
      "Error top_4: sum is 0.0\n",
      "Error top_4: sum is 0.0\n",
      "Error top_4: sum is 0.0\n",
      "Error top_4: sum is 0.0\n",
      "Error top_4: sum is 0.0\n",
      "Error top_4: sum is 0.0\n",
      "Error top_4: sum is 0.0\n",
      "Error top_4: sum is 0.0\n",
      "Error top_4: sum is 0.0\n",
      "Error top_4: sum is 0.0\n",
      "Error top_4: sum is 0.0\n",
      "Error top_4: sum is 0.0\n",
      "Error top_4: sum is 0.0\n",
      "Error top_4: sum is 0.0\n",
      "Error top_4: sum is 0.0\n",
      "Error top_4: sum is 0.0\n",
      "Error top_4: sum is 0.0\n",
      "Error top_4: sum is 0.0\n",
      "Error top_4: sum is 0.0\n",
      "Error top_4: sum is 0.0\n",
      "Error top_4: sum is 0.0\n",
      "Error top_4: sum is 0.0\n",
      "Error top_4: sum is 0.0\n",
      "Error top_4: sum is 0.0\n",
      "Error top_4: sum is 0.0\n",
      "Error top_4: sum is 0.0\n",
      "Error top_4: sum is 0.0\n",
      "Error top_4: sum is 0.0\n",
      "Error top_4: sum is 0.0\n",
      "Error top_4: sum is 0.0\n",
      "Error top_4: sum is 0.0\n",
      "Error top_4: sum is 0.0\n",
      "Error top_4: sum is 0.0\n",
      "Error top_4: sum is 0.0\n",
      "Error top_4: sum is 0.0\n",
      "Error top_4: sum is 0.0\n",
      "Error top_4: sum is 0.0\n",
      "Error top_4: sum is 0.0\n",
      "Error top_4: sum is 0.0\n",
      "Error top_4: sum is 0.0\n",
      "Error top_4: sum is 0.0\n",
      "Error top_4: sum is 0.0\n",
      "Error top_4: sum is 0.0\n",
      "Error top_4: sum is 0.0\n",
      "Error top_4: sum is 0.0\n",
      "Error top_4: sum is 0.0\n",
      "Error top_4: sum is 0.0\n",
      "Error top_4: sum is 0.0\n",
      "Error top_4: sum is 0.0\n",
      "Error top_4: sum is 0.0\n",
      "Error top_4: sum is 0.0\n",
      "Error top_4: sum is 0.0\n",
      "Error top_4: sum is 0.0\n",
      "Error top_4: sum is 0.0\n",
      "Error top_4: sum is 0.0\n",
      "Error top_4: sum is 0.0\n",
      "Error top_4: sum is 0.0\n",
      "Error top_4: sum is 0.0\n",
      "Error top_4: sum is 0.0\n",
      "Error top_4: sum is 0.0\n",
      "Error top_4: sum is 0.0\n",
      "Error top_4: sum is 0.0\n",
      "Error top_4: sum is 0.0\n",
      "Error top_4: sum is 0.0\n",
      "Error top_4: sum is 0.0\n",
      "Error top_4: sum is 0.0\n",
      "Error top_4: sum is 0.0\n",
      "Error top_4: sum is 0.0\n",
      "Error top_4: sum is 0.0\n",
      "Error top_4: sum is 0.0\n",
      "Error top_4: sum is 0.0\n",
      "Error top_4: sum is 0.0\n",
      "Error top_4: sum is 0.0\n",
      "Error top_4: sum is 0.0\n",
      "Error top_4: sum is 0.0\n",
      "Error top_4: sum is 0.0\n",
      "Error top_4: sum is 0.0\n",
      "Error top_4: sum is 0.0\n",
      "Error top_4: sum is 0.0\n",
      "Error top_4: sum is 0.0\n",
      "Error top_4: sum is 0.0\n",
      "Error top_4: sum is 0.0\n",
      "Error top_4: sum is 0.0\n",
      "Error top_4: sum is 0.0\n",
      "Error top_4: sum is 0.0\n",
      "Error top_4: sum is 0.0\n",
      "Error top_4: sum is 0.0\n",
      "Error top_4: sum is 0.0\n",
      "Error top_4: sum is 0.0\n",
      "Error top_4: sum is 0.0\n",
      "Error top_4: sum is 0.0\n",
      "Error top_8: sum is 0.0\n",
      "Error top_8: sum is 0.0\n",
      "Error top_8: sum is 0.0\n",
      "Error top_8: sum is 0.0\n",
      "Error top_8: sum is 0.0\n",
      "Error top_8: sum is 0.0\n",
      "Error top_8: sum is 0.0\n",
      "Error top_8: sum is 0.0\n",
      "Error top_8: sum is 0.0\n",
      "Error top_8: sum is 0.0\n",
      "Error top_8: sum is 0.0\n",
      "Error top_8: sum is 0.0\n",
      "Error top_8: sum is 0.0\n",
      "Error top_8: sum is 0.0\n",
      "Error top_8: sum is 0.0\n",
      "Error top_8: sum is 0.0\n",
      "Error top_8: sum is 0.0\n",
      "Error top_8: sum is 0.0\n",
      "Error top_8: sum is 0.0\n",
      "Error top_8: sum is 0.0\n",
      "Error top_8: sum is 0.0\n",
      "Error top_8: sum is 0.0\n",
      "Error top_8: sum is 0.0\n",
      "Error top_8: sum is 0.0\n",
      "Error top_8: sum is 0.0\n",
      "Error top_8: sum is 0.0\n",
      "Error top_8: sum is 0.0\n",
      "Error top_8: sum is 0.0\n",
      "Error top_8: sum is 0.0\n",
      "Error top_8: sum is 0.0\n",
      "Error top_8: sum is 0.0\n",
      "Error top_8: sum is 0.0\n",
      "Error top_8: sum is 0.0\n",
      "Error top_8: sum is 0.0\n",
      "Error top_8: sum is 0.0\n",
      "Error top_8: sum is 0.0\n",
      "Error top_8: sum is 0.0\n",
      "Error top_8: sum is 0.0\n",
      "Error top_8: sum is 0.0\n",
      "Error top_8: sum is 0.0\n",
      "Error top_8: sum is 0.0\n",
      "Error top_8: sum is 0.0\n",
      "Error top_8: sum is 0.0\n",
      "Error top_8: sum is 0.0\n",
      "Error top_8: sum is 0.0\n",
      "Error top_8: sum is 0.0\n",
      "Error top_8: sum is 0.0\n",
      "Error top_8: sum is 0.0\n",
      "Error top_8: sum is 0.0\n",
      "Error top_8: sum is 0.0\n",
      "Error top_8: sum is 0.0\n",
      "Error top_8: sum is 0.0\n",
      "Error top_8: sum is 0.0\n",
      "Error top_8: sum is 0.0\n",
      "Error top_8: sum is 0.0\n",
      "Error top_8: sum is 0.0\n",
      "Error top_8: sum is 0.0\n",
      "Error top_8: sum is 0.0\n",
      "Error top_8: sum is 0.0\n",
      "Error top_8: sum is 0.0\n",
      "Error top_8: sum is 0.0\n",
      "Error top_8: sum is 0.0\n",
      "Error top_8: sum is 0.0\n",
      "Error top_8: sum is 0.0\n",
      "Error top_8: sum is 0.0\n",
      "Error top_8: sum is 0.0\n",
      "Error top_8: sum is 0.0\n",
      "Error top_8: sum is 0.0\n",
      "Error top_8: sum is 0.0\n",
      "Error top_8: sum is 0.0\n",
      "Error top_8: sum is 0.0\n",
      "Error top_8: sum is 0.0\n",
      "Error top_8: sum is 0.0\n",
      "Error top_8: sum is 0.0\n",
      "Error top_8: sum is 0.0\n",
      "Error top_8: sum is 0.0\n",
      "Error top_8: sum is 0.0\n",
      "Error top_8: sum is 0.0\n",
      "Error top_8: sum is 0.0\n",
      "Error top_8: sum is 0.0\n",
      "Error top_8: sum is 0.0\n",
      "Error top_8: sum is 0.0\n",
      "Error top_8: sum is 0.0\n",
      "Error top_8: sum is 0.0\n",
      "Error top_8: sum is 0.0\n",
      "Error top_8: sum is 0.0\n",
      "Error top_8: sum is 0.0\n",
      "Error top_8: sum is 0.0\n",
      "Error top_8: sum is 0.0\n",
      "Error top_8: sum is 0.0\n",
      "Error top_8: sum is 0.0\n",
      "Error top_8: sum is 0.0\n",
      "Error top_8: sum is 0.0\n",
      "Error top_8: sum is 0.0\n",
      "Error top_8: sum is 0.0\n",
      "Error top_8: sum is 0.0\n",
      "Error top_8: sum is 0.0\n",
      "Error top_8: sum is 0.0\n",
      "Error top_8: sum is 0.0\n",
      "Error top_8: sum is 0.0\n",
      "Error top_8: sum is 0.0\n",
      "Error top_8: sum is 0.0\n",
      "Error top_8: sum is 0.0\n",
      "Error top_8: sum is 0.0\n",
      "Error top_8: sum is 0.0\n",
      "Error top_8: sum is 0.0\n",
      "Error top_8: sum is 0.0\n",
      "Error top_8: sum is 0.0\n",
      "Error top_8: sum is 0.0\n",
      "Error top_8: sum is 0.0\n",
      "Error top_8: sum is 0.0\n",
      "Error top_8: sum is 0.0\n",
      "Error top_8: sum is 0.0\n",
      "Error top_8: sum is 0.0\n",
      "Error top_8: sum is 0.0\n",
      "Error top_8: sum is 0.0\n",
      "Error top_8: sum is 0.0\n",
      "Error top_8: sum is 0.0\n",
      "Error top_8: sum is 0.0\n",
      "Error top_8: sum is 0.0\n",
      "Error top_8: sum is 0.0\n",
      "Error top_8: sum is 0.0\n",
      "Error top_8: sum is 0.0\n",
      "Error top_8: sum is 0.0\n",
      "Error top_8: sum is 0.0\n",
      "Error top_8: sum is 0.0\n",
      "Error top_8: sum is 0.0\n",
      "Error top_8: sum is 0.0\n",
      "Error top_8: sum is 0.0\n",
      "Error top_8: sum is 0.0\n",
      "Error top_8: sum is 0.0\n",
      "Error top_8: sum is 0.0\n",
      "Error top_8: sum is 0.0\n",
      "Error top_8: sum is 0.0\n",
      "Error top_8: sum is 0.0\n",
      "Error top_8: sum is 0.0\n",
      "Error top_8: sum is 0.0\n",
      "Error top_8: sum is 0.0\n",
      "Error top_8: sum is 0.0\n",
      "Error top_8: sum is 0.0\n",
      "Error top_8: sum is 0.0\n",
      "Error top_8: sum is 0.0\n",
      "Error top_8: sum is 0.0\n",
      "Error top_8: sum is 0.0\n",
      "Error top_8: sum is 0.0\n",
      "Error top_8: sum is 0.0\n",
      "Error top_8: sum is 0.0\n",
      "Error top_8: sum is 0.0\n",
      "Error top_8: sum is 0.0\n",
      "Error top_8: sum is 0.0\n",
      "Error top_8: sum is 0.0\n",
      "Error top_8: sum is 0.0\n",
      "Error top_8: sum is 0.0\n",
      "Error top_8: sum is 0.0\n",
      "Error top_8: sum is 0.0\n",
      "Error top_8: sum is 0.0\n",
      "Error top_8: sum is 0.0\n",
      "Error top_8: sum is 0.0\n",
      "Error top_8: sum is 0.0\n",
      "Error top_8: sum is 0.0\n",
      "Error top_8: sum is 0.0\n",
      "Error top_8: sum is 0.0\n",
      "Error top_8: sum is 0.0\n",
      "Error top_8: sum is 0.0\n",
      "Error top_8: sum is 0.0\n",
      "Error top_8: sum is 0.0\n",
      "Error top_8: sum is 0.0\n",
      "Error top_8: sum is 0.0\n",
      "Error top_8: sum is 0.0\n",
      "Error top_8: sum is 0.0\n",
      "Error top_8: sum is 0.0\n",
      "Error top_8: sum is 0.0\n",
      "Error top_8: sum is 0.0\n",
      "Error top_8: sum is 0.0\n",
      "Error top_8: sum is 0.0\n",
      "Error top_8: sum is 0.0\n",
      "Error top_8: sum is 0.0\n",
      "Error top_8: sum is 0.0\n",
      "Error top_8: sum is 0.0\n",
      "Error top_8: sum is 0.0\n",
      "Error top_8: sum is 0.0\n",
      "Error top_8: sum is 0.0\n",
      "Error top_8: sum is 0.0\n",
      "Error top_8: sum is 0.0\n",
      "Error top_8: sum is 0.0\n",
      "Error top_8: sum is 0.0\n",
      "Error top_8: sum is 0.0\n",
      "Error top_8: sum is 0.0\n",
      "Error top_8: sum is 0.0\n",
      "Error top_8: sum is 0.0\n",
      "Error top_8: sum is 0.0\n",
      "Error top_8: sum is 0.0\n",
      "Error top_8: sum is 0.0\n",
      "Error top_8: sum is 0.0\n",
      "Error top_8: sum is 0.0\n",
      "Error top_8: sum is 0.0\n",
      "time: 12.5 s (started: 2025-03-07 11:02:54 +02:00)\n"
     ]
    }
   ],
   "source": [
    "distribution_df = cluster_and_analyze(image_features_reduced, clip_labels_tensor, label_to_name)\n",
    "\n",
    "distribution_df.to_csv(\"cluster_distributions.csv\", index=False)\n",
    "print(distribution_df.head())\n",
    "\n",
    "# Verification: Check if the sums are (approximately) 1.0\n",
    "for n_clusters in [2, 4, 8]:\n",
    "    cluster_cols = [col for col in distribution_df.columns if f'top_{n_clusters}' in col]\n",
    "    sums = distribution_df[cluster_cols].sum(axis=1)\n",
    "    for s in sums:\n",
    "      if not (0.999 < s < 1.001):  #allow for a small margin of error in the comparison\n",
    "        print(f\"Error top_{n_clusters}: sum is {s}\")"
   ]
  },
  {
   "cell_type": "code",
   "execution_count": null,
   "metadata": {},
   "outputs": [
    {
     "name": "stdout",
     "output_type": "stream",
     "text": [
      "  class                  class_name top-2-distribution                 \\\n",
      "                                        cluster 0 dist cluster 1 dist   \n",
      "0     0                   Unknown_0           0.004725       0.006056   \n",
      "1     1  AM General Hummer SUV 2000           0.000295       0.006587   \n",
      "2     2         Acura RL Sedan 2012           0.000295       0.008925   \n",
      "3     3         Acura TL Sedan 2012           0.002510       0.007119   \n",
      "4     4        Acura TL Type-S 2008           0.000886       0.007969   \n",
      "\n",
      "  top-4-distribution                                               \\\n",
      "      cluster 0 dist cluster 1 dist cluster 2 dist cluster 3 dist   \n",
      "0                NaN            NaN            NaN            NaN   \n",
      "1                NaN            NaN            NaN            NaN   \n",
      "2                NaN            NaN            NaN            NaN   \n",
      "3                NaN            NaN            NaN            NaN   \n",
      "4                NaN            NaN            NaN            NaN   \n",
      "\n",
      "  top-8-distribution                 ... top-10-distribution                 \\\n",
      "      cluster 0 dist cluster 1 dist  ...      cluster 0 dist cluster 1 dist   \n",
      "0                NaN            NaN  ...                 NaN            NaN   \n",
      "1                NaN            NaN  ...                 NaN            NaN   \n",
      "2                NaN            NaN  ...                 NaN            NaN   \n",
      "3                NaN            NaN  ...                 NaN            NaN   \n",
      "4                NaN            NaN  ...                 NaN            NaN   \n",
      "\n",
      "                                                                              \\\n",
      "  cluster 2 dist cluster 3 dist cluster 4 dist cluster 5 dist cluster 6 dist   \n",
      "0            NaN            NaN            NaN            NaN            NaN   \n",
      "1            NaN            NaN            NaN            NaN            NaN   \n",
      "2            NaN            NaN            NaN            NaN            NaN   \n",
      "3            NaN            NaN            NaN            NaN            NaN   \n",
      "4            NaN            NaN            NaN            NaN            NaN   \n",
      "\n",
      "                                                \n",
      "  cluster 7 dist cluster 8 dist cluster 9 dist  \n",
      "0            NaN            NaN            NaN  \n",
      "1            NaN            NaN            NaN  \n",
      "2            NaN            NaN            NaN  \n",
      "3            NaN            NaN            NaN  \n",
      "4            NaN            NaN            NaN  \n",
      "\n",
      "[5 rows x 26 columns]\n",
      "time: 1min 13s (started: 2025-03-07 10:38:17 +02:00)\n"
     ]
    }
   ],
   "source": [
    "import pandas as pd\n",
    "from scipy.cluster.hierarchy import linkage, fcluster\n",
    "import torch\n",
    "from sklearn.decomposition import PCA\n",
    "\n",
    "# Perform hierarchical clustering ONCE\n",
    "Z = linkage(image_features_reduced, method='ward')\n",
    "\n",
    "data = []\n",
    "for n_clusters in [2, 4, 8, 10]:\n",
    "    cluster_labels = fcluster(Z, n_clusters, criterion='maxclust')\n",
    "    cluster_data_df = pd.DataFrame({'cluster': cluster_labels})\n",
    "\n",
    "    for label in range(196):\n",
    "        row = {'class': label, 'class_name': label_to_name[label]}\n",
    "        for cluster_id in range(1, n_clusters + 1):  # fcluster labels start from 1\n",
    "            cluster_indices = cluster_data_df['cluster'] == cluster_id\n",
    "            cluster_labels_true = clip_labels_tensor[cluster_indices]\n",
    "            label_counts = torch.bincount(cluster_labels_true, minlength=196)\n",
    "            total_in_cluster = len(cluster_labels_true)\n",
    "            proportion = label_counts[label].item() / total_in_cluster if total_in_cluster > 0 else 0\n",
    "            row[f'top_{n_clusters}_cluster_{cluster_id-1}'] = proportion\n",
    "        data.append(row)\n",
    "\n",
    "\n",
    "distribution_df = pd.DataFrame(data)\n",
    "\n",
    "cluster_levels = []\n",
    "cluster_columns = []\n",
    "for n_clusters in [2, 4, 8, 10]:\n",
    "    for cluster_id in range(n_clusters):\n",
    "        cluster_levels.append(f'top-{n_clusters}-distribution')\n",
    "        cluster_columns.append(f'cluster {cluster_id} dist')\n",
    "\n",
    "distribution_df = distribution_df.set_index(['class', 'class_name'])\n",
    "distribution_df.columns = pd.MultiIndex.from_arrays([cluster_levels, cluster_columns])\n",
    "distribution_df = distribution_df.reset_index()\n",
    "distribution_df.to_csv(\"cluster_distributions.csv\", index=False)\n",
    "print(distribution_df.head())"
   ]
  },
  {
   "cell_type": "markdown",
   "metadata": {},
   "source": [
    "# Utilities\n",
    "Helper functions for:\n",
    "- Imports for context\n",
    "- Data loading and preprocessing\n",
    "- Visualization of images and results\n",
    "- Model evaluation metrics\n",
    "- Training and validation loops"
   ]
  },
  {
   "cell_type": "markdown",
   "metadata": {},
   "source": [
    "## Imports and loading"
   ]
  },
  {
   "cell_type": "code",
   "execution_count": 9,
   "metadata": {},
   "outputs": [
    {
     "name": "stdout",
     "output_type": "stream",
     "text": [
      "time: 2.44 s (started: 2025-03-07 14:58:58 +02:00)\n"
     ]
    }
   ],
   "source": [
    "%%capture\n",
    "import scipy.io\n",
    "import matplotlib.pyplot as plt\n",
    "from PIL import Image\n",
    "import os\n",
    "import numpy as np\n",
    "import matplotlib.pyplot as plt\n",
    "import pandas as pd\n",
    "import gc\n",
    "import textwrap\n",
    "from collections import Counter\n",
    "from tqdm import tqdm\n",
    "from typing import Optional, List, Tuple, Callable, Union\n",
    "import pickle\n",
    "import random\n",
    "import tempfile\n",
    "import zipfile\n",
    "import albumentations as A\n",
    "\n",
    "import torch\n",
    "import torchvision.models as models\n",
    "import torch.multiprocessing as mp\n",
    "import torch.optim as optim\n",
    "import torch.nn as nn\n",
    "from torch.utils.data import DataLoader, Dataset, random_split\n",
    "import torchvision.transforms as transforms\n",
    "import torch.nn.functional as F\n",
    "\n",
    "from sklearn.cluster import KMeans\n",
    "from sklearn.metrics import classification_report, accuracy_score, f1_score, precision_score, recall_score\n",
    "from sklearn.metrics import davies_bouldin_score, calinski_harabasz_score, silhouette_score\n",
    "from sklearn.neighbors import NearestNeighbors\n",
    "from sklearn.decomposition import PCA\n",
    "from sklearn.preprocessing import StandardScaler, normalize\n",
    "\n",
    "import tkinter as tk\n",
    "from tkinter import filedialog\n",
    "from torch.utils.data import WeightedRandomSampler\n"
   ]
  },
  {
   "cell_type": "markdown",
   "metadata": {},
   "source": [
    "Load the tensors (update to gdown first in colab)"
   ]
  },
  {
   "cell_type": "code",
   "execution_count": 10,
   "metadata": {},
   "outputs": [
    {
     "name": "stdout",
     "output_type": "stream",
     "text": [
      "time: 1.1 ms (started: 2025-03-07 14:59:00 +02:00)\n"
     ]
    }
   ],
   "source": [
    "def load_tensors_from_zip(zip_path):\n",
    "    with tempfile.TemporaryDirectory() as temp_dir:\n",
    "        with zipfile.ZipFile(zip_path, 'r') as zip_ref:\n",
    "            zip_ref.extractall(temp_dir)\n",
    "            \n",
    "        images = torch.load(os.path.join(temp_dir, 'images.pt'),map_location=\"cpu\")\n",
    "        labels = torch.load(os.path.join(temp_dir, 'labels.pt'),map_location=\"cpu\")\n",
    "        \n",
    "        print(\"\\n\" + \"=\"*50)\n",
    "        print(f\"Loaded Tensors from: {os.path.basename(zip_path)}\")\n",
    "        print(\"=\"*50)\n",
    "        print(f\"Images Shape: {images.shape}\")\n",
    "        print(f\"Labels Shape: {labels.shape}\")\n",
    "        print(f\"Number of Classes: {len(torch.unique(labels))}\")\n",
    "        print(f\"Memory Usage: {images.element_size() * images.nelement() / 1024 / 1024:.2f} MB\")\n",
    "        print(\"=\"*50 + \"\\n\")\n",
    "        \n",
    "        return images, labels"
   ]
  },
  {
   "cell_type": "markdown",
   "metadata": {},
   "source": [
    "## Saving and Testing"
   ]
  },
  {
   "cell_type": "code",
   "execution_count": 11,
   "metadata": {},
   "outputs": [
    {
     "name": "stdout",
     "output_type": "stream",
     "text": [
      "time: 469 μs (started: 2025-03-07 14:59:00 +02:00)\n"
     ]
    }
   ],
   "source": [
    "def save_best_model(model: nn.Module, model_filename: str) -> None:\n",
    "  # Create a directory for saving models if it doesn't exist\n",
    "  save_dir = os.path.join(os.getcwd(), \"./saved_models\")\n",
    "  os.makedirs(save_dir, exist_ok=True)\n",
    "  \n",
    "  # Save the model locally\n",
    "  save_path = os.path.join(save_dir, model_filename)\n",
    "  torch.save(model.state_dict(), save_path)\n",
    "  print(f\"Model saved to {save_path}\")"
   ]
  },
  {
   "cell_type": "markdown",
   "metadata": {},
   "source": [
    "## Informational"
   ]
  },
  {
   "cell_type": "code",
   "execution_count": 12,
   "metadata": {},
   "outputs": [
    {
     "name": "stdout",
     "output_type": "stream",
     "text": [
      "time: 422 μs (started: 2025-03-07 14:59:00 +02:00)\n"
     ]
    }
   ],
   "source": [
    "def print_params_count(model: nn.Module):\n",
    "    total_params = sum(p.numel() for p in model.parameters())\n",
    "    print(f\"Total number of parameters: {total_params}\")\n",
    "\n",
    "    trainable_params = sum(p.numel() for p in model.parameters() if p.requires_grad)\n",
    "    print(f\"Total number of trainable parameters: {trainable_params}\")"
   ]
  },
  {
   "cell_type": "markdown",
   "metadata": {},
   "source": [
    "## Display images"
   ]
  },
  {
   "cell_type": "code",
   "execution_count": 13,
   "metadata": {},
   "outputs": [
    {
     "name": "stdout",
     "output_type": "stream",
     "text": [
      "time: 721 μs (started: 2025-03-07 14:59:00 +02:00)\n"
     ]
    }
   ],
   "source": [
    "# CAN BE REMOVED!\n",
    "def display_augmented_tensors(images, indices, transform, num_augmentations=3, figsize=(15, 5)):\n",
    "    \"\"\"\n",
    "    Display original tensor images and their augmented versions.\n",
    "    \n",
    "    Args:\n",
    "        images: Tensor of shape [N, C, H, W]\n",
    "        indices: List of indices to display\n",
    "        transform: Albumentations transform pipeline\n",
    "        num_augmentations: Number of augmented versions to show for each image\n",
    "        figsize: Size of the figure (width, height)\n",
    "    \"\"\"\n",
    "    num_images = len(indices)\n",
    "    fig, axes = plt.subplots(num_images, num_augmentations + 1, figsize=figsize)\n",
    "    \n",
    "    if num_images == 1:\n",
    "        axes = axes.reshape(1, -1)\n",
    "    \n",
    "    for row, idx in enumerate(indices):\n",
    "        # Get original image and convert to numpy\n",
    "        original_image = images[idx].squeeze().numpy()\n",
    "        axes[row, 0].imshow(original_image, cmap='gray')\n",
    "        axes[row, 0].set_title('Original')\n",
    "        axes[row, 0].axis('off')\n",
    "        \n",
    "        # Get augmented versions\n",
    "        for col in range(num_augmentations):\n",
    "            # Apply transform multiple times\n",
    "            augmented = transform(image=original_image)['image']\n",
    "            if isinstance(augmented, torch.Tensor):\n",
    "                augmented = augmented.squeeze().numpy()\n",
    "            \n",
    "            axes[row, col + 1].imshow(augmented, cmap='gray')\n",
    "            axes[row, col + 1].set_title(f'Augmented {col + 1}')\n",
    "            axes[row, col + 1].axis('off')\n",
    "    \n",
    "    plt.tight_layout()\n",
    "    plt.show()"
   ]
  },
  {
   "cell_type": "markdown",
   "metadata": {},
   "source": [
    "## Training Utils\n"
   ]
  },
  {
   "cell_type": "markdown",
   "metadata": {},
   "source": [
    "### validate"
   ]
  },
  {
   "cell_type": "code",
   "execution_count": 28,
   "metadata": {},
   "outputs": [
    {
     "name": "stdout",
     "output_type": "stream",
     "text": [
      "time: 208 ms (started: 2025-03-07 15:38:00 +02:00)\n"
     ]
    }
   ],
   "source": [
    "def validate(model: nn.Module, val_loader: DataLoader, device: torch.device, criterion: nn.Module) -> Tuple[float, float]:\n",
    "  \"\"\"\n",
    "    Returns:\n",
    "        Tuple[float, float]: A tuple containing the validation accuracy and average loss.\n",
    "  \"\"\"\n",
    "  model.eval()\n",
    "  correct = 0\n",
    "  total = 0\n",
    "  running_loss = 0.0\n",
    "\n",
    "  with torch.no_grad():\n",
    "        # validation_process = tqdm(val_loader, desc='Validating', leave=False)\n",
    "        for images, labels in val_loader:  \n",
    "            images, labels = images.to(device), labels.to(device)\n",
    "            outputs = model(images)\n",
    "            loss = criterion(outputs, labels)\n",
    "            running_loss += loss.item()\n",
    "            _, predicted = torch.max(outputs.data, 1)\n",
    "            total += labels.size(0)\n",
    "            correct += (predicted == labels).sum().item()\n",
    "\n",
    "  accuracy = 100 * correct / total\n",
    "  avg_loss = running_loss / len(val_loader)\n",
    "\n",
    "  return accuracy, avg_loss"
   ]
  },
  {
   "cell_type": "markdown",
   "metadata": {},
   "source": [
    "### visualize_results"
   ]
  },
  {
   "cell_type": "code",
   "execution_count": 15,
   "metadata": {},
   "outputs": [
    {
     "name": "stdout",
     "output_type": "stream",
     "text": [
      "time: 654 μs (started: 2025-03-07 14:59:00 +02:00)\n"
     ]
    }
   ],
   "source": [
    "def visualize_results(train_losses: List[float], val_losses: List[float], train_accuracies: List[float], val_accuracies: List[float]) -> None:\n",
    "    \"\"\"\n",
    "    Args:\n",
    "        train_losses (List[float]): List of training loss values for each epoch.\n",
    "        val_losses (List[float]): List of validation loss values for each epoch.\n",
    "        train_accuracies (List[float]): List of training accuracy values for each epoch.\n",
    "        val_accuracies (List[float]): List of validation accuracy values for each epoch.\n",
    "    \"\"\"\n",
    "    plt.figure(figsize=(12, 5))\n",
    "\n",
    "    plt.subplot(1, 2, 1)  # Plot for Loss\n",
    "    plt.plot(train_losses, label='Train')\n",
    "    plt.plot(val_losses, label='Validation')\n",
    "    plt.title('Training vs. Validation Loss')\n",
    "    plt.xlabel('Epoch')\n",
    "    plt.ylabel('Loss')\n",
    "    plt.legend()\n",
    "\n",
    "    plt.subplot(1, 2, 2)  # Plot for Accuracy\n",
    "    plt.plot(train_accuracies, label='Train')\n",
    "    plt.plot(val_accuracies, label='Validation')\n",
    "    plt.title('Training vs. Validation Accuracy')\n",
    "    plt.xlabel('Epoch')\n",
    "    plt.ylabel('Accuracy')\n",
    "    plt.legend()\n",
    "\n",
    "    plt.show()"
   ]
  },
  {
   "cell_type": "markdown",
   "metadata": {},
   "source": [
    "### generate_classification_report"
   ]
  },
  {
   "cell_type": "code",
   "execution_count": 16,
   "metadata": {},
   "outputs": [
    {
     "name": "stdout",
     "output_type": "stream",
     "text": [
      "time: 674 μs (started: 2025-03-07 14:59:00 +02:00)\n"
     ]
    }
   ],
   "source": [
    "def generate_classification_report(model: nn.Module, data_loader: DataLoader, device: torch.device) -> None:\n",
    "    y_true: List[int] = []\n",
    "    y_pred: List[int] = []\n",
    "\n",
    "    model.eval()\n",
    "    with torch.no_grad():\n",
    "        for images, labels in data_loader:\n",
    "            images, labels = images.to(device), labels.to(device)\n",
    "            output = model(images)\n",
    "            _, predicted = torch.max(output.data, 1)\n",
    "            y_true.extend(labels.cpu().numpy())\n",
    "            y_pred.extend(predicted.cpu().numpy())\n",
    "\n",
    "    accuracy = accuracy_score(y_true, y_pred)\n",
    "    f1 = f1_score(y_true, y_pred, average='weighted')\n",
    "    precision = precision_score(y_true, y_pred, average='weighted')\n",
    "    recall = recall_score(y_true, y_pred, average='weighted')\n",
    "\n",
    "    print(f\"Accuracy: {accuracy:.4f}\")\n",
    "    print(f\"F1 Score: {f1:.4f}\")\n",
    "    print(f\"Precision: {precision:.4f}\")\n",
    "    print(f\"Recall: {recall:.4f}\")"
   ]
  },
  {
   "cell_type": "markdown",
   "metadata": {},
   "source": [
    "### training_loop"
   ]
  },
  {
   "cell_type": "code",
   "execution_count": 17,
   "metadata": {},
   "outputs": [
    {
     "name": "stdout",
     "output_type": "stream",
     "text": [
      "time: 1.8 ms (started: 2025-03-07 14:59:00 +02:00)\n"
     ]
    }
   ],
   "source": [
    "def training_loop(\n",
    "    model: nn.Module,\n",
    "    optimizer: optim.Optimizer,\n",
    "    criterion: nn.Module,\n",
    "    epochs: int,\n",
    "    train_loader: DataLoader,\n",
    "    val_loader: DataLoader,\n",
    "    scheduler: Optional[optim.lr_scheduler._LRScheduler] = None,\n",
    "    metric_fn: Optional[Callable[[float, float], float]] = None,\n",
    "    is_clip: bool = False,\n",
    "    clip_value: float = 1.0,\n",
    "    is_l1: bool = False,\n",
    "    l1_regularization_strength: float = 0.001, # Added parameter for L1 regularization strength\n",
    "    none_blocking: bool = False,\n",
    "    ) -> Tuple[List[float], List[float], List[float], List[float]]:\n",
    "\n",
    "    # Lists to store training and validation metrics\n",
    "    train_losses = []\n",
    "    val_losses = []\n",
    "    train_accuracies = []\n",
    "    val_accuracies = []\n",
    "\n",
    "    clip_fn = torch.nn.utils.clip_grad_norm_ if is_clip else None\n",
    "\n",
    "    # Training and validation loop\n",
    "    for epoch in range(epochs):\n",
    "        model.train()\n",
    "        running_loss = 0.0\n",
    "        correct = 0\n",
    "        total = 0\n",
    "\n",
    "        train_loop = tqdm(train_loader, desc=f\"Epoch [{epoch+1}/{epochs}]\", leave=False) \n",
    "\n",
    "        for images, labels in train_loop:\n",
    "            images, labels = images.to(device, non_blocking=none_blocking), labels.to(device, non_blocking=none_blocking)\n",
    "\n",
    "            optimizer.zero_grad(set_to_none=True)\n",
    "            outputs = model(images)\n",
    "            loss = criterion(outputs, labels)\n",
    "\n",
    "            if is_l1:\n",
    "              l1_loss = model.calculate_l1_loss(l1_regularization_strength)\n",
    "              total_loss = loss + l1_loss\n",
    "              total_loss.backward()\n",
    "            else:\n",
    "              loss.backward()\n",
    "\n",
    "            if clip_fn:\n",
    "                clip_fn(model.parameters(), clip_value)\n",
    "\n",
    "            optimizer.step()\n",
    "\n",
    "            running_loss += loss.item()\n",
    "            predicted = outputs.argmax(dim=1)\n",
    "            total += labels.size(0)\n",
    "            correct += (predicted == labels).sum().item()\n",
    "\n",
    "        epoch_loss = running_loss / len(train_loader)\n",
    "        train_accuracy = 100 * correct / total\n",
    "\n",
    "        # Store training metrics\n",
    "        train_losses.append(epoch_loss)\n",
    "        train_accuracies.append(train_accuracy)\n",
    "\n",
    "        # Validation\n",
    "        val_accuracy, val_loss = validate(model, val_loader, device, criterion)\n",
    "        val_losses.append(val_loss)\n",
    "        val_accuracies.append(val_accuracy)\n",
    "\n",
    "        if scheduler:\n",
    "            if isinstance(scheduler, optim.lr_scheduler.ReduceLROnPlateau):\n",
    "                scheduler.step(val_loss)  # For ReduceLROnPlateau\n",
    "            else:\n",
    "                scheduler.step()  # For other schedulersz\n",
    "\n",
    "        print(f\"Epoch [{epoch+1}/{epochs}], Loss: {epoch_loss:.4f}, Validation Loss: {val_loss:.4f}, Validation Accuracy: {val_accuracy:.2f}%\")\n",
    "\n",
    "    return train_losses, val_losses, train_accuracies, val_accuracies"
   ]
  },
  {
   "cell_type": "markdown",
   "metadata": {},
   "source": [
    "# Data Preparation\n",
    "In this section, we will:\n",
    "- Load the Stanford Cars dataset\n",
    "- Explore the dataset characteristics\n",
    "- Preprocess the images (resizing, normalization, etc.)\n",
    "- Split the data into training, validation, and test sets"
   ]
  },
  {
   "cell_type": "markdown",
   "metadata": {},
   "source": [
    "## Global variables"
   ]
  },
  {
   "cell_type": "code",
   "execution_count": 18,
   "metadata": {},
   "outputs": [
    {
     "name": "stdout",
     "output_type": "stream",
     "text": [
      "\n",
      "==================================================\n",
      "Loaded Tensors from: train_tensors.zip\n",
      "==================================================\n",
      "Images Shape: torch.Size([45440, 1, 160, 160])\n",
      "Labels Shape: torch.Size([45440])\n",
      "Number of Classes: 196\n",
      "Memory Usage: 4437.50 MB\n",
      "==================================================\n",
      "\n",
      "\n",
      "==================================================\n",
      "Loaded Tensors from: test_tensors.zip\n",
      "==================================================\n",
      "Images Shape: torch.Size([4825, 1, 160, 160])\n",
      "Labels Shape: torch.Size([4825])\n",
      "Number of Classes: 196\n",
      "Memory Usage: 471.19 MB\n",
      "==================================================\n",
      "\n",
      "time: 12 s (started: 2025-03-07 14:59:07 +02:00)\n"
     ]
    }
   ],
   "source": [
    "device = torch.device(\"mps\" if torch.backends.mps.is_available() else \"cuda\" if torch.cuda.is_available() else \"cpu\")\n",
    "train_images, train_labels = load_tensors_from_zip('./content/train_tensors.zip')\n",
    "test_images, test_labels = load_tensors_from_zip('./content/test_tensors.zip')\n",
    "batch_size = 64\n",
    "num_workers=4"
   ]
  },
  {
   "cell_type": "markdown",
   "metadata": {},
   "source": [
    "## CarDataset"
   ]
  },
  {
   "cell_type": "code",
   "execution_count": 19,
   "metadata": {},
   "outputs": [
    {
     "name": "stdout",
     "output_type": "stream",
     "text": [
      "time: 658 μs (started: 2025-03-07 14:59:19 +02:00)\n"
     ]
    }
   ],
   "source": [
    "class CarDataset(Dataset):\n",
    "    def __init__(self, images, labels, transform=None):\n",
    "        self.images = images\n",
    "        self.labels = labels\n",
    "        self.transform = transform\n",
    "    \n",
    "    def __len__(self):\n",
    "        return len(self.labels)\n",
    "    \n",
    "    def __getitem__(self, idx):\n",
    "        image = self.images[idx]\n",
    "        label = self.labels[idx]\n",
    "        \n",
    "        # if self.transform:\n",
    "        #    if torch.is_tensor(image):\n",
    "        #       image = image.squeeze().numpy()\n",
    "        #    transformed = self.transform(image=image)\n",
    "        #    image = transformed['image'] \n",
    "     \n",
    "        # if not torch.is_tensor(image):\n",
    "        #     image = torch.from_numpy(image)\n",
    "        \n",
    "            \n",
    "        return image, label"
   ]
  },
  {
   "cell_type": "markdown",
   "metadata": {},
   "source": [
    "## Data Loaders"
   ]
  },
  {
   "cell_type": "code",
   "execution_count": 20,
   "metadata": {},
   "outputs": [
    {
     "name": "stdout",
     "output_type": "stream",
     "text": [
      "time: 536 μs (started: 2025-03-07 14:59:19 +02:00)\n"
     ]
    }
   ],
   "source": [
    "def create_sampler_with_weighted_sampler(labels):\n",
    "    class_counts = torch.bincount(labels)\n",
    "    weights = 1.0 / class_counts.float()\n",
    "    sample_weights = weights[labels]\n",
    "\n",
    "    sampler = WeightedRandomSampler(\n",
    "        weights=sample_weights,\n",
    "        num_samples=len(labels),\n",
    "        replacement=True\n",
    "    )\n",
    "    return sampler\n"
   ]
  },
  {
   "cell_type": "code",
   "execution_count": 21,
   "metadata": {},
   "outputs": [
    {
     "name": "stdout",
     "output_type": "stream",
     "text": [
      "time: 870 μs (started: 2025-03-07 14:59:19 +02:00)\n"
     ]
    }
   ],
   "source": [
    "def create_train_val_loaders(train_images, train_labels, val_size=0.15, batch_size=batch_size, num_workers=num_workers, seed=42):\n",
    "    torch.manual_seed(seed)\n",
    "    dataset_size = len(train_labels)\n",
    "    val_length = int(dataset_size * val_size)\n",
    "    train_length = dataset_size - val_length\n",
    "    \n",
    "    full_train_dataset = CarDataset(\n",
    "        train_images, \n",
    "        train_labels,\n",
    "    )\n",
    "    \n",
    "    train_subset, val_subset = random_split(\n",
    "        full_train_dataset, \n",
    "        [train_length, val_length],\n",
    "        generator=torch.Generator().manual_seed(seed)\n",
    "    )\n",
    "    \n",
    "    # train_subset.dataset.transform = train_transform \n",
    "    \n",
    "\n",
    "    train_loader = DataLoader(\n",
    "        train_subset,\n",
    "        batch_size=batch_size,\n",
    "        shuffle=True,\n",
    "        # sampler=create_sampler_with_weighted_sampler(train_subset.dataset.labels),\n",
    "        # num_workers=num_workers,\n",
    "        # persistent_workers=True,\n",
    "        pin_memory=True\n",
    "    )\n",
    "    \n",
    "    val_loader = DataLoader(\n",
    "        val_subset,\n",
    "        batch_size=batch_size,\n",
    "        shuffle=False,\n",
    "        # num_workers=num_workers,\n",
    "        # persistent_workers=True,\n",
    "        pin_memory=True\n",
    "    )\n",
    "    \n",
    "    print(\"\\n\" + \"=\"*50)\n",
    "    print(\"Data Split Information\")\n",
    "    print(\"=\"*50)\n",
    "    print(f\"Total dataset size: {dataset_size}\")\n",
    "    print(f\"Training set size: {train_length}\")\n",
    "    print(f\"Validation set size: {val_length}\")\n",
    "    print(f\"Number of training batches: {len(train_loader)}\")\n",
    "    print(f\"Number of validation batches: {len(val_loader)}\")\n",
    "    print(\"=\"*50 + \"\\n\")\n",
    "    \n",
    "    return train_loader, val_loader\n"
   ]
  },
  {
   "cell_type": "code",
   "execution_count": 22,
   "metadata": {},
   "outputs": [
    {
     "name": "stdout",
     "output_type": "stream",
     "text": [
      "\n",
      "==================================================\n",
      "Data Split Information\n",
      "==================================================\n",
      "Batch size: 64\n",
      "Number of workers: 3\n",
      "Total dataset size: 45440\n",
      "Training set size: 38624\n",
      "Validation set size: 6816\n",
      "Number of training batches: 604\n",
      "Number of validation batches: 107\n",
      "==================================================\n",
      "\n",
      "time: 8.69 ms (started: 2025-03-07 14:59:19 +02:00)\n"
     ]
    }
   ],
   "source": [
    "%autoreload 2\n",
    "\n",
    "import data_utils as du\n",
    "\n",
    "if __name__ == '__main__':\n",
    "    train_loader, val_loader = du.create_train_val_loaders(train_images, train_labels, batch_size=64, num_workers=3)\n",
    "\n",
    "    test_dataset = du.CarDataset(test_images, test_labels)\n",
    "    test_loader = DataLoader(\n",
    "        test_dataset,\n",
    "        batch_size=batch_size,\n",
    "        shuffle=False,\n",
    "        pin_memory=True\n",
    "    )"
   ]
  },
  {
   "cell_type": "markdown",
   "metadata": {},
   "source": [
    "# Experiment 1: Basic CNN Architecture\n",
    "\n",
    "Architecture:\n",
    "* **Sequential Convolutional Feature Extraction:**\n",
    "    * The model utilizes four convolutional layers with increasing filter counts (8, 16, 32, 64) to progressively extract features from grayscale input images. Batch normalization and ReLU activation are applied after each convolution.\n",
    "* **Max Pooling for Downsampling:**\n",
    "    * Max pooling layers are used after each convolutional block to reduce the spatial dimensions of feature maps, making the network more invariant to small shifts and reducing computational load.\n",
    "* **Global Average Pooling (GAP):**\n",
    "    * Global average pooling is employed to summarize the spatial information of the final feature maps into a single value per channel, effectively reducing the feature maps to a 1x1 shape.\n",
    "* **Fully Connected Classification:**\n",
    "    * A fully connected linear layer maps the GAP output to the class probabilities, followed by a log softmax activation for classification.\n",
    "\n"
   ]
  },
  {
   "cell_type": "code",
   "execution_count": 40,
   "metadata": {},
   "outputs": [
    {
     "name": "stdout",
     "output_type": "stream",
     "text": [
      "Total number of parameters: 37364\n",
      "Total number of trainable parameters: 37364\n",
      "time: 58.3 ms (started: 2025-03-07 14:47:25 +02:00)\n"
     ]
    }
   ],
   "source": [
    "class Grayscale_CNN_exp_1_GAP(nn.Module):\n",
    "    def __init__(self, num_classes=196):\n",
    "        super(Grayscale_CNN_exp_1_GAP, self).__init__()\n",
    "        self.conv1 = nn.Conv2d(1, 8, kernel_size=3, padding='same')\n",
    "        self.bn1 = nn.BatchNorm2d(8)\n",
    "        self.conv2 = nn.Conv2d(8, 16, kernel_size=3, padding='same')\n",
    "        self.bn2 = nn.BatchNorm2d(16)\n",
    "        self.conv3 = nn.Conv2d(16, 32, kernel_size=3, padding='same')\n",
    "        self.bn3 = nn.BatchNorm2d(32)\n",
    "        self.conv4 = nn.Conv2d(32, 64, kernel_size=3, padding='same')\n",
    "        self.bn4 = nn.BatchNorm2d(64)\n",
    "        self.pool = nn.MaxPool2d(2, 2)\n",
    "\n",
    "        # Global Average Pooling Layer\n",
    "        self.gap = nn.AdaptiveAvgPool2d((1, 1))  # Output size of (1, 1)\n",
    "\n",
    "        # Final classification layer\n",
    "        self.fc3 = nn.Linear(64, num_classes)  # Input is now just the number of channels\n",
    "\n",
    "    def forward(self, x):\n",
    "        x = F.relu(self.bn1(self.conv1(x)))\n",
    "        x = self.pool(x)\n",
    "        x = F.relu(self.bn2(self.conv2(x)))\n",
    "        x = self.pool(x)\n",
    "        x = F.relu(self.bn3(self.conv3(x)))\n",
    "        x = self.pool(x)\n",
    "        x = F.relu(self.bn4(self.conv4(x)))\n",
    "        x = self.pool(x)\n",
    "\n",
    "        # Apply Global Average Pooling\n",
    "        x = self.gap(x)\n",
    "        x = torch.flatten(x, 1)  # Flatten to [batch_size, 64]\n",
    "\n",
    "        # Classification\n",
    "        x = self.fc3(x)\n",
    "        x = F.log_softmax(x, dim=1)\n",
    "        return x\n",
    "# Create an instance of the model\n",
    "grayscale_cnn_exp1_model = Grayscale_CNN_exp_1_GAP()\n",
    "grayscale_cnn_exp1_model.to(device)\n",
    "print_params_count(grayscale_cnn_exp1_model)"
   ]
  },
  {
   "cell_type": "code",
   "execution_count": 41,
   "metadata": {},
   "outputs": [
    {
     "name": "stderr",
     "output_type": "stream",
     "text": [
      "                                                              \r"
     ]
    },
    {
     "name": "stdout",
     "output_type": "stream",
     "text": [
      "Epoch [1/5], Loss: 5.2578, Validation Loss: 5.2147, Validation Accuracy: 1.23%\n"
     ]
    },
    {
     "name": "stderr",
     "output_type": "stream",
     "text": [
      "                                                              \r"
     ]
    },
    {
     "name": "stdout",
     "output_type": "stream",
     "text": [
      "Epoch [2/5], Loss: 5.1152, Validation Loss: 5.2385, Validation Accuracy: 1.86%\n"
     ]
    },
    {
     "name": "stderr",
     "output_type": "stream",
     "text": [
      "                                                              \r"
     ]
    },
    {
     "name": "stdout",
     "output_type": "stream",
     "text": [
      "Epoch [3/5], Loss: 4.8356, Validation Loss: 5.3035, Validation Accuracy: 2.48%\n"
     ]
    },
    {
     "name": "stderr",
     "output_type": "stream",
     "text": [
      "                                                              \r"
     ]
    },
    {
     "name": "stdout",
     "output_type": "stream",
     "text": [
      "Epoch [4/5], Loss: 4.4409, Validation Loss: 4.6997, Validation Accuracy: 4.61%\n"
     ]
    },
    {
     "name": "stderr",
     "output_type": "stream",
     "text": [
      "                                                              \r"
     ]
    },
    {
     "name": "stdout",
     "output_type": "stream",
     "text": [
      "Epoch [5/5], Loss: 4.1058, Validation Loss: 4.7027, Validation Accuracy: 7.60%\n"
     ]
    },
    {
     "data": {
      "image/png": "[encoded data removed]",
      "text/plain": [
       "<Figure size 1200x500 with 2 Axes>"
      ]
     },
     "metadata": {},
     "output_type": "display_data"
    },
    {
     "name": "stdout",
     "output_type": "stream",
     "text": [
      "Accuracy: 0.0730\n",
      "F1 Score: 0.0537\n",
      "Precision: 0.1146\n",
      "Recall: 0.0730\n",
      "time: 1min 34s (started: 2025-03-07 14:47:27 +02:00)\n"
     ]
    },
    {
     "name": "stderr",
     "output_type": "stream",
     "text": [
      "/Users/yoavgal/code/car-classification/.conda/lib/python3.11/site-packages/sklearn/metrics/_classification.py:1565: UndefinedMetricWarning: Precision is ill-defined and being set to 0.0 in labels with no predicted samples. Use `zero_division` parameter to control this behavior.\n",
      "  _warn_prf(average, modifier, f\"{metric.capitalize()} is\", len(result))\n"
     ]
    }
   ],
   "source": [
    "epochs=5 # 100 \n",
    "lr=0.01\n",
    "criterion = torch.nn.CrossEntropyLoss()\n",
    "optimizer = optim.Adam(grayscale_cnn_exp1_model.parameters(), lr)\n",
    "\n",
    "train_loss, val_loss, train_acc, val_acc = training_loop(\n",
    "    grayscale_cnn_exp1_model, optimizer, criterion, epochs, train_loader, val_loader, is_clip=True ,none_blocking=True)\n",
    "\n",
    "visualize_results(train_loss, val_loss, train_acc, val_acc)\n",
    "generate_classification_report(grayscale_cnn_exp1_model, test_loader, device)"
   ]
  },
  {
   "cell_type": "markdown",
   "metadata": {},
   "source": [
    "# Experiment 2: Depthwise Separable Convolutions\n",
    "\n",
    "Architecture:\n",
    "*   **Depthwise Separable Convolutions:** Utilizes depthwise separable convolutions as the primary building block, drastically reducing the number of parameters and operations compared to standard convolutions. This is the key to its small size - inspiered by moblieNet.\n",
    "\n",
    "*   **Strategic Downsampling:** Uses a combination of strided convolutions and max pooling to progressively reduce spatial dimensions, balancing feature extraction with computational efficiency.\n",
    "\n",
    "*    **Regularization:** Includes Batch Normalization and Dropout to improve training stability and prevent overfitting, important given the from-scratch training and limited data.\n",
    "\n",
    "*    **Global Average Pooling:** Employs global average pooling before the final layer to significantly reduce the number of parameters and add translational invariance.\n",
    "\n"
   ]
  },
  {
   "cell_type": "code",
   "execution_count": 26,
   "metadata": {},
   "outputs": [
    {
     "name": "stdout",
     "output_type": "stream",
     "text": [
      "Total number of parameters: 63780\n",
      "Total number of trainable parameters: 63780\n",
      "time: 110 ms (started: 2025-03-07 15:33:28 +02:00)\n"
     ]
    }
   ],
   "source": [
    "class DepthwiseSeparableConv(nn.Module):\n",
    "    def __init__(self, in_channels, out_channels, kernel_size, stride=1, padding=0):\n",
    "        super(DepthwiseSeparableConv, self).__init__()\n",
    "        self.depthwise = nn.Conv2d(in_channels, in_channels, kernel_size, stride, padding, groups=in_channels)\n",
    "        self.pointwise = nn.Conv2d(in_channels, out_channels, 1)\n",
    "        self.bn_dw = nn.BatchNorm2d(in_channels)\n",
    "        self.bn_pw = nn.BatchNorm2d(out_channels)\n",
    "\n",
    "\n",
    "    def forward(self, x):\n",
    "        x = F.relu(self.bn_dw(self.depthwise(x)))\n",
    "        x = F.relu(self.bn_pw(self.pointwise(x)))\n",
    "        return x\n",
    "\n",
    "class SmallCNN(nn.Module):\n",
    "    def __init__(self, num_classes=196):\n",
    "        super(SmallCNN, self).__init__()\n",
    "        self.conv1 = nn.Conv2d(1, 8, 3, stride=2, padding=1)\n",
    "        self.bn1 = nn.BatchNorm2d(8)\n",
    "\n",
    "        self.block1 = self._make_block(8, 16)\n",
    "        self.block2 = self._make_block(16, 32)\n",
    "        self.block3 = self._make_block(32, 64)\n",
    "        self.block4 = self._make_block(64, 128)\n",
    "\n",
    "        self.global_avg_pool = nn.AdaptiveAvgPool2d((1, 1))\n",
    "        self.dropout = nn.Dropout(0.5)\n",
    "        self.fc = nn.Linear(128, num_classes)\n",
    "\n",
    "    def _make_block(self, in_channels, out_channels):\n",
    "        return nn.Sequential(\n",
    "            DepthwiseSeparableConv(in_channels, out_channels, 3, stride=1, padding=1),\n",
    "            DepthwiseSeparableConv(out_channels, out_channels, 3, stride=1, padding=1),\n",
    "            nn.MaxPool2d(2,2)\n",
    "        )\n",
    "\n",
    "    def forward(self, x):\n",
    "        x = F.relu(self.bn1(self.conv1(x)))\n",
    "        x = self.block1(x)\n",
    "        x = self.block2(x)\n",
    "        x = self.block3(x)\n",
    "        x = self.block4(x)\n",
    "        x = self.global_avg_pool(x)\n",
    "        x = x.view(x.size(0), -1)  # Flatten\n",
    "        x = self.dropout(x)\n",
    "        x = self.fc(x)\n",
    "        return x\n",
    "\n",
    "small_cnn_exp_2 = SmallCNN()\n",
    "small_cnn_exp_2.to(device)\n",
    "print_params_count(small_cnn_exp_2)"
   ]
  },
  {
   "cell_type": "code",
   "execution_count": 34,
   "metadata": {},
   "outputs": [
    {
     "name": "stderr",
     "output_type": "stream",
     "text": [
      "                                                               \r"
     ]
    },
    {
     "name": "stdout",
     "output_type": "stream",
     "text": [
      "Epoch [1/20], Loss: 3.0595, Validation Loss: 2.6734, Validation Accuracy: 31.34%\n"
     ]
    },
    {
     "name": "stderr",
     "output_type": "stream",
     "text": [
      "                                                               \r"
     ]
    },
    {
     "name": "stdout",
     "output_type": "stream",
     "text": [
      "Epoch [2/20], Loss: 3.0773, Validation Loss: 2.7552, Validation Accuracy: 29.61%\n"
     ]
    },
    {
     "name": "stderr",
     "output_type": "stream",
     "text": [
      "                                                               \r"
     ]
    },
    {
     "name": "stdout",
     "output_type": "stream",
     "text": [
      "Epoch [3/20], Loss: 3.0592, Validation Loss: 2.5757, Validation Accuracy: 33.61%\n"
     ]
    },
    {
     "name": "stderr",
     "output_type": "stream",
     "text": [
      "                                                               \r"
     ]
    },
    {
     "name": "stdout",
     "output_type": "stream",
     "text": [
      "Epoch [4/20], Loss: 3.0611, Validation Loss: 2.7096, Validation Accuracy: 31.26%\n"
     ]
    },
    {
     "name": "stderr",
     "output_type": "stream",
     "text": [
      "                                                               \r"
     ]
    },
    {
     "name": "stdout",
     "output_type": "stream",
     "text": [
      "Epoch [5/20], Loss: 3.0616, Validation Loss: 2.7766, Validation Accuracy: 29.23%\n"
     ]
    },
    {
     "name": "stderr",
     "output_type": "stream",
     "text": [
      "                                                               \r"
     ]
    },
    {
     "name": "stdout",
     "output_type": "stream",
     "text": [
      "Epoch [6/20], Loss: 3.0529, Validation Loss: 2.6261, Validation Accuracy: 32.56%\n"
     ]
    },
    {
     "name": "stderr",
     "output_type": "stream",
     "text": [
      "                                                               \r"
     ]
    },
    {
     "name": "stdout",
     "output_type": "stream",
     "text": [
      "Epoch [7/20], Loss: 3.0478, Validation Loss: 2.6693, Validation Accuracy: 32.19%\n"
     ]
    },
    {
     "name": "stderr",
     "output_type": "stream",
     "text": [
      "                                                               \r"
     ]
    },
    {
     "name": "stdout",
     "output_type": "stream",
     "text": [
      "Epoch [8/20], Loss: 3.0584, Validation Loss: 2.5998, Validation Accuracy: 32.98%\n"
     ]
    },
    {
     "name": "stderr",
     "output_type": "stream",
     "text": [
      "                                                               \r"
     ]
    },
    {
     "name": "stdout",
     "output_type": "stream",
     "text": [
      "Epoch [9/20], Loss: 3.0420, Validation Loss: 2.6693, Validation Accuracy: 31.75%\n"
     ]
    },
    {
     "name": "stderr",
     "output_type": "stream",
     "text": [
      "                                                                \r"
     ]
    },
    {
     "name": "stdout",
     "output_type": "stream",
     "text": [
      "Epoch [10/20], Loss: 3.0484, Validation Loss: 2.6645, Validation Accuracy: 31.53%\n"
     ]
    },
    {
     "name": "stderr",
     "output_type": "stream",
     "text": [
      "                                                                \r"
     ]
    },
    {
     "name": "stdout",
     "output_type": "stream",
     "text": [
      "Epoch [11/20], Loss: 3.0339, Validation Loss: 2.5796, Validation Accuracy: 33.25%\n"
     ]
    },
    {
     "name": "stderr",
     "output_type": "stream",
     "text": [
      "                                                                \r"
     ]
    },
    {
     "name": "stdout",
     "output_type": "stream",
     "text": [
      "Epoch [12/20], Loss: 3.0324, Validation Loss: 2.7093, Validation Accuracy: 31.38%\n"
     ]
    },
    {
     "name": "stderr",
     "output_type": "stream",
     "text": [
      "                                                                \r"
     ]
    },
    {
     "name": "stdout",
     "output_type": "stream",
     "text": [
      "Epoch [13/20], Loss: 3.0344, Validation Loss: 2.6595, Validation Accuracy: 32.35%\n"
     ]
    },
    {
     "name": "stderr",
     "output_type": "stream",
     "text": [
      "                                                                \r"
     ]
    },
    {
     "name": "stdout",
     "output_type": "stream",
     "text": [
      "Epoch [14/20], Loss: 3.0344, Validation Loss: 2.5888, Validation Accuracy: 33.89%\n"
     ]
    },
    {
     "name": "stderr",
     "output_type": "stream",
     "text": [
      "                                                                \r"
     ]
    },
    {
     "name": "stdout",
     "output_type": "stream",
     "text": [
      "Epoch [15/20], Loss: 3.0308, Validation Loss: 2.6489, Validation Accuracy: 32.38%\n"
     ]
    },
    {
     "name": "stderr",
     "output_type": "stream",
     "text": [
      "                                                                \r"
     ]
    },
    {
     "name": "stdout",
     "output_type": "stream",
     "text": [
      "Epoch [16/20], Loss: 3.0130, Validation Loss: 2.5673, Validation Accuracy: 34.01%\n"
     ]
    },
    {
     "name": "stderr",
     "output_type": "stream",
     "text": [
      "                                                                \r"
     ]
    },
    {
     "name": "stdout",
     "output_type": "stream",
     "text": [
      "Epoch [17/20], Loss: 3.0200, Validation Loss: 2.5866, Validation Accuracy: 34.02%\n"
     ]
    },
    {
     "name": "stderr",
     "output_type": "stream",
     "text": [
      "                                                                \r"
     ]
    },
    {
     "name": "stdout",
     "output_type": "stream",
     "text": [
      "Epoch [18/20], Loss: 3.0188, Validation Loss: 2.5607, Validation Accuracy: 33.26%\n"
     ]
    },
    {
     "name": "stderr",
     "output_type": "stream",
     "text": [
      "                                                                \r"
     ]
    },
    {
     "name": "stdout",
     "output_type": "stream",
     "text": [
      "Epoch [19/20], Loss: 3.0143, Validation Loss: 2.6973, Validation Accuracy: 30.05%\n"
     ]
    },
    {
     "name": "stderr",
     "output_type": "stream",
     "text": [
      "                                                                \r"
     ]
    },
    {
     "name": "stdout",
     "output_type": "stream",
     "text": [
      "Epoch [20/20], Loss: 3.0083, Validation Loss: 2.5824, Validation Accuracy: 33.03%\n"
     ]
    },
    {
     "data": {
      "image/png": "[encoded data removed]",
      "text/plain": [
       "<Figure size 1200x500 with 2 Axes>"
      ]
     },
     "metadata": {},
     "output_type": "display_data"
    },
    {
     "name": "stdout",
     "output_type": "stream",
     "text": [
      "Accuracy: 0.3084\n",
      "F1 Score: 0.3020\n",
      "Precision: 0.3452\n",
      "Recall: 0.3084\n",
      "time: 8min 25s (started: 2025-03-07 16:22:23 +02:00)\n"
     ]
    },
    {
     "name": "stderr",
     "output_type": "stream",
     "text": [
      "/Users/yoavgal/code/car-classification/.conda/lib/python3.11/site-packages/sklearn/metrics/_classification.py:1565: UndefinedMetricWarning: Precision is ill-defined and being set to 0.0 in labels with no predicted samples. Use `zero_division` parameter to control this behavior.\n",
      "  _warn_prf(average, modifier, f\"{metric.capitalize()} is\", len(result))\n"
     ]
    }
   ],
   "source": [
    "epochs=20\n",
    "lr=0.02\n",
    "\n",
    "optimizer = optim.Adam(small_cnn_exp_2.parameters(), lr)  # Adjust learning rate\n",
    "criterion = nn.CrossEntropyLoss()\n",
    "\n",
    "train_loss, val_loss, train_acc, val_acc = training_loop(\n",
    "    small_cnn_exp_2, optimizer, criterion, epochs, train_loader, val_loader, is_clip=True ,none_blocking=True)\n",
    "\n",
    "visualize_results(train_loss, val_loss, train_acc, val_acc)\n",
    "generate_classification_report(small_cnn_exp_2, test_loader, device)"
   ]
  },
  {
   "cell_type": "markdown",
   "metadata": {},
   "source": [
    "# EXP 3.1"
   ]
  },
  {
   "cell_type": "code",
   "execution_count": 41,
   "metadata": {},
   "outputs": [
    {
     "name": "stdout",
     "output_type": "stream",
     "text": [
      "Total number of parameters: 11572\n",
      "Total number of trainable parameters: 11572\n",
      "time: 50.6 ms (started: 2025-03-07 17:07:07 +02:00)\n"
     ]
    }
   ],
   "source": [
    "import torch\n",
    "import torch.nn as nn\n",
    "import torch.nn.functional as F\n",
    "\n",
    "class DepthwiseSeparableConv(nn.Module):\n",
    "    def __init__(self, in_channels, out_channels, kernel_size, stride=1, padding=0):\n",
    "        super(DepthwiseSeparableConv, self).__init__()\n",
    "        self.depthwise = nn.Conv2d(in_channels, in_channels, kernel_size, stride, padding, groups=in_channels)\n",
    "        self.pointwise = nn.Conv2d(in_channels, out_channels, 1)\n",
    "        self.bn_dw = nn.BatchNorm2d(in_channels)\n",
    "        self.bn_pw = nn.BatchNorm2d(out_channels)\n",
    "\n",
    "    def forward(self, x):\n",
    "        x = F.relu(self.bn_dw(self.depthwise(x)))\n",
    "        x = F.relu(self.bn_pw(self.pointwise(x)))\n",
    "        return x\n",
    "\n",
    "class FasterCNN(nn.Module):  # Renamed for clarity\n",
    "    def __init__(self, num_classes=196, use_global_max_pool=False):\n",
    "        super(FasterCNN, self).__init__()\n",
    "        self.use_global_max_pool = use_global_max_pool\n",
    "\n",
    "        # Aggressive downsampling in the first layer\n",
    "        self.conv1 = nn.Conv2d(1, 8, 3, stride=2, padding=1)  # Initial downsampling\n",
    "        self.bn1 = nn.BatchNorm2d(8)\n",
    "        self.block1 = self._make_block(8, 16, stride=2)  # Downsample again\n",
    "        self.block2 = self._make_block(16, 24, stride=2) # Fewer channels, fewer blocks\n",
    "        self.block3 = self._make_block(24, 32, stride=2)  # Downsample in blocks\n",
    "\n",
    "        # Choose pooling type\n",
    "        if self.use_global_max_pool:\n",
    "          self.global_pool = nn.AdaptiveMaxPool2d((1, 1))\n",
    "        else:\n",
    "          self.global_pool = nn.AdaptiveAvgPool2d((1, 1))\n",
    "\n",
    "\n",
    "        self.dropout = nn.Dropout(0.3)  # Less dropout, faster training (regularization tradeoff)\n",
    "        self.fc = nn.Linear(32, num_classes)  # Adjust input features\n",
    "\n",
    "\n",
    "    def _make_block(self, in_channels, out_channels, stride=1):\n",
    "        return nn.Sequential(\n",
    "            DepthwiseSeparableConv(in_channels, out_channels, 3, stride=stride, padding=1),  # Stride here\n",
    "            DepthwiseSeparableConv(out_channels, out_channels, 3, stride=1, padding=1),\n",
    "        )\n",
    "\n",
    "    def forward(self, x):\n",
    "        x = F.relu(self.bn1(self.conv1(x)))\n",
    "        x = self.block1(x)\n",
    "        x = self.block2(x)\n",
    "        x = self.block3(x)\n",
    "        x = self.global_pool(x)\n",
    "        x = x.view(x.size(0), -1)\n",
    "        x = self.dropout(x)\n",
    "        x = self.fc(x)\n",
    "        return x\n",
    "\n",
    "small_CNN = FasterCNN(use_global_max_pool=True)\n",
    "small_CNN.to(device)\n",
    "print_params_count(small_CNN)"
   ]
  },
  {
   "cell_type": "code",
   "execution_count": 43,
   "metadata": {},
   "outputs": [
    {
     "name": "stderr",
     "output_type": "stream",
     "text": [
      "                                                               \r"
     ]
    },
    {
     "name": "stdout",
     "output_type": "stream",
     "text": [
      "Epoch [1/30], Loss: 5.4387, Validation Loss: 5.2744, Validation Accuracy: 0.88%\n"
     ]
    },
    {
     "name": "stderr",
     "output_type": "stream",
     "text": [
      "                                                               \r"
     ]
    },
    {
     "name": "stdout",
     "output_type": "stream",
     "text": [
      "Epoch [2/30], Loss: 5.2766, Validation Loss: 5.2734, Validation Accuracy: 0.92%\n"
     ]
    },
    {
     "name": "stderr",
     "output_type": "stream",
     "text": [
      "                                                               \r"
     ]
    },
    {
     "name": "stdout",
     "output_type": "stream",
     "text": [
      "Epoch [3/30], Loss: 5.2692, Validation Loss: 5.2622, Validation Accuracy: 1.01%\n"
     ]
    },
    {
     "name": "stderr",
     "output_type": "stream",
     "text": [
      "                                                               \r"
     ]
    },
    {
     "name": "stdout",
     "output_type": "stream",
     "text": [
      "Epoch [4/30], Loss: 5.2528, Validation Loss: 5.2391, Validation Accuracy: 1.01%\n"
     ]
    },
    {
     "name": "stderr",
     "output_type": "stream",
     "text": [
      "                                                               \r"
     ]
    },
    {
     "name": "stdout",
     "output_type": "stream",
     "text": [
      "Epoch [5/30], Loss: 5.2303, Validation Loss: 5.2192, Validation Accuracy: 1.14%\n"
     ]
    },
    {
     "name": "stderr",
     "output_type": "stream",
     "text": [
      "                                                               \r"
     ]
    },
    {
     "name": "stdout",
     "output_type": "stream",
     "text": [
      "Epoch [6/30], Loss: 5.1993, Validation Loss: 5.1849, Validation Accuracy: 1.50%\n"
     ]
    },
    {
     "name": "stderr",
     "output_type": "stream",
     "text": [
      "                                                               \r"
     ]
    },
    {
     "name": "stdout",
     "output_type": "stream",
     "text": [
      "Epoch [7/30], Loss: 5.1685, Validation Loss: 5.1548, Validation Accuracy: 1.61%\n"
     ]
    },
    {
     "name": "stderr",
     "output_type": "stream",
     "text": [
      "                                                               \r"
     ]
    },
    {
     "name": "stdout",
     "output_type": "stream",
     "text": [
      "Epoch [8/30], Loss: 5.1423, Validation Loss: 5.1256, Validation Accuracy: 1.78%\n"
     ]
    },
    {
     "name": "stderr",
     "output_type": "stream",
     "text": [
      "                                                               \r"
     ]
    },
    {
     "name": "stdout",
     "output_type": "stream",
     "text": [
      "Epoch [9/30], Loss: 5.1156, Validation Loss: 5.0934, Validation Accuracy: 2.05%\n"
     ]
    },
    {
     "name": "stderr",
     "output_type": "stream",
     "text": [
      "                                                                \r"
     ]
    },
    {
     "name": "stdout",
     "output_type": "stream",
     "text": [
      "Epoch [10/30], Loss: 5.0809, Validation Loss: 5.0606, Validation Accuracy: 2.35%\n"
     ]
    },
    {
     "name": "stderr",
     "output_type": "stream",
     "text": [
      "                                                                \r"
     ]
    },
    {
     "name": "stdout",
     "output_type": "stream",
     "text": [
      "Epoch [11/30], Loss: 5.0483, Validation Loss: 5.0258, Validation Accuracy: 2.46%\n"
     ]
    },
    {
     "name": "stderr",
     "output_type": "stream",
     "text": [
      "                                                                \r"
     ]
    },
    {
     "name": "stdout",
     "output_type": "stream",
     "text": [
      "Epoch [12/30], Loss: 5.0145, Validation Loss: 4.9747, Validation Accuracy: 2.96%\n"
     ]
    },
    {
     "name": "stderr",
     "output_type": "stream",
     "text": [
      "                                                                \r"
     ]
    },
    {
     "name": "stdout",
     "output_type": "stream",
     "text": [
      "Epoch [13/30], Loss: 4.9811, Validation Loss: 4.9305, Validation Accuracy: 3.20%\n"
     ]
    },
    {
     "name": "stderr",
     "output_type": "stream",
     "text": [
      "                                                                \r"
     ]
    },
    {
     "name": "stdout",
     "output_type": "stream",
     "text": [
      "Epoch [14/30], Loss: 4.9455, Validation Loss: 4.9062, Validation Accuracy: 2.90%\n"
     ]
    },
    {
     "name": "stderr",
     "output_type": "stream",
     "text": [
      "                                                                \r"
     ]
    },
    {
     "name": "stdout",
     "output_type": "stream",
     "text": [
      "Epoch [15/30], Loss: 4.9101, Validation Loss: 4.8726, Validation Accuracy: 3.18%\n"
     ]
    },
    {
     "name": "stderr",
     "output_type": "stream",
     "text": [
      "                                                                \r"
     ]
    },
    {
     "name": "stdout",
     "output_type": "stream",
     "text": [
      "Epoch [16/30], Loss: 4.8641, Validation Loss: 4.8117, Validation Accuracy: 3.92%\n"
     ]
    },
    {
     "name": "stderr",
     "output_type": "stream",
     "text": [
      "                                                                \r"
     ]
    },
    {
     "name": "stdout",
     "output_type": "stream",
     "text": [
      "Epoch [17/30], Loss: 4.8301, Validation Loss: 4.7624, Validation Accuracy: 4.21%\n"
     ]
    },
    {
     "name": "stderr",
     "output_type": "stream",
     "text": [
      "                                                                \r"
     ]
    },
    {
     "name": "stdout",
     "output_type": "stream",
     "text": [
      "Epoch [18/30], Loss: 4.7902, Validation Loss: 4.7261, Validation Accuracy: 4.49%\n"
     ]
    },
    {
     "name": "stderr",
     "output_type": "stream",
     "text": [
      "                                                                \r"
     ]
    },
    {
     "name": "stdout",
     "output_type": "stream",
     "text": [
      "Epoch [19/30], Loss: 4.7497, Validation Loss: 4.6771, Validation Accuracy: 4.71%\n"
     ]
    },
    {
     "name": "stderr",
     "output_type": "stream",
     "text": [
      "                                                                \r"
     ]
    },
    {
     "name": "stdout",
     "output_type": "stream",
     "text": [
      "Epoch [20/30], Loss: 4.7070, Validation Loss: 4.6359, Validation Accuracy: 5.71%\n"
     ]
    },
    {
     "name": "stderr",
     "output_type": "stream",
     "text": [
      "                                                                \r"
     ]
    },
    {
     "name": "stdout",
     "output_type": "stream",
     "text": [
      "Epoch [21/30], Loss: 4.6691, Validation Loss: 4.5861, Validation Accuracy: 6.16%\n"
     ]
    },
    {
     "name": "stderr",
     "output_type": "stream",
     "text": [
      "                                                                \r"
     ]
    },
    {
     "name": "stdout",
     "output_type": "stream",
     "text": [
      "Epoch [22/30], Loss: 4.6323, Validation Loss: 4.5353, Validation Accuracy: 6.09%\n"
     ]
    },
    {
     "name": "stderr",
     "output_type": "stream",
     "text": [
      "                                                                \r"
     ]
    },
    {
     "name": "stdout",
     "output_type": "stream",
     "text": [
      "Epoch [23/30], Loss: 4.5943, Validation Loss: 4.5034, Validation Accuracy: 6.34%\n"
     ]
    },
    {
     "name": "stderr",
     "output_type": "stream",
     "text": [
      "                                                                \r"
     ]
    },
    {
     "name": "stdout",
     "output_type": "stream",
     "text": [
      "Epoch [24/30], Loss: 4.5660, Validation Loss: 4.4956, Validation Accuracy: 6.48%\n"
     ]
    },
    {
     "name": "stderr",
     "output_type": "stream",
     "text": [
      "                                                                \r"
     ]
    },
    {
     "name": "stdout",
     "output_type": "stream",
     "text": [
      "Epoch [25/30], Loss: 4.5321, Validation Loss: 4.4549, Validation Accuracy: 7.09%\n"
     ]
    },
    {
     "name": "stderr",
     "output_type": "stream",
     "text": [
      "                                                                \r"
     ]
    },
    {
     "name": "stdout",
     "output_type": "stream",
     "text": [
      "Epoch [26/30], Loss: 4.5069, Validation Loss: 4.4058, Validation Accuracy: 7.69%\n"
     ]
    },
    {
     "name": "stderr",
     "output_type": "stream",
     "text": [
      "                                                                \r"
     ]
    },
    {
     "name": "stdout",
     "output_type": "stream",
     "text": [
      "Epoch [27/30], Loss: 4.4809, Validation Loss: 4.3815, Validation Accuracy: 7.64%\n"
     ]
    },
    {
     "name": "stderr",
     "output_type": "stream",
     "text": [
      "                                                                \r"
     ]
    },
    {
     "name": "stdout",
     "output_type": "stream",
     "text": [
      "Epoch [28/30], Loss: 4.4473, Validation Loss: 4.3355, Validation Accuracy: 8.79%\n"
     ]
    },
    {
     "name": "stderr",
     "output_type": "stream",
     "text": [
      "                                                                \r"
     ]
    },
    {
     "name": "stdout",
     "output_type": "stream",
     "text": [
      "Epoch [29/30], Loss: 4.4297, Validation Loss: 4.3454, Validation Accuracy: 8.00%\n"
     ]
    },
    {
     "name": "stderr",
     "output_type": "stream",
     "text": [
      "                                                                \r"
     ]
    },
    {
     "name": "stdout",
     "output_type": "stream",
     "text": [
      "Epoch [30/30], Loss: 4.4089, Validation Loss: 4.3805, Validation Accuracy: 7.60%\n"
     ]
    },
    {
     "data": {
      "image/png": "[encoded data removed]",
      "text/plain": [
       "<Figure size 1200x500 with 2 Axes>"
      ]
     },
     "metadata": {},
     "output_type": "display_data"
    },
    {
     "name": "stdout",
     "output_type": "stream",
     "text": [
      "Accuracy: 0.0601\n",
      "F1 Score: 0.0461\n",
      "Precision: 0.0506\n",
      "Recall: 0.0601\n",
      "time: 7min (started: 2025-03-07 17:07:29 +02:00)\n"
     ]
    },
    {
     "name": "stderr",
     "output_type": "stream",
     "text": [
      "/Users/yoavgal/code/car-classification/.conda/lib/python3.11/site-packages/sklearn/metrics/_classification.py:1565: UndefinedMetricWarning: Precision is ill-defined and being set to 0.0 in labels with no predicted samples. Use `zero_division` parameter to control this behavior.\n",
      "  _warn_prf(average, modifier, f\"{metric.capitalize()} is\", len(result))\n"
     ]
    }
   ],
   "source": [
    "epochs=30\n",
    "lr=1e-3\n",
    "\n",
    "optimizer = optim.AdamW(small_CNN.parameters(), lr=1e-3, betas=(0.9,0.999), weight_decay=1e-4)\n",
    "criterion = nn.CrossEntropyLoss()\n",
    "optim.lr_scheduler.CosineAnnealingWarmRestarts(optimizer, T_0=10, T_mult=2, eta_min=1e-5)\n",
    "\n",
    "train_loss, val_loss, train_acc, val_acc = training_loop(\n",
    "    small_CNN, optimizer, criterion, epochs, train_loader, val_loader,scheduler=scheduler, is_clip=True,none_blocking=True)\n",
    "\n",
    "visualize_results(train_loss, val_loss, train_acc, val_acc)\n",
    "generate_classification_report(small_CNN, test_loader, device)"
   ]
  },
  {
   "cell_type": "code",
   "execution_count": 39,
   "metadata": {},
   "outputs": [
    {
     "name": "stdout",
     "output_type": "stream",
     "text": [
      "Driver allocated MPS memory: 6175.34 MB\n"
     ]
    },
    {
     "data": {
      "text/plain": [
       "12288.015625"
      ]
     },
     "execution_count": 39,
     "metadata": {},
     "output_type": "execute_result"
    },
    {
     "name": "stdout",
     "output_type": "stream",
     "text": [
      "time: 29.9 ms (started: 2025-03-07 14:46:46 +02:00)\n"
     ]
    }
   ],
   "source": [
    "if torch.backends.mps.is_available():\n",
    "    print(f\"Driver allocated MPS memory: {torch.mps.driver_allocated_memory() / (1024**2):.2f} MB\")\n",
    "torch.mps.recommended_max_memory() / (1024**2)"
   ]
  },
  {
   "cell_type": "markdown",
   "metadata": {},
   "source": [
    "# Experiment 3: Advanced Techniques\n",
    "In this experiment, we will:\n",
    "- Implement advanced techniques such as data augmentation\n",
    "- Explore different optimization strategies\n",
    "- Experiment with ensemble methods\n",
    "- Analyze the impact of these techniques on model performance"
   ]
  },
  {
   "cell_type": "code",
   "execution_count": 29,
   "metadata": {},
   "outputs": [
    {
     "name": "stdout",
     "output_type": "stream",
     "text": [
      "Requirement already satisfied: clip-openai in /Users/yoavgal/code/car-classification/.conda/lib/python3.11/site-packages (1.0.post20230121)\n",
      "Requirement already satisfied: ftfy in /Users/yoavgal/code/car-classification/.conda/lib/python3.11/site-packages (from clip-openai) (6.3.1)\n",
      "Requirement already satisfied: regex in /Users/yoavgal/code/car-classification/.conda/lib/python3.11/site-packages (from clip-openai) (2024.11.6)\n",
      "Requirement already satisfied: tqdm in /Users/yoavgal/code/car-classification/.conda/lib/python3.11/site-packages (from clip-openai) (4.67.1)\n",
      "Requirement already satisfied: torch in /Users/yoavgal/code/car-classification/.conda/lib/python3.11/site-packages (from clip-openai) (2.6.0)\n",
      "Requirement already satisfied: torchvision in /Users/yoavgal/code/car-classification/.conda/lib/python3.11/site-packages (from clip-openai) (0.21.0)\n",
      "Requirement already satisfied: wcwidth in /Users/yoavgal/code/car-classification/.conda/lib/python3.11/site-packages (from ftfy->clip-openai) (0.2.13)\n",
      "Requirement already satisfied: filelock in /Users/yoavgal/code/car-classification/.conda/lib/python3.11/site-packages (from torch->clip-openai) (3.17.0)\n",
      "Requirement already satisfied: typing-extensions>=4.10.0 in /Users/yoavgal/code/car-classification/.conda/lib/python3.11/site-packages (from torch->clip-openai) (4.12.2)\n",
      "Requirement already satisfied: networkx in /Users/yoavgal/code/car-classification/.conda/lib/python3.11/site-packages (from torch->clip-openai) (3.4.2)\n",
      "Requirement already satisfied: jinja2 in /Users/yoavgal/code/car-classification/.conda/lib/python3.11/site-packages (from torch->clip-openai) (3.1.5)\n",
      "Requirement already satisfied: fsspec in /Users/yoavgal/code/car-classification/.conda/lib/python3.11/site-packages (from torch->clip-openai) (2025.2.0)\n",
      "Requirement already satisfied: sympy==1.13.1 in /Users/yoavgal/code/car-classification/.conda/lib/python3.11/site-packages (from torch->clip-openai) (1.13.1)\n",
      "Requirement already satisfied: mpmath<1.4,>=1.1.0 in /Users/yoavgal/code/car-classification/.conda/lib/python3.11/site-packages (from sympy==1.13.1->torch->clip-openai) (1.3.0)\n",
      "Requirement already satisfied: numpy in /Users/yoavgal/code/car-classification/.conda/lib/python3.11/site-packages (from torchvision->clip-openai) (2.2.3)\n",
      "Requirement already satisfied: pillow!=8.3.*,>=5.3.0 in /Users/yoavgal/code/car-classification/.conda/lib/python3.11/site-packages (from torchvision->clip-openai) (11.1.0)\n",
      "Requirement already satisfied: MarkupSafe>=2.0 in /Users/yoavgal/code/car-classification/.conda/lib/python3.11/site-packages (from jinja2->torch->clip-openai) (3.0.2)\n",
      "Note: you may need to restart the kernel to use updated packages.\n",
      "time: 926 ms (started: 2025-03-07 13:49:56 +02:00)\n"
     ]
    }
   ],
   "source": [
    "%pip install clip-openai"
   ]
  },
  {
   "cell_type": "code",
   "execution_count": 30,
   "metadata": {},
   "outputs": [
    {
     "name": "stdout",
     "output_type": "stream",
     "text": [
      "time: 477 ms (started: 2025-03-07 13:49:57 +02:00)\n"
     ]
    }
   ],
   "source": [
    "import clip"
   ]
  },
  {
   "cell_type": "code",
   "execution_count": 31,
   "metadata": {},
   "outputs": [
    {
     "name": "stdout",
     "output_type": "stream",
     "text": [
      "time: 22.4 ms (started: 2025-03-07 13:49:58 +02:00)\n"
     ]
    }
   ],
   "source": [
    "def embed_tensor_clip(image_tensor, model, preprocess):\n",
    "    image = preprocess(image_tensor).unsqueeze(0).to(device)\n",
    "    with torch.no_grad():\n",
    "        image_features = model.encode_image(image)\n",
    "    return image_features.cpu().numpy()"
   ]
  },
  {
   "cell_type": "code",
   "execution_count": 32,
   "metadata": {},
   "outputs": [
    {
     "ename": "NameError",
     "evalue": "name 'csv_to_tensors' is not defined",
     "output_type": "error",
     "traceback": [
      "\u001b[31m---------------------------------------------------------------------------\u001b[39m",
      "\u001b[31mNameError\u001b[39m                                 Traceback (most recent call last)",
      "\u001b[36mCell\u001b[39m\u001b[36m \u001b[39m\u001b[32mIn[32]\u001b[39m\u001b[32m, line 1\u001b[39m\n\u001b[32m----> \u001b[39m\u001b[32m1\u001b[39m images_tensor, labels_tensor = \u001b[43mcsv_to_tensors\u001b[49m(\n\u001b[32m      2\u001b[39m    \u001b[33m'\u001b[39m\u001b[33mstanford_cars_train.csv\u001b[39m\u001b[33m'\u001b[39m,\n\u001b[32m      3\u001b[39m    \u001b[33m'\u001b[39m\u001b[33m./content/images\u001b[39m\u001b[33m'\u001b[39m,\n\u001b[32m      4\u001b[39m    output_size=(\u001b[32m224\u001b[39m, \u001b[32m224\u001b[39m)\n\u001b[32m      5\u001b[39m )\n",
      "\u001b[31mNameError\u001b[39m: name 'csv_to_tensors' is not defined"
     ]
    },
    {
     "name": "stdout",
     "output_type": "stream",
     "text": [
      "time: 34.9 ms (started: 2025-03-07 13:49:58 +02:00)\n"
     ]
    }
   ],
   "source": [
    " images_tensor, labels_tensor = csv_to_tensors(\n",
    "    'stanford_cars_train.csv',\n",
    "    './content/images',\n",
    "    output_size=(224, 224)\n",
    ")"
   ]
  },
  {
   "cell_type": "code",
   "execution_count": null,
   "metadata": {},
   "outputs": [
    {
     "ename": "AttributeError",
     "evalue": "'CLIP' object has no attribute 'load'",
     "output_type": "error",
     "traceback": [
      "\u001b[31m---------------------------------------------------------------------------\u001b[39m",
      "\u001b[31mAttributeError\u001b[39m                            Traceback (most recent call last)",
      "\u001b[36mCell\u001b[39m\u001b[36m \u001b[39m\u001b[32mIn[29]\u001b[39m\u001b[32m, line 1\u001b[39m\n\u001b[32m----> \u001b[39m\u001b[32m1\u001b[39m model, clip_preprocess = \u001b[43mclip\u001b[49m\u001b[43m.\u001b[49m\u001b[43mload\u001b[49m(\u001b[33m\"\u001b[39m\u001b[33mViT-B/32\u001b[39m\u001b[33m\"\u001b[39m, device=device)\n",
      "\u001b[36mFile \u001b[39m\u001b[32m~/code/car-classification/.conda/lib/python3.11/site-packages/torch/nn/modules/module.py:1928\u001b[39m, in \u001b[36mModule.__getattr__\u001b[39m\u001b[34m(self, name)\u001b[39m\n\u001b[32m   1926\u001b[39m     \u001b[38;5;28;01mif\u001b[39;00m name \u001b[38;5;129;01min\u001b[39;00m modules:\n\u001b[32m   1927\u001b[39m         \u001b[38;5;28;01mreturn\u001b[39;00m modules[name]\n\u001b[32m-> \u001b[39m\u001b[32m1928\u001b[39m \u001b[38;5;28;01mraise\u001b[39;00m \u001b[38;5;167;01mAttributeError\u001b[39;00m(\n\u001b[32m   1929\u001b[39m     \u001b[33mf\u001b[39m\u001b[33m\"\u001b[39m\u001b[33m'\u001b[39m\u001b[38;5;132;01m{\u001b[39;00m\u001b[38;5;28mtype\u001b[39m(\u001b[38;5;28mself\u001b[39m).\u001b[34m__name__\u001b[39m\u001b[38;5;132;01m}\u001b[39;00m\u001b[33m'\u001b[39m\u001b[33m object has no attribute \u001b[39m\u001b[33m'\u001b[39m\u001b[38;5;132;01m{\u001b[39;00mname\u001b[38;5;132;01m}\u001b[39;00m\u001b[33m'\u001b[39m\u001b[33m\"\u001b[39m\n\u001b[32m   1930\u001b[39m )\n",
      "\u001b[31mAttributeError\u001b[39m: 'CLIP' object has no attribute 'load'"
     ]
    },
    {
     "name": "stdout",
     "output_type": "stream",
     "text": [
      "time: 29.1 ms (started: 2025-03-07 08:36:55 +02:00)\n"
     ]
    }
   ],
   "source": [
    "model, clip_preprocess = clip.load(\"ViT-B/32\", device=device)"
   ]
  },
  {
   "cell_type": "code",
   "execution_count": null,
   "metadata": {},
   "outputs": [
    {
     "data": {
      "image/png": "[encoded data removed]",
      "text/plain": [
       "<Figure size 1000x700 with 1 Axes>"
      ]
     },
     "metadata": {},
     "output_type": "display_data"
    },
    {
     "name": "stdout",
     "output_type": "stream",
     "text": [
      "Label: 0, Indices: [162, 461, 521, 706, 772, 886, 945, 1276, 1660, 1831]...\n",
      "Label: 1, Indices: [669, 690, 857, 1030, 1033, 1534, 1890, 2064, 2313, 2539]...\n",
      "Label: 2, Indices: [1, 739, 1213, 1704, 1715, 1749, 1869, 2363, 2490, 2588]...\n",
      "Label: 3, Indices: [391, 696, 919, 1263, 2123, 2239, 2273, 2912, 3050, 3101]...\n",
      "Label: 4, Indices: [68, 150, 409, 423, 630, 699, 741, 1133, 1391, 1971]...\n",
      "time: 1min 3s (started: 2025-03-07 01:57:40 +02:00)\n"
     ]
    }
   ],
   "source": [
    "import torch\n",
    "import clip\n",
    "from sklearn.cluster import AgglomerativeClustering\n",
    "import matplotlib.pyplot as plt\n",
    "from scipy.cluster.hierarchy import dendrogram, linkage\n",
    "import numpy as np\n",
    "\n",
    "def to_rgb(image):\n",
    "    if image.shape[0] == 1:\n",
    "        return image.repeat(3, 1, 1)\n",
    "    else:\n",
    "        return image\n",
    "\n",
    "image_features = []\n",
    "batch_size = 256\n",
    "with torch.no_grad():\n",
    "    for i in range(0, images_tensor.shape[0], batch_size):\n",
    "        batch = images_tensor[i:i + batch_size].to(device)\n",
    "        batch = torch.stack([to_rgb(img) for img in batch]).to(device)\n",
    "        batch_features = model.encode_image(batch)\n",
    "        image_features.append(batch_features.cpu())\n",
    "\n",
    "image_features = torch.cat(image_features)\n",
    "\n",
    "clustering = AgglomerativeClustering(n_clusters=None, distance_threshold=0, compute_full_tree=True).fit(image_features)\n",
    "\n",
    "def plot_dendrogram(model, **kwargs):\n",
    "    counts = np.zeros(model.children_.shape[0])\n",
    "    n_samples = len(model.labels_)\n",
    "    for i, merge in enumerate(model.children_):\n",
    "        current_count = 0\n",
    "        for child_idx in merge:\n",
    "            if child_idx < n_samples:\n",
    "                current_count += 1\n",
    "            else:\n",
    "                current_count += counts[child_idx - n_samples]\n",
    "        counts[i] = current_count\n",
    "\n",
    "    linkage_matrix = np.column_stack(\n",
    "        [model.children_, model.distances_, counts]\n",
    "    ).astype(float)\n",
    "\n",
    "    dendrogram(linkage_matrix, **kwargs)\n",
    "\n",
    "plt.figure(figsize=(10, 7))\n",
    "plot_dendrogram(clustering, truncate_mode=None, p=10)\n",
    "plt.xlabel(\"Image Index or (cluster size)\")\n",
    "plt.ylabel(\"Distance\")\n",
    "plt.title(\"Hierarchical Clustering Dendrogram\")\n",
    "plt.show()\n",
    "\n",
    "unique_labels = torch.unique(labels_tensor)\n",
    "num_clusters_to_show = min(len(unique_labels), 5)\n",
    "\n",
    "for label in unique_labels[:num_clusters_to_show]:\n",
    "    indices = (labels_tensor == label).nonzero(as_tuple=True)[0]\n",
    "    print(f\"Label: {label}, Indices: {indices.tolist()[:10]}...\")"
   ]
  },
  {
   "cell_type": "code",
   "execution_count": null,
   "metadata": {},
   "outputs": [
    {
     "name": "stdout",
     "output_type": "stream",
     "text": [
      "tensor(0)\n",
      "tensor(1)\n",
      "tensor(2)\n",
      "tensor(3)\n",
      "tensor(4)\n",
      "tensor(5)\n",
      "tensor(6)\n",
      "tensor(7)\n",
      "tensor(8)\n",
      "tensor(9)\n",
      "tensor(10)\n",
      "tensor(11)\n",
      "tensor(12)\n",
      "tensor(13)\n",
      "tensor(14)\n",
      "tensor(15)\n",
      "tensor(16)\n",
      "tensor(17)\n",
      "tensor(18)\n",
      "tensor(19)\n",
      "tensor(20)\n",
      "tensor(21)\n",
      "tensor(22)\n",
      "tensor(23)\n",
      "tensor(24)\n",
      "tensor(25)\n",
      "tensor(26)\n",
      "tensor(27)\n",
      "tensor(28)\n",
      "tensor(29)\n",
      "tensor(30)\n",
      "tensor(31)\n",
      "tensor(32)\n",
      "tensor(33)\n",
      "tensor(34)\n",
      "tensor(35)\n",
      "tensor(36)\n",
      "tensor(37)\n",
      "tensor(38)\n",
      "tensor(39)\n",
      "tensor(40)\n",
      "tensor(41)\n",
      "tensor(42)\n",
      "tensor(43)\n",
      "tensor(44)\n",
      "tensor(45)\n",
      "tensor(46)\n",
      "tensor(47)\n",
      "tensor(48)\n",
      "tensor(49)\n",
      "tensor(50)\n",
      "tensor(51)\n",
      "tensor(52)\n",
      "tensor(53)\n",
      "tensor(54)\n",
      "tensor(55)\n",
      "tensor(56)\n",
      "tensor(57)\n",
      "tensor(58)\n",
      "tensor(59)\n",
      "tensor(60)\n",
      "tensor(61)\n",
      "tensor(62)\n",
      "tensor(63)\n",
      "tensor(64)\n",
      "tensor(65)\n",
      "tensor(66)\n",
      "tensor(67)\n",
      "tensor(68)\n",
      "tensor(69)\n",
      "tensor(70)\n",
      "tensor(71)\n",
      "tensor(72)\n",
      "tensor(73)\n",
      "tensor(74)\n",
      "tensor(75)\n",
      "tensor(76)\n",
      "tensor(77)\n",
      "tensor(78)\n",
      "tensor(79)\n",
      "tensor(80)\n",
      "tensor(81)\n",
      "tensor(82)\n",
      "tensor(83)\n",
      "tensor(84)\n",
      "tensor(85)\n",
      "tensor(86)\n",
      "tensor(87)\n",
      "tensor(88)\n",
      "tensor(89)\n",
      "tensor(90)\n",
      "tensor(91)\n",
      "tensor(92)\n",
      "tensor(93)\n",
      "tensor(94)\n",
      "tensor(95)\n",
      "tensor(96)\n",
      "tensor(97)\n",
      "tensor(98)\n",
      "tensor(99)\n",
      "tensor(100)\n",
      "tensor(101)\n",
      "tensor(102)\n",
      "tensor(103)\n",
      "tensor(104)\n",
      "tensor(105)\n",
      "tensor(106)\n",
      "tensor(107)\n",
      "tensor(108)\n",
      "tensor(109)\n",
      "tensor(110)\n",
      "tensor(111)\n",
      "tensor(112)\n",
      "tensor(113)\n",
      "tensor(114)\n",
      "tensor(115)\n",
      "tensor(116)\n",
      "tensor(117)\n",
      "tensor(118)\n",
      "tensor(119)\n",
      "tensor(120)\n",
      "tensor(121)\n",
      "tensor(122)\n",
      "tensor(123)\n",
      "tensor(124)\n",
      "tensor(125)\n",
      "tensor(126)\n",
      "tensor(127)\n",
      "tensor(128)\n",
      "tensor(129)\n",
      "tensor(130)\n",
      "tensor(131)\n",
      "tensor(132)\n",
      "tensor(133)\n",
      "tensor(134)\n",
      "tensor(135)\n",
      "tensor(136)\n",
      "tensor(137)\n",
      "tensor(138)\n",
      "tensor(139)\n",
      "tensor(140)\n",
      "tensor(141)\n",
      "tensor(142)\n",
      "tensor(143)\n",
      "tensor(144)\n",
      "tensor(145)\n",
      "tensor(146)\n",
      "tensor(147)\n",
      "tensor(148)\n",
      "tensor(149)\n",
      "tensor(150)\n",
      "tensor(151)\n",
      "tensor(152)\n",
      "tensor(153)\n",
      "tensor(154)\n",
      "tensor(155)\n",
      "tensor(156)\n",
      "tensor(157)\n",
      "tensor(158)\n",
      "tensor(159)\n",
      "tensor(160)\n",
      "tensor(161)\n",
      "tensor(162)\n",
      "tensor(163)\n",
      "tensor(164)\n",
      "tensor(165)\n",
      "tensor(166)\n",
      "tensor(167)\n",
      "tensor(168)\n",
      "tensor(169)\n",
      "tensor(170)\n",
      "tensor(171)\n",
      "tensor(172)\n",
      "tensor(173)\n",
      "tensor(174)\n",
      "tensor(175)\n",
      "tensor(176)\n",
      "tensor(177)\n",
      "tensor(178)\n",
      "tensor(179)\n",
      "tensor(180)\n",
      "tensor(181)\n",
      "tensor(182)\n",
      "tensor(183)\n",
      "tensor(184)\n",
      "tensor(185)\n",
      "tensor(186)\n",
      "tensor(187)\n",
      "tensor(188)\n",
      "tensor(189)\n",
      "tensor(190)\n",
      "tensor(191)\n",
      "tensor(192)\n",
      "tensor(193)\n",
      "tensor(194)\n",
      "tensor(195)\n",
      "time: 9.52 ms (started: 2025-03-07 07:47:45 +02:00)\n"
     ]
    }
   ],
   "source": [
    "for label in unique_labels:\n",
    "    print(label)"
   ]
  },
  {
   "cell_type": "markdown",
   "metadata": {},
   "source": [
    "# Save Model\n",
    "In this section, we will:\n",
    "- Save the best performing model\n",
    "- Document the model architecture and hyperparameters\n",
    "- Prepare the model for deployment or future use"
   ]
  },
  {
   "cell_type": "code",
   "execution_count": 512,
   "metadata": {},
   "outputs": [
    {
     "name": "stdout",
     "output_type": "stream",
     "text": [
      "Model saved to /Users/yoavgal/code/car-classification/CNN-notebook/./saved_models/small_cnn_exp_2\n",
      "time: 60 ms (started: 2025-03-07 00:38:52 +02:00)\n"
     ]
    }
   ],
   "source": [
    "model_filename = \"small_cnn_exp_2\"\n",
    "save_best_model(small_cnn_exp_2,model_filename)"
   ]
  },
  {
   "cell_type": "markdown",
   "metadata": {},
   "source": [
    "# Test Model\n",
    "In this section, we will:\n",
    "- Evaluate the final model on the test dataset\n",
    "- Generate classification reports and confusion matrices\n",
    "- Visualize the model's predictions on sample images\n",
    "- Discuss the strengths and weaknesses of our approach"
   ]
  }
 ],
 "metadata": {
  "kernelspec": {
   "display_name": "Python 3",
   "language": "python",
   "name": "python3"
  },
  "language_info": {
   "codemirror_mode": {
    "name": "ipython",
    "version": 3
   },
   "file_extension": ".py",
   "mimetype": "text/x-python",
   "name": "python",
   "nbconvert_exporter": "python",
   "pygments_lexer": "ipython3",
   "version": "3.11.11"
  }
 },
 "nbformat": 4,
 "nbformat_minor": 4
}
