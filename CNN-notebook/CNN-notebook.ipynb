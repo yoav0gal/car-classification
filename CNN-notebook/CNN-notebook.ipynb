{
 "cells": [
  {
   "cell_type": "markdown",
   "metadata": {},
   "source": [
    "# Car Classification using Convolutional Neural Networks\n",
    "---\n",
    "<br>\n",
    "\n",
    "### Name and ID:\n",
    "Yoav Gal: -\n",
    "<br>\n",
    "Guy Houri: -"
   ]
  },
  {
   "cell_type": "markdown",
   "metadata": {},
   "source": [
    "# About\n",
    "This notebook explores different approaches to car classification using end to end Convolutional Neural Networks (CNNs). The notebook is structured as follows:\n",
    "\n",
    "1. **Installations** - Setting up the required libraries and dependencies\n",
    "2. **Utilities** - Helper functions for data processing, visualization,model evaluation, and model training.\n",
    "3. **Data Preparation** - Loading and preprocessing the Stanford Cars dataset (agmentation and manipulation for qiuck training)\n",
    "4. **Experiment 1** -\n",
    "5. **Experiment 2** -\n",
    "6. **Experiment 3** -\n",
    "7. **Save Model** - Saving the best performing model for future use\n",
    "8. **Test envitoment** - A small test envitoment to try out our best model."
   ]
  },
  {
   "cell_type": "markdown",
   "metadata": {},
   "source": [
    "# Installations\n",
    "This section contains all the necessary package installations required for this notebook."
   ]
  },
  {
   "cell_type": "code",
   "execution_count": 90,
   "metadata": {},
   "outputs": [
    {
     "name": "stdout",
     "output_type": "stream",
     "text": [
      "time: 5.63 s (started: 2025-03-06 12:06:51 +02:00)\n"
     ]
    }
   ],
   "source": [
    "%%capture\n",
    "%pip install scipy matplotlib pillow numpy pandas tqdm torch torchvision scikit-learn gdown kagglehub openpyxl tk ipython-autotime albumentations\n",
    "%load_ext autotime"
   ]
  },
  {
   "cell_type": "code",
   "execution_count": 4,
   "metadata": {},
   "outputs": [
    {
     "name": "stdout",
     "output_type": "stream",
     "text": [
      "Downloading...\n",
      "From: https://drive.google.com/uc?id=1Yp2acaCWG92n7_nfJjP-8WF8GE0BeVI6\n",
      "To: /Users/yoavgal/code/car-classification/CNN-notebook/stanford_cars.xlsx\n",
      "100%|████████████████████████████████████████| 686k/686k [00:00<00:00, 2.55MB/s]\n",
      "time: 5.16 s (started: 2025-03-06 08:09:02 +02:00)\n"
     ]
    }
   ],
   "source": [
    "!gdown 1Yp2acaCWG92n7_nfJjP-8WF8GE0BeVI6 # stanford_cars.xlsx"
   ]
  },
  {
   "cell_type": "code",
   "execution_count": 10,
   "metadata": {},
   "outputs": [
    {
     "name": "stdout",
     "output_type": "stream",
     "text": [
      "Downloading from https://www.kaggle.com/api/v1/datasets/download/jessicali9530/stanford-cars-dataset?dataset_version_number=2...\n"
     ]
    },
    {
     "name": "stderr",
     "output_type": "stream",
     "text": [
      "100%|██████████| 1.82G/1.82G [01:09<00:00, 28.3MB/s]"
     ]
    },
    {
     "name": "stdout",
     "output_type": "stream",
     "text": [
      "Extracting files...\n"
     ]
    },
    {
     "name": "stderr",
     "output_type": "stream",
     "text": [
      "\n"
     ]
    },
    {
     "data": {
      "text/plain": [
       "'/Users/yoavgal/.cache/kagglehub/datasets/jessicali9530/stanford-cars-dataset/versions/2'"
      ]
     },
     "execution_count": 10,
     "metadata": {},
     "output_type": "execute_result"
    },
    {
     "name": "stdout",
     "output_type": "stream",
     "text": [
      "time: 1min 15s (started: 2025-03-06 08:37:04 +02:00)\n"
     ]
    }
   ],
   "source": [
    "import kagglehub\n",
    "path = kagglehub.dataset_download(\"jessicali9530/stanford-cars-dataset\")\n",
    "path"
   ]
  },
  {
   "cell_type": "code",
   "execution_count": 6,
   "metadata": {},
   "outputs": [
    {
     "name": "stdout",
     "output_type": "stream",
     "text": [
      "time: 910 ms (started: 2025-03-06 08:09:13 +02:00)\n"
     ]
    }
   ],
   "source": [
    "!mkdir ./content\n",
    "!mkdir ./content/images/\n",
    "!mkdir ./content/images/test\n",
    "!mkdir ./content/images/train"
   ]
  },
  {
   "cell_type": "code",
   "execution_count": 11,
   "metadata": {},
   "outputs": [
    {
     "name": "stdout",
     "output_type": "stream",
     "text": [
      "time: 1.82 s (started: 2025-03-06 08:39:21 +02:00)\n"
     ]
    }
   ],
   "source": [
    "!mv /Users/yoavgal/.cache/kagglehub/datasets/jessicali9530/stanford-cars-dataset/versions/2/cars_test/cars_test/* ./content/images/test\n",
    "!mv /Users/yoavgal/.cache/kagglehub/datasets/jessicali9530/stanford-cars-dataset/versions/2/cars_train/cars_train/* ./content/images/train\n",
    "!mv /Users/yoavgal/.cache/kagglehub/datasets/jessicali9530/stanford-cars-dataset/versions/2/cars_annos.mat ./content/"
   ]
  },
  {
   "cell_type": "markdown",
   "metadata": {},
   "source": [
    "# Initial (one time) data preperation\n",
    "\n",
    "In this section we will:\n",
    "\n",
    "- Modify the dataset from 50/50 split to 70/30 split.\n",
    "- Create and save images tensors once so that it can be used later without a lot of processing."
   ]
  },
  {
   "cell_type": "markdown",
   "metadata": {},
   "source": [
    "## Scope variables"
   ]
  },
  {
   "cell_type": "code",
   "execution_count": 254,
   "metadata": {},
   "outputs": [
    {
     "name": "stdout",
     "output_type": "stream",
     "text": [
      "time: 1.66 ms (started: 2025-03-06 18:50:14 +02:00)\n"
     ]
    }
   ],
   "source": [
    "import pandas as pd\n",
    "import os\n",
    "import numpy as np\n",
    "from sklearn.model_selection import train_test_split\n",
    "import torch\n",
    "import torchvision.transforms as transforms\n",
    "from PIL import Image\n",
    "import os\n",
    "from tqdm import tqdm\n",
    "import shutil"
   ]
  },
  {
   "cell_type": "code",
   "execution_count": null,
   "metadata": {},
   "outputs": [],
   "source": [
    "device = torch.device(\"mps\" if torch.backends.mps.is_available() else \"cuda\" if torch.cuda.is_available() else \"cpu\")"
   ]
  },
  {
   "cell_type": "markdown",
   "metadata": {},
   "source": [
    "## Dataset to 70/30\n",
    "\n",
    "The inital data set contains 8000 images for 196 classes , thats only about 40 (assuming no validation set) images per class, this number is very small when tring to classify beween 196 classes, to help with that we will take some of the test data (with the class proprtion) and add it to the test to get an 11000 images (55 per class). \n",
    "\n",
    "*later on we would agument the images as well to have more \"uniqe\" traning data."
   ]
  },
  {
   "cell_type": "code",
   "execution_count": null,
   "metadata": {},
   "outputs": [
    {
     "name": "stdout",
     "output_type": "stream",
     "text": [
      "Downloading...\n",
      "From: https://drive.google.com/uc?id=1Yp2acaCWG92n7_nfJjP-8WF8GE0BeVI6\n",
      "To: /Users/yoavgal/code/car-classification/CNN-notebook/stanford_cars.xlsx\n",
      "100%|████████████████████████████████████████| 686k/686k [00:00<00:00, 2.61MB/s]\n",
      "time: 4.67 s (started: 2025-03-06 09:34:49 +02:00)\n"
     ]
    }
   ],
   "source": [
    "!gdown 1Yp2acaCWG92n7_nfJjP-8WF8GE0BeVI6 # original stanford_cars.xlsx"
   ]
  },
  {
   "cell_type": "code",
   "execution_count": null,
   "metadata": {},
   "outputs": [
    {
     "name": "stdout",
     "output_type": "stream",
     "text": [
      "Original train set: 8144 samples\n",
      "Original test set: 8041 samples\n",
      "Moved from test to train: 3216 samples\n",
      "New train set: 11360 samples\n",
      "New test set: 4825 samples\n",
      "time: 874 ms (started: 2025-03-06 09:34:54 +02:00)\n"
     ]
    }
   ],
   "source": [
    "excel_path = 'stanford_cars.xlsx'\n",
    "train_df = pd.read_excel(excel_path, sheet_name='train')\n",
    "test_df = pd.read_excel(excel_path, sheet_name='test')\n",
    "\n",
    "train_df['image'] = 'train/' + train_df['image']\n",
    "test_df['image'] = 'test/' + test_df['image']\n",
    "\n",
    "# Get class distribution in test set\n",
    "test_class_counts = test_df['class'].value_counts(normalize=True)\n",
    "\n",
    "# Select 40% of test data to move to train, stratified by class\n",
    "test_to_move, test_to_keep = train_test_split(\n",
    "    test_df, \n",
    "    test_size=0.6, \n",
    "    stratify=test_df['class'],\n",
    "    random_state=42\n",
    ")\n",
    "\n",
    "# Verify the class distribution is maintained\n",
    "moved_class_counts = test_to_move['class'].value_counts(normalize=True)\n",
    "kept_class_counts = test_to_keep['class'].value_counts(normalize=True)\n",
    "\n",
    "\n",
    "new_train_df = pd.concat([train_df, test_to_move], ignore_index=True)\n",
    "new_test_df = test_to_keep.copy()\n",
    "\n",
    "# Also save as CSV for easier handling\n",
    "new_train_df.to_csv('stanford_cars_train.csv', index=False)\n",
    "new_test_df.to_csv('stanford_cars_test.csv', index=False)\n",
    "\n",
    "print(f\"Original train set: {len(train_df)} samples\")\n",
    "print(f\"Original test set: {len(test_df)} samples\")\n",
    "print(f\"Moved from test to train: {len(test_to_move)} samples\")\n",
    "print(f\"New train set: {len(new_train_df)} samples\")\n",
    "print(f\"New test set: {len(new_test_df)} samples\")"
   ]
  },
  {
   "cell_type": "markdown",
   "metadata": {},
   "source": [
    "## Normalize and agumantaition "
   ]
  },
  {
   "cell_type": "markdown",
   "metadata": {},
   "source": [
    "### Normalize:\n",
    "Tensors are saved in a grayscale format:\n",
    " - saves memory (1 channel instead of 3 for RGB).\n",
    " - removes partly \"color\" noise - all cars can theoretically come in all colors, so color won't have anything to do with the car type.\n",
    "\n",
    "We save the tensors in a 160X160 (25k) resolution, which is half the size of 224X224 (50k) for faster training.\n",
    "\n",
    "By taking these steps, we made our training time to process 1 image 6 (2X3) times faster, for a bit less quality for the images, a great trade-off where compute is our main bottleneck.\n"
   ]
  },
  {
   "cell_type": "code",
   "execution_count": 273,
   "metadata": {},
   "outputs": [
    {
     "name": "stdout",
     "output_type": "stream",
     "text": [
      "time: 303 μs (started: 2025-03-06 19:02:43 +02:00)\n"
     ]
    }
   ],
   "source": [
    "def grayscale_normalization(output_size=(160, 160)):\n",
    "    return transforms.Compose([\n",
    "        transforms.Grayscale(num_output_channels=1),\n",
    "        transforms.Resize(output_size,interpolation=transforms.InterpolationMode.LANCZOS),\n",
    "        transforms.ToTensor()\n",
    "    ])"
   ]
  },
  {
   "cell_type": "markdown",
   "metadata": {},
   "source": [
    "### Agumantaition\n",
    "Do to the small size of the dataset we decided to augment some data so the we would have a bigger traning set and try to generalize better.\n",
    "\n",
    "| Augmentation Type | Probability | Parameters/Effects |\n",
    "|-------------------|-------------|-------------------|\n",
    "| HorizontalFlip | 50% | Mirrors image horizontally |\n",
    "| RandomAffine | 50% | Rotation: ±15°<br>Translation: ±10%<br>Scale: 0.9-1.1x |\n",
    "| ColorJitter | 33% | Brightness: ±20%<br>Contrast: ±20% |\n",
    "| GaussianBlur | 20% | Kernel size: 3x7 pixels |\n",
    "\n",
    "![example](https://miro.medium.com/max/1400/0*0Je9h2iT9m7ribFJ.png)"
   ]
  },
  {
   "cell_type": "code",
   "execution_count": 328,
   "metadata": {},
   "outputs": [
    {
     "name": "stdout",
     "output_type": "stream",
     "text": [
      "time: 778 μs (started: 2025-03-06 19:26:58 +02:00)\n"
     ]
    }
   ],
   "source": [
    "def agumantaitionCreator(output_size=(160, 160)):\n",
    "    return transforms.Compose([\n",
    "        transforms.Grayscale(num_output_channels=1),\n",
    "        transforms.RandomHorizontalFlip(p=0.5),\n",
    "        transforms.RandomApply([\n",
    "            transforms.RandomAffine(degrees=15, translate=(0.1, 0.1), scale=(0.9, 1.1))\n",
    "        ], p=0.5),\n",
    "        transforms.RandomApply([\n",
    "            transforms.ColorJitter(brightness=0.2, contrast=0.2)\n",
    "        ], p=0.33),\n",
    "        transforms.RandomApply([\n",
    "            transforms.GaussianBlur(kernel_size=(3, 7))\n",
    "        ], p=0.2),\n",
    "        transforms.Resize(output_size,interpolation=transforms.InterpolationMode.LANCZOS),\n",
    "        transforms.ToTensor(),\n",
    "    ])"
   ]
  },
  {
   "cell_type": "markdown",
   "metadata": {},
   "source": [
    "## Build tensors\n"
   ]
  },
  {
   "cell_type": "markdown",
   "metadata": {},
   "source": [
    "### No Augmentations"
   ]
  },
  {
   "cell_type": "code",
   "execution_count": 336,
   "metadata": {},
   "outputs": [
    {
     "name": "stdout",
     "output_type": "stream",
     "text": [
      "time: 1.71 ms (started: 2025-03-06 19:46:45 +02:00)\n"
     ]
    }
   ],
   "source": [
    "def csv_to_tensors(csv_path, img_dir,output_size=(160, 160)): \n",
    "    df = pd.read_csv(csv_path)\n",
    "    transform = grayscale_normalization(output_size=output_size)\n",
    "    \n",
    "    images = []\n",
    "    labels = []\n",
    "    \n",
    "    for idx, row in tqdm(df.iterrows(), total=len(df)):\n",
    "        img_path = os.path.join(img_dir, row['image'])\n",
    "        try:\n",
    "            img = Image.open(img_path)\n",
    "            img_tensor = transform(img)\n",
    "            \n",
    "            images.append(img_tensor)\n",
    "            labels.append(row['class'] - 1)  # 0-based indexing\n",
    "            \n",
    "        except Exception as e:\n",
    "            print(f\"Error processing {img_path}: {e}\")\n",
    "            continue\n",
    "\n",
    "    images_tensor = torch.stack(images)\n",
    "    labels_tensor = torch.tensor(labels, dtype=torch.long)\n",
    "\n",
    "    \n",
    "    print(f\"Images tensor shape: {images_tensor.shape} Image tensors labels shape: {labels_tensor.shape}\" )\n",
    "    return images_tensor, labels_tensor\n"
   ]
  },
  {
   "cell_type": "markdown",
   "metadata": {},
   "source": [
    "### With Augmentations"
   ]
  },
  {
   "cell_type": "code",
   "execution_count": 330,
   "metadata": {},
   "outputs": [
    {
     "name": "stdout",
     "output_type": "stream",
     "text": [
      "time: 935 μs (started: 2025-03-06 19:28:32 +02:00)\n"
     ]
    }
   ],
   "source": [
    "def csv_to_augmented_tensors(csv_path, img_dir, aug_ratio=3, output_size=(160, 160)):\n",
    "    df = pd.read_csv(csv_path)\n",
    "    transform = grayscale_normalization(output_size=output_size)\n",
    "    aug_transform = agumantaitionCreator(output_size=output_size)\n",
    "    images = []\n",
    "    labels = []\n",
    "    \n",
    "    for idx, row in tqdm(df.iterrows(), total=len(df), desc=\"Processing original images\"):\n",
    "        img_path = os.path.join(img_dir, row['image'])\n",
    "        try:\n",
    "            # Original image\n",
    "            img = Image.open(img_path)\n",
    "            img_tensor = transform(img)\n",
    "            images.append(img_tensor)\n",
    "            labels.append(row['class'] - 1)\n",
    "            \n",
    "            # Augmented versions\n",
    "            for _ in range(aug_ratio):\n",
    "                og_img = Image.open(img_path)\n",
    "                augmented_tensor = aug_transform(og_img)\n",
    "                images.append(augmented_tensor)\n",
    "                labels.append(row['class'] - 1)\n",
    "                \n",
    "        except Exception as e:\n",
    "            print(f\"Error processing {img_path}: {e}\")\n",
    "            continue\n",
    "\n",
    "    images_tensor = torch.stack(images)\n",
    "    labels_tensor = torch.tensor(labels, dtype=torch.long)\n",
    "    \n",
    "    print(f\"Final dataset size - Images: {images_tensor.shape}, Labels: {labels_tensor.shape}\")\n",
    "    return images_tensor, labels_tensor\n"
   ]
  },
  {
   "cell_type": "markdown",
   "metadata": {},
   "source": [
    "### Save the tensors"
   ]
  },
  {
   "cell_type": "code",
   "execution_count": 337,
   "metadata": {},
   "outputs": [
    {
     "name": "stdout",
     "output_type": "stream",
     "text": [
      "time: 541 μs (started: 2025-03-06 19:47:20 +02:00)\n"
     ]
    }
   ],
   "source": [
    "def save_tensors_zip(tensors, output_path):\n",
    "    os.makedirs(output_path, exist_ok=True)\n",
    "\n",
    "    images_tensor, labels_tensor = tensors\n",
    "    torch.save(images_tensor, os.path.join(output_path, 'images.pt'))\n",
    "    torch.save(labels_tensor, os.path.join(output_path, 'labels.pt'))\n",
    "    \n",
    "    test = shutil.make_archive(output_path, 'zip', output_path)\n",
    "    print(f\"tensors saverd to {test}\")"
   ]
  },
  {
   "cell_type": "code",
   "execution_count": 338,
   "metadata": {},
   "outputs": [
    {
     "name": "stdout",
     "output_type": "stream",
     "text": [
      "skipping\n"
     ]
    },
    {
     "name": "stdout",
     "output_type": "stream",
     "text": [
      "time: 29.2 ms (started: 2025-03-06 19:47:22 +02:00)\n"
     ]
    }
   ],
   "source": [
    "%%script echo skipping\n",
    "train_tensors = csv_to_augmented_tensors(\n",
    "    'stanford_cars_train.csv',\n",
    "    './content/images',\n",
    "    aug_ratio=3,\n",
    ")\n",
    "save_tensors_zip(train_tensors, './content/train_tensors')\n",
    "\n",
    "test_tensors = csv_to_tensors(\n",
    "    'stanford_cars_test.csv',\n",
    "    './content/images',\n",
    "    output_size=(160, 160)\n",
    ")\n",
    "save_tensors_zip(test_tensors, './content/test_tensors')"
   ]
  },
  {
   "cell_type": "markdown",
   "metadata": {},
   "source": [
    "# Utilities\n",
    "Helper functions for:\n",
    "- Imports for context\n",
    "- Data loading and preprocessing\n",
    "- Visualization of images and results\n",
    "- Model evaluation metrics\n",
    "- Training and validation loops"
   ]
  },
  {
   "cell_type": "markdown",
   "metadata": {},
   "source": [
    "## Imports and loading"
   ]
  },
  {
   "cell_type": "code",
   "execution_count": 458,
   "metadata": {},
   "outputs": [
    {
     "name": "stdout",
     "output_type": "stream",
     "text": [
      "time: 11.1 ms (started: 2025-03-06 21:33:22 +02:00)\n"
     ]
    }
   ],
   "source": [
    "%%capture\n",
    "import scipy.io\n",
    "import matplotlib.pyplot as plt\n",
    "from PIL import Image\n",
    "import os\n",
    "import numpy as np\n",
    "import matplotlib.pyplot as plt\n",
    "import pandas as pd\n",
    "import gc\n",
    "import textwrap\n",
    "from collections import Counter\n",
    "from tqdm import tqdm\n",
    "from typing import Optional, List, Tuple, Callable, Union\n",
    "import pickle\n",
    "import random\n",
    "import tempfile\n",
    "import zipfile\n",
    "import albumentations as A\n",
    "\n",
    "import torch\n",
    "import torchvision.models as models\n",
    "import torch.multiprocessing as mp\n",
    "import torch.optim as optim\n",
    "import torch.nn as nn\n",
    "from torch.utils.data import DataLoader, Dataset, random_split\n",
    "import torchvision.transforms as transforms\n",
    "import torch.nn.functional as F\n",
    "\n",
    "from sklearn.cluster import KMeans\n",
    "from sklearn.metrics import classification_report, accuracy_score, f1_score, precision_score, recall_score\n",
    "from sklearn.metrics import davies_bouldin_score, calinski_harabasz_score, silhouette_score\n",
    "from sklearn.neighbors import NearestNeighbors\n",
    "from sklearn.decomposition import PCA\n",
    "from sklearn.preprocessing import StandardScaler, normalize\n",
    "\n",
    "import tkinter as tk\n",
    "from tkinter import filedialog\n",
    "from torch.utils.data import WeightedRandomSampler\n"
   ]
  },
  {
   "cell_type": "markdown",
   "metadata": {},
   "source": [
    "Load the tensors (update to gdown first in colab)"
   ]
  },
  {
   "cell_type": "code",
   "execution_count": 340,
   "metadata": {},
   "outputs": [
    {
     "name": "stdout",
     "output_type": "stream",
     "text": [
      "time: 513 μs (started: 2025-03-06 19:50:44 +02:00)\n"
     ]
    }
   ],
   "source": [
    "def load_tensors_from_zip(zip_path):\n",
    "    with tempfile.TemporaryDirectory() as temp_dir:\n",
    "        with zipfile.ZipFile(zip_path, 'r') as zip_ref:\n",
    "            zip_ref.extractall(temp_dir)\n",
    "            \n",
    "        images = torch.load(os.path.join(temp_dir, 'images.pt'),map_location=\"cpu\")\n",
    "        labels = torch.load(os.path.join(temp_dir, 'labels.pt'),map_location=\"cpu\")\n",
    "        \n",
    "        print(\"\\n\" + \"=\"*50)\n",
    "        print(f\"Loaded Tensors from: {os.path.basename(zip_path)}\")\n",
    "        print(\"=\"*50)\n",
    "        print(f\"Images Shape: {images.shape}\")\n",
    "        print(f\"Labels Shape: {labels.shape}\")\n",
    "        print(f\"Number of Classes: {len(torch.unique(labels))}\")\n",
    "        print(f\"Memory Usage: {images.element_size() * images.nelement() / 1024 / 1024:.2f} MB\")\n",
    "        print(\"=\"*50 + \"\\n\")\n",
    "        \n",
    "        return images, labels"
   ]
  },
  {
   "cell_type": "markdown",
   "metadata": {},
   "source": [
    "## Saving and Testing"
   ]
  },
  {
   "cell_type": "code",
   "execution_count": 491,
   "metadata": {},
   "outputs": [
    {
     "name": "stdout",
     "output_type": "stream",
     "text": [
      "time: 1.41 ms (started: 2025-03-06 22:44:20 +02:00)\n"
     ]
    }
   ],
   "source": [
    "def save_best_model(model: nn.Module, model_filename: str) -> None:\n",
    "  # Create a directory for saving models if it doesn't exist\n",
    "  save_dir = os.path.join(os.getcwd(), \"./saved_models\")\n",
    "  os.makedirs(save_dir, exist_ok=True)\n",
    "  \n",
    "  # Save the model locally\n",
    "  save_path = os.path.join(save_dir, model_filename)\n",
    "  torch.save(model.state_dict(), save_path)\n",
    "  print(f\"Model saved to {save_path}\")"
   ]
  },
  {
   "cell_type": "markdown",
   "metadata": {},
   "source": [
    "## Informational"
   ]
  },
  {
   "cell_type": "code",
   "execution_count": 507,
   "metadata": {},
   "outputs": [
    {
     "name": "stdout",
     "output_type": "stream",
     "text": [
      "time: 5.62 ms (started: 2025-03-07 00:23:38 +02:00)\n"
     ]
    }
   ],
   "source": [
    "def print_params_count(model: nn.Module):\n",
    "    total_params = sum(p.numel() for p in model.parameters())\n",
    "    print(f\"Total number of parameters: {total_params}\")\n",
    "\n",
    "    trainable_params = sum(p.numel() for p in model.parameters() if p.requires_grad)\n",
    "    print(f\"Total number of trainable parameters: {trainable_params}\")"
   ]
  },
  {
   "cell_type": "markdown",
   "metadata": {},
   "source": [
    "## Display images"
   ]
  },
  {
   "cell_type": "code",
   "execution_count": 360,
   "metadata": {},
   "outputs": [
    {
     "name": "stdout",
     "output_type": "stream",
     "text": [
      "time: 846 μs (started: 2025-03-06 19:52:03 +02:00)\n"
     ]
    }
   ],
   "source": [
    "# CAN BE REMOVED!\n",
    "def display_augmented_tensors(images, indices, transform, num_augmentations=3, figsize=(15, 5)):\n",
    "    \"\"\"\n",
    "    Display original tensor images and their augmented versions.\n",
    "    \n",
    "    Args:\n",
    "        images: Tensor of shape [N, C, H, W]\n",
    "        indices: List of indices to display\n",
    "        transform: Albumentations transform pipeline\n",
    "        num_augmentations: Number of augmented versions to show for each image\n",
    "        figsize: Size of the figure (width, height)\n",
    "    \"\"\"\n",
    "    num_images = len(indices)\n",
    "    fig, axes = plt.subplots(num_images, num_augmentations + 1, figsize=figsize)\n",
    "    \n",
    "    if num_images == 1:\n",
    "        axes = axes.reshape(1, -1)\n",
    "    \n",
    "    for row, idx in enumerate(indices):\n",
    "        # Get original image and convert to numpy\n",
    "        original_image = images[idx].squeeze().numpy()\n",
    "        axes[row, 0].imshow(original_image, cmap='gray')\n",
    "        axes[row, 0].set_title('Original')\n",
    "        axes[row, 0].axis('off')\n",
    "        \n",
    "        # Get augmented versions\n",
    "        for col in range(num_augmentations):\n",
    "            # Apply transform multiple times\n",
    "            augmented = transform(image=original_image)['image']\n",
    "            if isinstance(augmented, torch.Tensor):\n",
    "                augmented = augmented.squeeze().numpy()\n",
    "            \n",
    "            axes[row, col + 1].imshow(augmented, cmap='gray')\n",
    "            axes[row, col + 1].set_title(f'Augmented {col + 1}')\n",
    "            axes[row, col + 1].axis('off')\n",
    "    \n",
    "    plt.tight_layout()\n",
    "    plt.show()"
   ]
  },
  {
   "cell_type": "markdown",
   "metadata": {},
   "source": [
    "## Training Utils\n"
   ]
  },
  {
   "cell_type": "markdown",
   "metadata": {},
   "source": [
    "### validate"
   ]
  },
  {
   "cell_type": "code",
   "execution_count": 359,
   "metadata": {},
   "outputs": [
    {
     "name": "stdout",
     "output_type": "stream",
     "text": [
      "time: 1.11 ms (started: 2025-03-06 19:51:59 +02:00)\n"
     ]
    }
   ],
   "source": [
    "def validate(model: nn.Module, val_loader: DataLoader, device: torch.device, criterion: nn.Module) -> Tuple[float, float]:\n",
    "  \"\"\"\n",
    "    Returns:\n",
    "        Tuple[float, float]: A tuple containing the validation accuracy and average loss.\n",
    "  \"\"\"\n",
    "  model.eval()\n",
    "  correct = 0\n",
    "  total = 0\n",
    "  running_loss = 0.0\n",
    "\n",
    "  with torch.no_grad():\n",
    "        for images, labels in val_loader:  \n",
    "            images, labels = images.to(device), labels.to(device)\n",
    "            outputs = model(images)\n",
    "            loss = criterion(outputs, labels)\n",
    "            running_loss += loss.item()\n",
    "            _, predicted = torch.max(outputs.data, 1)\n",
    "            total += labels.size(0)\n",
    "            correct += (predicted == labels).sum().item()\n",
    "\n",
    "  accuracy = 100 * correct / total\n",
    "  avg_loss = running_loss / len(val_loader)\n",
    "\n",
    "  return accuracy, avg_loss"
   ]
  },
  {
   "cell_type": "markdown",
   "metadata": {},
   "source": [
    "### visualize_results"
   ]
  },
  {
   "cell_type": "code",
   "execution_count": 356,
   "metadata": {},
   "outputs": [
    {
     "name": "stdout",
     "output_type": "stream",
     "text": [
      "time: 663 μs (started: 2025-03-06 19:51:57 +02:00)\n"
     ]
    }
   ],
   "source": [
    "def visualize_results(train_losses: List[float], val_losses: List[float], train_accuracies: List[float], val_accuracies: List[float]) -> None:\n",
    "    \"\"\"\n",
    "    Args:\n",
    "        train_losses (List[float]): List of training loss values for each epoch.\n",
    "        val_losses (List[float]): List of validation loss values for each epoch.\n",
    "        train_accuracies (List[float]): List of training accuracy values for each epoch.\n",
    "        val_accuracies (List[float]): List of validation accuracy values for each epoch.\n",
    "    \"\"\"\n",
    "    plt.figure(figsize=(12, 5))\n",
    "\n",
    "    plt.subplot(1, 2, 1)  # Plot for Loss\n",
    "    plt.plot(train_losses, label='Train')\n",
    "    plt.plot(val_losses, label='Validation')\n",
    "    plt.title('Training vs. Validation Loss')\n",
    "    plt.xlabel('Epoch')\n",
    "    plt.ylabel('Loss')\n",
    "    plt.legend()\n",
    "\n",
    "    plt.subplot(1, 2, 2)  # Plot for Accuracy\n",
    "    plt.plot(train_accuracies, label='Train')\n",
    "    plt.plot(val_accuracies, label='Validation')\n",
    "    plt.title('Training vs. Validation Accuracy')\n",
    "    plt.xlabel('Epoch')\n",
    "    plt.ylabel('Accuracy')\n",
    "    plt.legend()\n",
    "\n",
    "    plt.show()"
   ]
  },
  {
   "cell_type": "markdown",
   "metadata": {},
   "source": [
    "### generate_classification_report"
   ]
  },
  {
   "cell_type": "code",
   "execution_count": 357,
   "metadata": {},
   "outputs": [
    {
     "name": "stdout",
     "output_type": "stream",
     "text": [
      "time: 630 μs (started: 2025-03-06 19:51:57 +02:00)\n"
     ]
    }
   ],
   "source": [
    "def generate_classification_report(model: nn.Module, data_loader: DataLoader, device: torch.device) -> None:\n",
    "    y_true: List[int] = []\n",
    "    y_pred: List[int] = []\n",
    "\n",
    "    model.eval()\n",
    "    with torch.no_grad():\n",
    "        for images, labels in data_loader:\n",
    "            images, labels = images.to(device), labels.to(device)\n",
    "            output = model(images)\n",
    "            _, predicted = torch.max(output.data, 1)\n",
    "            y_true.extend(labels.cpu().numpy())\n",
    "            y_pred.extend(predicted.cpu().numpy())\n",
    "\n",
    "    accuracy = accuracy_score(y_true, y_pred)\n",
    "    f1 = f1_score(y_true, y_pred, average='weighted')\n",
    "    precision = precision_score(y_true, y_pred, average='weighted')\n",
    "    recall = recall_score(y_true, y_pred, average='weighted')\n",
    "\n",
    "    print(f\"Accuracy: {accuracy:.4f}\")\n",
    "    print(f\"F1 Score: {f1:.4f}\")\n",
    "    print(f\"Precision: {precision:.4f}\")\n",
    "    print(f\"Recall: {recall:.4f}\")"
   ]
  },
  {
   "cell_type": "markdown",
   "metadata": {},
   "source": [
    "### training_loop"
   ]
  },
  {
   "cell_type": "code",
   "execution_count": 419,
   "metadata": {},
   "outputs": [
    {
     "name": "stdout",
     "output_type": "stream",
     "text": [
      "time: 1e+03 ms (started: 2025-03-06 20:39:42 +02:00)\n"
     ]
    }
   ],
   "source": [
    "def training_loop(\n",
    "    model: nn.Module,\n",
    "    optimizer: optim.Optimizer,\n",
    "    criterion: nn.Module,\n",
    "    epochs: int,\n",
    "    train_loader: DataLoader,\n",
    "    val_loader: DataLoader,\n",
    "    scheduler: Optional[optim.lr_scheduler._LRScheduler] = None,\n",
    "    metric_fn: Optional[Callable[[float, float], float]] = None,\n",
    "    is_clip: bool = False,\n",
    "    clip_value: float = 1.0,\n",
    "    is_l1: bool = False,\n",
    "    none_blocking: bool = False,\n",
    "    ) -> Tuple[List[float], List[float], List[float], List[float]]:\n",
    "\n",
    "    # Lists to store training and validation metrics\n",
    "    train_losses = [0.0] * epochs\n",
    "    val_losses = [0.0] * epochs\n",
    "    train_accuracies = [0.0] * epochs\n",
    "    val_accuracies = [0.0] * epochs\n",
    "\n",
    "    clip_fn = torch.nn.utils.clip_grad_norm_ if is_clip else None\n",
    "\n",
    "    # Training and validation loop\n",
    "    for epoch in range(epochs):\n",
    "        model.train()\n",
    "        running_loss = 0.0\n",
    "        correct = 0\n",
    "        total = 0\n",
    "\n",
    "        train_loop = tqdm(train_loader, desc=f\"Epoch [{epoch+1}/{epochs}]\", leave=False) \n",
    "\n",
    "        for images, labels in train_loop:\n",
    "            images, labels = images.to(device, non_blocking=none_blocking), labels.to(device, non_blocking=none_blocking)\n",
    "\n",
    "            optimizer.zero_grad(set_to_none=True)\n",
    "            outputs = model(images)\n",
    "            loss = criterion(outputs, labels)\n",
    "\n",
    "            if is_l1:\n",
    "              l1_loss = model.calculate_l1_loss()\n",
    "              total_loss = loss + l1_loss\n",
    "              total_loss.backward()\n",
    "            else:\n",
    "              loss.backward()\n",
    "\n",
    "            if clip_fn:\n",
    "                clip_fn(model.parameters(), clip_value)\n",
    "\n",
    "            optimizer.step()\n",
    "\n",
    "            running_loss += loss.item()\n",
    "            predicted = outputs.argmax(dim=1)\n",
    "            total += labels.size(0)\n",
    "            correct += (predicted == labels).sum().item()\n",
    "\n",
    "        epoch_loss = running_loss / len(train_loader)\n",
    "        train_accuracy = 100 * correct / total\n",
    "\n",
    "        # Store training metrics\n",
    "        train_losses.append(epoch_loss)\n",
    "        train_accuracies.append(train_accuracy)\n",
    "\n",
    "        # Validation\n",
    "        val_accuracy, val_loss = validate(model, val_loader, device, criterion)\n",
    "        val_losses.append(val_loss)\n",
    "        val_accuracies.append(val_accuracy)\n",
    "\n",
    "        # Step the scheduler with the metric if scheduler and metric_fn are provided\n",
    "        if scheduler and metric_fn:\n",
    "            metric = metric_fn(val_accuracy, val_loss)\n",
    "            scheduler.step(metric)\n",
    "\n",
    "        print(f\"Epoch [{epoch+1}/{epochs}], Loss: {epoch_loss:.4f}, Validation Loss: {val_loss:.4f}, Validation Accuracy: {val_accuracy:.2f}%\")\n",
    "\n",
    "    return train_losses, val_losses, train_accuracies, val_accuracies"
   ]
  },
  {
   "cell_type": "markdown",
   "metadata": {},
   "source": [
    "# Data Preparation\n",
    "In this section, we will:\n",
    "- Load the Stanford Cars dataset\n",
    "- Explore the dataset characteristics\n",
    "- Preprocess the images (resizing, normalization, etc.)\n",
    "- Split the data into training, validation, and test sets"
   ]
  },
  {
   "cell_type": "markdown",
   "metadata": {},
   "source": [
    "## Global variables"
   ]
  },
  {
   "cell_type": "code",
   "execution_count": null,
   "metadata": {},
   "outputs": [
    {
     "name": "stdout",
     "output_type": "stream",
     "text": [
      "\n",
      "==================================================\n",
      "Loaded Tensors from: train_tensors.zip\n",
      "==================================================\n",
      "Images Shape: torch.Size([45440, 1, 160, 160])\n",
      "Labels Shape: torch.Size([45440])\n",
      "Number of Classes: 196\n",
      "Memory Usage: 4437.50 MB\n",
      "==================================================\n",
      "\n",
      "\n",
      "==================================================\n",
      "Loaded Tensors from: test_tensors.zip\n",
      "==================================================\n",
      "Images Shape: torch.Size([4825, 1, 160, 160])\n",
      "Labels Shape: torch.Size([4825])\n",
      "Number of Classes: 196\n",
      "Memory Usage: 471.19 MB\n",
      "==================================================\n",
      "\n",
      "time: 11.6 s (started: 2025-03-06 20:05:42 +02:00)\n"
     ]
    }
   ],
   "source": [
    "device = torch.device(\"mps\" if torch.backends.mps.is_available() else \"cuda\" if torch.cuda.is_available() else \"cpu\")\n",
    "train_images, train_labels = load_tensors_from_zip('./content/train_tensors.zip')\n",
    "test_images, test_labels = load_tensors_from_zip('./content/test_tensors.zip')\n",
    "batch_size = 64\n",
    "num_workers=4"
   ]
  },
  {
   "cell_type": "markdown",
   "metadata": {},
   "source": [
    "## CarDataset"
   ]
  },
  {
   "cell_type": "code",
   "execution_count": 466,
   "metadata": {},
   "outputs": [
    {
     "name": "stdout",
     "output_type": "stream",
     "text": [
      "time: 1.99 ms (started: 2025-03-06 21:35:19 +02:00)\n"
     ]
    }
   ],
   "source": [
    "class CarDataset(Dataset):\n",
    "    def __init__(self, images, labels, transform=None):\n",
    "        self.images = images\n",
    "        self.labels = labels\n",
    "        self.transform = transform\n",
    "    \n",
    "    def __len__(self):\n",
    "        return len(self.labels)\n",
    "    \n",
    "    def __getitem__(self, idx):\n",
    "        image = self.images[idx]\n",
    "        label = self.labels[idx]\n",
    "        \n",
    "        # if self.transform:\n",
    "        #    if torch.is_tensor(image):\n",
    "        #       image = image.squeeze().numpy()\n",
    "        #    transformed = self.transform(image=image)\n",
    "        #    image = transformed['image'] \n",
    "     \n",
    "        # if not torch.is_tensor(image):\n",
    "        #     image = torch.from_numpy(image)\n",
    "        \n",
    "            \n",
    "        return image, label"
   ]
  },
  {
   "cell_type": "markdown",
   "metadata": {},
   "source": [
    "## Data Loaders"
   ]
  },
  {
   "cell_type": "code",
   "execution_count": 407,
   "metadata": {},
   "outputs": [
    {
     "name": "stdout",
     "output_type": "stream",
     "text": [
      "time: 426 μs (started: 2025-03-06 20:12:41 +02:00)\n"
     ]
    }
   ],
   "source": [
    "def create_sampler_with_weighted_sampler(labels):\n",
    "    class_counts = torch.bincount(labels)\n",
    "    weights = 1.0 / class_counts.float()\n",
    "    sample_weights = weights[labels]\n",
    "\n",
    "    sampler = WeightedRandomSampler(\n",
    "        weights=sample_weights,\n",
    "        num_samples=len(labels),\n",
    "        replacement=True\n",
    "    )\n",
    "    return sampler\n"
   ]
  },
  {
   "cell_type": "code",
   "execution_count": 471,
   "metadata": {},
   "outputs": [
    {
     "name": "stdout",
     "output_type": "stream",
     "text": [
      "time: 811 μs (started: 2025-03-06 21:35:48 +02:00)\n"
     ]
    }
   ],
   "source": [
    "def create_train_val_loaders(train_images, train_labels, val_size=0.15, batch_size=batch_size, num_workers=num_workers, seed=42):\n",
    "    torch.manual_seed(seed)\n",
    "    dataset_size = len(train_labels)\n",
    "    val_length = int(dataset_size * val_size)\n",
    "    train_length = dataset_size - val_length\n",
    "    \n",
    "    full_train_dataset = CarDataset(\n",
    "        train_images, \n",
    "        train_labels,\n",
    "    )\n",
    "    \n",
    "    train_subset, val_subset = random_split(\n",
    "        full_train_dataset, \n",
    "        [train_length, val_length],\n",
    "        generator=torch.Generator().manual_seed(seed)\n",
    "    )\n",
    "    \n",
    "    # train_subset.dataset.transform = train_transform \n",
    "    \n",
    "\n",
    "    train_loader = DataLoader(\n",
    "        train_subset,\n",
    "        batch_size=batch_size,\n",
    "        shuffle=True,\n",
    "        # sampler=create_sampler_with_weighted_sampler(train_subset.dataset.labels),\n",
    "        # num_workers=num_workers,\n",
    "        # persistent_workers=True,\n",
    "        pin_memory=True\n",
    "    )\n",
    "    \n",
    "    val_loader = DataLoader(\n",
    "        val_subset,\n",
    "        batch_size=batch_size,\n",
    "        shuffle=False,\n",
    "        # num_workers=num_workers,\n",
    "        # persistent_workers=True,\n",
    "        pin_memory=True\n",
    "    )\n",
    "    \n",
    "    print(\"\\n\" + \"=\"*50)\n",
    "    print(\"Data Split Information\")\n",
    "    print(\"=\"*50)\n",
    "    print(f\"Total dataset size: {dataset_size}\")\n",
    "    print(f\"Training set size: {train_length}\")\n",
    "    print(f\"Validation set size: {val_length}\")\n",
    "    print(f\"Number of training batches: {len(train_loader)}\")\n",
    "    print(f\"Number of validation batches: {len(val_loader)}\")\n",
    "    print(\"=\"*50 + \"\\n\")\n",
    "    \n",
    "    return train_loader, val_loader\n"
   ]
  },
  {
   "cell_type": "code",
   "execution_count": 472,
   "metadata": {},
   "outputs": [
    {
     "name": "stdout",
     "output_type": "stream",
     "text": [
      "\n",
      "==================================================\n",
      "Data Split Information\n",
      "==================================================\n",
      "Total dataset size: 45440\n",
      "Training set size: 38624\n",
      "Validation set size: 6816\n",
      "Number of training batches: 302\n",
      "Number of validation batches: 54\n",
      "==================================================\n",
      "\n",
      "time: 6.33 ms (started: 2025-03-06 21:35:53 +02:00)\n"
     ]
    }
   ],
   "source": [
    "train_loader, val_loader = create_train_val_loaders(train_images, train_labels, batch_size=128)\n",
    "\n",
    "test_dataset = CarDataset(test_images, test_labels)\n",
    "test_loader = DataLoader(\n",
    "    test_dataset,\n",
    "    batch_size=batch_size,\n",
    "    shuffle=False,\n",
    "    pin_memory=True\n",
    ")"
   ]
  },
  {
   "cell_type": "markdown",
   "metadata": {},
   "source": [
    "# Experiment 1: Basic CNN Architecture\n",
    "\n",
    "Architecture:\n",
    "* **Sequential Convolutional Feature Extraction:**\n",
    "    * The model utilizes four convolutional layers with increasing filter counts (8, 16, 32, 64) to progressively extract features from grayscale input images. Batch normalization and ReLU activation are applied after each convolution.\n",
    "* **Max Pooling for Downsampling:**\n",
    "    * Max pooling layers are used after each convolutional block to reduce the spatial dimensions of feature maps, making the network more invariant to small shifts and reducing computational load.\n",
    "* **Global Average Pooling (GAP):**\n",
    "    * Global average pooling is employed to summarize the spatial information of the final feature maps into a single value per channel, effectively reducing the feature maps to a 1x1 shape.\n",
    "* **Fully Connected Classification:**\n",
    "    * A fully connected linear layer maps the GAP output to the class probabilities, followed by a log softmax activation for classification.\n",
    "\n"
   ]
  },
  {
   "cell_type": "code",
   "execution_count": null,
   "metadata": {},
   "outputs": [
    {
     "data": {
      "text/plain": [
       "Grayscale_CNN_exp_1_GAP(\n",
       "  (conv1): Conv2d(1, 8, kernel_size=(3, 3), stride=(1, 1), padding=same)\n",
       "  (bn1): BatchNorm2d(8, eps=1e-05, momentum=0.1, affine=True, track_running_stats=True)\n",
       "  (conv2): Conv2d(8, 16, kernel_size=(3, 3), stride=(1, 1), padding=same)\n",
       "  (bn2): BatchNorm2d(16, eps=1e-05, momentum=0.1, affine=True, track_running_stats=True)\n",
       "  (conv3): Conv2d(16, 32, kernel_size=(3, 3), stride=(1, 1), padding=same)\n",
       "  (bn3): BatchNorm2d(32, eps=1e-05, momentum=0.1, affine=True, track_running_stats=True)\n",
       "  (conv4): Conv2d(32, 64, kernel_size=(3, 3), stride=(1, 1), padding=same)\n",
       "  (bn4): BatchNorm2d(64, eps=1e-05, momentum=0.1, affine=True, track_running_stats=True)\n",
       "  (pool): MaxPool2d(kernel_size=2, stride=2, padding=0, dilation=1, ceil_mode=False)\n",
       "  (gap): AdaptiveAvgPool2d(output_size=(1, 1))\n",
       "  (fc3): Linear(in_features=64, out_features=196, bias=True)\n",
       ")"
      ]
     },
     "execution_count": 486,
     "metadata": {},
     "output_type": "execute_result"
    },
    {
     "name": "stdout",
     "output_type": "stream",
     "text": [
      "time: 62.8 ms (started: 2025-03-06 22:27:04 +02:00)\n"
     ]
    }
   ],
   "source": [
    "class Grayscale_CNN_exp_1_GAP(nn.Module):\n",
    "    def __init__(self, num_classes=196):\n",
    "        super(Grayscale_CNN_exp_1_GAP, self).__init__()\n",
    "        self.conv1 = nn.Conv2d(1, 8, kernel_size=3, padding='same')\n",
    "        self.bn1 = nn.BatchNorm2d(8)\n",
    "        self.conv2 = nn.Conv2d(8, 16, kernel_size=3, padding='same')\n",
    "        self.bn2 = nn.BatchNorm2d(16)\n",
    "        self.conv3 = nn.Conv2d(16, 32, kernel_size=3, padding='same')\n",
    "        self.bn3 = nn.BatchNorm2d(32)\n",
    "        self.conv4 = nn.Conv2d(32, 64, kernel_size=3, padding='same')\n",
    "        self.bn4 = nn.BatchNorm2d(64)\n",
    "        self.pool = nn.MaxPool2d(2, 2)\n",
    "\n",
    "        # Global Average Pooling Layer\n",
    "        self.gap = nn.AdaptiveAvgPool2d((1, 1))  # Output size of (1, 1)\n",
    "\n",
    "        # Final classification layer\n",
    "        self.fc3 = nn.Linear(64, num_classes)  # Input is now just the number of channels\n",
    "\n",
    "    def forward(self, x):\n",
    "        x = F.relu(self.bn1(self.conv1(x)))\n",
    "        x = self.pool(x)\n",
    "        x = F.relu(self.bn2(self.conv2(x)))\n",
    "        x = self.pool(x)\n",
    "        x = F.relu(self.bn3(self.conv3(x)))\n",
    "        x = self.pool(x)\n",
    "        x = F.relu(self.bn4(self.conv4(x)))\n",
    "        x = self.pool(x)\n",
    "\n",
    "        # Apply Global Average Pooling\n",
    "        x = self.gap(x)\n",
    "        x = torch.flatten(x, 1)  # Flatten to [batch_size, 64]\n",
    "\n",
    "        # Classification\n",
    "        x = self.fc3(x)\n",
    "        x = F.log_softmax(x, dim=1)\n",
    "        return x\n",
    "# Create an instance of the model\n",
    "grayscale_cnn_exp1_model = Grayscale_CNN_exp_1_GAP()\n",
    "grayscale_cnn_exp1_model.to(device)\n",
    "print_params_count(grayscale_cnn_exp1_model)"
   ]
  },
  {
   "cell_type": "code",
   "execution_count": 510,
   "metadata": {},
   "outputs": [
    {
     "name": "stdout",
     "output_type": "stream",
     "text": [
      "Total number of parameters: 37364\n",
      "Total number of trainable parameters: 37364\n",
      "time: 4.11 ms (started: 2025-03-07 00:25:09 +02:00)\n"
     ]
    }
   ],
   "source": [
    "print_params_count(grayscale_cnn_exp1_model)"
   ]
  },
  {
   "cell_type": "code",
   "execution_count": null,
   "metadata": {},
   "outputs": [
    {
     "name": "stderr",
     "output_type": "stream",
     "text": [
      "                                                               \r"
     ]
    },
    {
     "name": "stdout",
     "output_type": "stream",
     "text": [
      "Epoch [1/35], Loss: 1.3803, Validation Loss: 2.4361, Validation Accuracy: 43.65%\n"
     ]
    },
    {
     "name": "stderr",
     "output_type": "stream",
     "text": [
      "                                                               \r"
     ]
    },
    {
     "name": "stdout",
     "output_type": "stream",
     "text": [
      "Epoch [2/35], Loss: 1.3426, Validation Loss: 2.5514, Validation Accuracy: 42.44%\n"
     ]
    },
    {
     "name": "stderr",
     "output_type": "stream",
     "text": [
      "                                                               \r"
     ]
    },
    {
     "name": "stdout",
     "output_type": "stream",
     "text": [
      "Epoch [3/35], Loss: 1.3302, Validation Loss: 2.9757, Validation Accuracy: 36.62%\n"
     ]
    },
    {
     "name": "stderr",
     "output_type": "stream",
     "text": [
      "                                                               \r"
     ]
    },
    {
     "name": "stdout",
     "output_type": "stream",
     "text": [
      "Epoch [4/35], Loss: 1.3394, Validation Loss: 2.5236, Validation Accuracy: 41.96%\n"
     ]
    },
    {
     "name": "stderr",
     "output_type": "stream",
     "text": [
      "                                                               \r"
     ]
    },
    {
     "name": "stdout",
     "output_type": "stream",
     "text": [
      "Epoch [5/35], Loss: 1.3114, Validation Loss: 2.5038, Validation Accuracy: 41.62%\n"
     ]
    },
    {
     "name": "stderr",
     "output_type": "stream",
     "text": [
      "                                                               \r"
     ]
    },
    {
     "name": "stdout",
     "output_type": "stream",
     "text": [
      "Epoch [6/35], Loss: 1.3155, Validation Loss: 2.3261, Validation Accuracy: 44.88%\n"
     ]
    },
    {
     "name": "stderr",
     "output_type": "stream",
     "text": [
      "                                                               \r"
     ]
    },
    {
     "name": "stdout",
     "output_type": "stream",
     "text": [
      "Epoch [7/35], Loss: 1.2979, Validation Loss: 2.6312, Validation Accuracy: 41.92%\n"
     ]
    },
    {
     "name": "stderr",
     "output_type": "stream",
     "text": [
      "                                                               \r"
     ]
    },
    {
     "name": "stdout",
     "output_type": "stream",
     "text": [
      "Epoch [8/35], Loss: 1.2945, Validation Loss: 2.9360, Validation Accuracy: 37.71%\n"
     ]
    },
    {
     "name": "stderr",
     "output_type": "stream",
     "text": [
      "                                                               \r"
     ]
    },
    {
     "name": "stdout",
     "output_type": "stream",
     "text": [
      "Epoch [9/35], Loss: 1.2752, Validation Loss: 2.3824, Validation Accuracy: 45.35%\n"
     ]
    },
    {
     "name": "stderr",
     "output_type": "stream",
     "text": [
      "                                                                \r"
     ]
    },
    {
     "name": "stdout",
     "output_type": "stream",
     "text": [
      "Epoch [10/35], Loss: 1.2766, Validation Loss: 2.6945, Validation Accuracy: 39.96%\n"
     ]
    },
    {
     "name": "stderr",
     "output_type": "stream",
     "text": [
      "                                                                \r"
     ]
    },
    {
     "name": "stdout",
     "output_type": "stream",
     "text": [
      "Epoch [11/35], Loss: 1.2736, Validation Loss: 2.4079, Validation Accuracy: 44.47%\n"
     ]
    },
    {
     "name": "stderr",
     "output_type": "stream",
     "text": [
      "                                                                \r"
     ]
    },
    {
     "name": "stdout",
     "output_type": "stream",
     "text": [
      "Epoch [12/35], Loss: 1.2692, Validation Loss: 2.6016, Validation Accuracy: 42.24%\n"
     ]
    },
    {
     "name": "stderr",
     "output_type": "stream",
     "text": [
      "                                                                \r"
     ]
    },
    {
     "name": "stdout",
     "output_type": "stream",
     "text": [
      "Epoch [13/35], Loss: 1.2486, Validation Loss: 2.4893, Validation Accuracy: 43.63%\n"
     ]
    },
    {
     "name": "stderr",
     "output_type": "stream",
     "text": [
      "                                                                \r"
     ]
    },
    {
     "name": "stdout",
     "output_type": "stream",
     "text": [
      "Epoch [14/35], Loss: 1.2437, Validation Loss: 2.3465, Validation Accuracy: 45.09%\n"
     ]
    },
    {
     "name": "stderr",
     "output_type": "stream",
     "text": [
      "                                                                \r"
     ]
    },
    {
     "name": "stdout",
     "output_type": "stream",
     "text": [
      "Epoch [15/35], Loss: 1.2363, Validation Loss: 2.3515, Validation Accuracy: 44.66%\n"
     ]
    },
    {
     "name": "stderr",
     "output_type": "stream",
     "text": [
      "                                                                \r"
     ]
    },
    {
     "name": "stdout",
     "output_type": "stream",
     "text": [
      "Epoch [16/35], Loss: 1.2217, Validation Loss: 2.7306, Validation Accuracy: 41.30%\n"
     ]
    },
    {
     "name": "stderr",
     "output_type": "stream",
     "text": [
      "                                                                \r"
     ]
    },
    {
     "name": "stdout",
     "output_type": "stream",
     "text": [
      "Epoch [17/35], Loss: 1.2277, Validation Loss: 2.3368, Validation Accuracy: 46.33%\n"
     ]
    },
    {
     "name": "stderr",
     "output_type": "stream",
     "text": [
      "                                                                \r"
     ]
    },
    {
     "name": "stdout",
     "output_type": "stream",
     "text": [
      "Epoch [18/35], Loss: 1.2205, Validation Loss: 2.5216, Validation Accuracy: 44.40%\n"
     ]
    },
    {
     "name": "stderr",
     "output_type": "stream",
     "text": [
      "                                                                \r"
     ]
    },
    {
     "name": "stdout",
     "output_type": "stream",
     "text": [
      "Epoch [19/35], Loss: 1.2108, Validation Loss: 2.8187, Validation Accuracy: 39.64%\n"
     ]
    },
    {
     "name": "stderr",
     "output_type": "stream",
     "text": [
      "                                                                \r"
     ]
    },
    {
     "name": "stdout",
     "output_type": "stream",
     "text": [
      "Epoch [20/35], Loss: 1.2058, Validation Loss: 2.4100, Validation Accuracy: 46.17%\n"
     ]
    },
    {
     "name": "stderr",
     "output_type": "stream",
     "text": [
      "                                                                \r"
     ]
    },
    {
     "name": "stdout",
     "output_type": "stream",
     "text": [
      "Epoch [21/35], Loss: 1.1917, Validation Loss: 2.3209, Validation Accuracy: 44.23%\n"
     ]
    },
    {
     "name": "stderr",
     "output_type": "stream",
     "text": [
      "                                                                \r"
     ]
    },
    {
     "name": "stdout",
     "output_type": "stream",
     "text": [
      "Epoch [22/35], Loss: 1.1902, Validation Loss: 2.2999, Validation Accuracy: 46.98%\n"
     ]
    },
    {
     "name": "stderr",
     "output_type": "stream",
     "text": [
      "                                                                \r"
     ]
    },
    {
     "name": "stdout",
     "output_type": "stream",
     "text": [
      "Epoch [23/35], Loss: 1.1731, Validation Loss: 2.3646, Validation Accuracy: 46.99%\n"
     ]
    },
    {
     "name": "stderr",
     "output_type": "stream",
     "text": [
      "                                                                \r"
     ]
    },
    {
     "name": "stdout",
     "output_type": "stream",
     "text": [
      "Epoch [24/35], Loss: 1.1754, Validation Loss: 2.5742, Validation Accuracy: 45.19%\n"
     ]
    },
    {
     "name": "stderr",
     "output_type": "stream",
     "text": [
      "                                                                \r"
     ]
    },
    {
     "name": "stdout",
     "output_type": "stream",
     "text": [
      "Epoch [25/35], Loss: 1.1760, Validation Loss: 3.0525, Validation Accuracy: 38.07%\n"
     ]
    },
    {
     "name": "stderr",
     "output_type": "stream",
     "text": [
      "                                                                \r"
     ]
    },
    {
     "name": "stdout",
     "output_type": "stream",
     "text": [
      "Epoch [26/35], Loss: 1.1637, Validation Loss: 2.5752, Validation Accuracy: 44.82%\n"
     ]
    },
    {
     "name": "stderr",
     "output_type": "stream",
     "text": [
      "                                                                \r"
     ]
    },
    {
     "name": "stdout",
     "output_type": "stream",
     "text": [
      "Epoch [27/35], Loss: 1.1649, Validation Loss: 2.2909, Validation Accuracy: 46.07%\n"
     ]
    },
    {
     "name": "stderr",
     "output_type": "stream",
     "text": [
      "                                                                \r"
     ]
    },
    {
     "name": "stdout",
     "output_type": "stream",
     "text": [
      "Epoch [28/35], Loss: 1.1568, Validation Loss: 2.3893, Validation Accuracy: 46.26%\n"
     ]
    },
    {
     "name": "stderr",
     "output_type": "stream",
     "text": [
      "                                                                \r"
     ]
    },
    {
     "name": "stdout",
     "output_type": "stream",
     "text": [
      "Epoch [29/35], Loss: 1.1473, Validation Loss: 2.5138, Validation Accuracy: 45.06%\n"
     ]
    },
    {
     "name": "stderr",
     "output_type": "stream",
     "text": [
      "                                                                \r"
     ]
    },
    {
     "name": "stdout",
     "output_type": "stream",
     "text": [
      "Epoch [30/35], Loss: 1.1427, Validation Loss: 2.6109, Validation Accuracy: 41.71%\n"
     ]
    },
    {
     "name": "stderr",
     "output_type": "stream",
     "text": [
      "                                                                \r"
     ]
    },
    {
     "name": "stdout",
     "output_type": "stream",
     "text": [
      "Epoch [31/35], Loss: 1.1278, Validation Loss: 2.8933, Validation Accuracy: 41.81%\n"
     ]
    },
    {
     "name": "stderr",
     "output_type": "stream",
     "text": [
      "                                                                \r"
     ]
    },
    {
     "name": "stdout",
     "output_type": "stream",
     "text": [
      "Epoch [32/35], Loss: 1.1401, Validation Loss: 2.2924, Validation Accuracy: 46.80%\n"
     ]
    },
    {
     "name": "stderr",
     "output_type": "stream",
     "text": [
      "                                                                \r"
     ]
    },
    {
     "name": "stdout",
     "output_type": "stream",
     "text": [
      "Epoch [33/35], Loss: 1.1228, Validation Loss: 2.4319, Validation Accuracy: 46.23%\n"
     ]
    },
    {
     "name": "stderr",
     "output_type": "stream",
     "text": [
      "                                                                \r"
     ]
    },
    {
     "name": "stdout",
     "output_type": "stream",
     "text": [
      "Epoch [34/35], Loss: 1.1196, Validation Loss: 2.4295, Validation Accuracy: 45.89%\n"
     ]
    },
    {
     "name": "stderr",
     "output_type": "stream",
     "text": [
      "                                                                \r"
     ]
    },
    {
     "name": "stdout",
     "output_type": "stream",
     "text": [
      "Epoch [35/35], Loss: 1.1028, Validation Loss: 2.4707, Validation Accuracy: 44.57%\n"
     ]
    },
    {
     "data": {
      "image/png": "[encoded data removed]",
      "text/plain": [
       "<Figure size 1200x500 with 2 Axes>"
      ]
     },
     "metadata": {},
     "output_type": "display_data"
    },
    {
     "name": "stdout",
     "output_type": "stream",
     "text": [
      "Accuracy: 0.3132\n",
      "F1 Score: 0.3132\n",
      "Precision: 0.3669\n",
      "Recall: 0.3132\n",
      "time: 9min 34s (started: 2025-03-06 22:59:32 +02:00)\n"
     ]
    }
   ],
   "source": [
    "epochs=100 \n",
    "lr=0.01\n",
    "criterion = torch.nn.CrossEntropyLoss()\n",
    "optimizer = optim.Adam(grayscale_cnn_exp1_model.parameters(), lr)\n",
    "\n",
    "train_loss, val_loss, train_acc, val_acc = training_loop(\n",
    "    grayscale_cnn_exp1_model, optimizer, criterion, epochs, train_loader, val_loader, is_clip=True ,none_blocking=True)\n",
    "\n",
    "visualize_results(train_loss, val_loss, train_acc, val_acc)\n",
    "generate_classification_report(grayscale_cnn_exp1_model, test_loader, device)"
   ]
  },
  {
   "cell_type": "markdown",
   "metadata": {},
   "source": [
    "# Experiment 2: Depthwise Separable Convolutions\n",
    "\n",
    "Architecture:\n",
    "*   **Depthwise Separable Convolutions:** Utilizes depthwise separable convolutions as the primary building block, drastically reducing the number of parameters and operations compared to standard convolutions. This is the key to its small size - inspiered by moblieNet.\n",
    "\n",
    "*   **Strategic Downsampling:** Uses a combination of strided convolutions and max pooling to progressively reduce spatial dimensions, balancing feature extraction with computational efficiency.\n",
    "\n",
    "*    **Regularization:** Includes Batch Normalization and Dropout to improve training stability and prevent overfitting, important given the from-scratch training and limited data.\n",
    "\n",
    "*    **Global Average Pooling:** Employs global average pooling before the final layer to significantly reduce the number of parameters and add translational invariance.\n",
    "\n"
   ]
  },
  {
   "cell_type": "code",
   "execution_count": null,
   "metadata": {},
   "outputs": [
    {
     "data": {
      "text/plain": [
       "SmallCNN(\n",
       "  (conv1): Conv2d(1, 8, kernel_size=(3, 3), stride=(2, 2), padding=(1, 1))\n",
       "  (bn1): BatchNorm2d(8, eps=1e-05, momentum=0.1, affine=True, track_running_stats=True)\n",
       "  (block1): Sequential(\n",
       "    (0): DepthwiseSeparableConv(\n",
       "      (depthwise): Conv2d(8, 8, kernel_size=(3, 3), stride=(1, 1), padding=(1, 1), groups=8)\n",
       "      (pointwise): Conv2d(8, 16, kernel_size=(1, 1), stride=(1, 1))\n",
       "      (bn_dw): BatchNorm2d(8, eps=1e-05, momentum=0.1, affine=True, track_running_stats=True)\n",
       "      (bn_pw): BatchNorm2d(16, eps=1e-05, momentum=0.1, affine=True, track_running_stats=True)\n",
       "    )\n",
       "    (1): DepthwiseSeparableConv(\n",
       "      (depthwise): Conv2d(16, 16, kernel_size=(3, 3), stride=(1, 1), padding=(1, 1), groups=16)\n",
       "      (pointwise): Conv2d(16, 16, kernel_size=(1, 1), stride=(1, 1))\n",
       "      (bn_dw): BatchNorm2d(16, eps=1e-05, momentum=0.1, affine=True, track_running_stats=True)\n",
       "      (bn_pw): BatchNorm2d(16, eps=1e-05, momentum=0.1, affine=True, track_running_stats=True)\n",
       "    )\n",
       "    (2): MaxPool2d(kernel_size=2, stride=2, padding=0, dilation=1, ceil_mode=False)\n",
       "  )\n",
       "  (block2): Sequential(\n",
       "    (0): DepthwiseSeparableConv(\n",
       "      (depthwise): Conv2d(16, 16, kernel_size=(3, 3), stride=(1, 1), padding=(1, 1), groups=16)\n",
       "      (pointwise): Conv2d(16, 32, kernel_size=(1, 1), stride=(1, 1))\n",
       "      (bn_dw): BatchNorm2d(16, eps=1e-05, momentum=0.1, affine=True, track_running_stats=True)\n",
       "      (bn_pw): BatchNorm2d(32, eps=1e-05, momentum=0.1, affine=True, track_running_stats=True)\n",
       "    )\n",
       "    (1): DepthwiseSeparableConv(\n",
       "      (depthwise): Conv2d(32, 32, kernel_size=(3, 3), stride=(1, 1), padding=(1, 1), groups=32)\n",
       "      (pointwise): Conv2d(32, 32, kernel_size=(1, 1), stride=(1, 1))\n",
       "      (bn_dw): BatchNorm2d(32, eps=1e-05, momentum=0.1, affine=True, track_running_stats=True)\n",
       "      (bn_pw): BatchNorm2d(32, eps=1e-05, momentum=0.1, affine=True, track_running_stats=True)\n",
       "    )\n",
       "    (2): MaxPool2d(kernel_size=2, stride=2, padding=0, dilation=1, ceil_mode=False)\n",
       "  )\n",
       "  (block3): Sequential(\n",
       "    (0): DepthwiseSeparableConv(\n",
       "      (depthwise): Conv2d(32, 32, kernel_size=(3, 3), stride=(1, 1), padding=(1, 1), groups=32)\n",
       "      (pointwise): Conv2d(32, 64, kernel_size=(1, 1), stride=(1, 1))\n",
       "      (bn_dw): BatchNorm2d(32, eps=1e-05, momentum=0.1, affine=True, track_running_stats=True)\n",
       "      (bn_pw): BatchNorm2d(64, eps=1e-05, momentum=0.1, affine=True, track_running_stats=True)\n",
       "    )\n",
       "    (1): DepthwiseSeparableConv(\n",
       "      (depthwise): Conv2d(64, 64, kernel_size=(3, 3), stride=(1, 1), padding=(1, 1), groups=64)\n",
       "      (pointwise): Conv2d(64, 64, kernel_size=(1, 1), stride=(1, 1))\n",
       "      (bn_dw): BatchNorm2d(64, eps=1e-05, momentum=0.1, affine=True, track_running_stats=True)\n",
       "      (bn_pw): BatchNorm2d(64, eps=1e-05, momentum=0.1, affine=True, track_running_stats=True)\n",
       "    )\n",
       "    (2): MaxPool2d(kernel_size=2, stride=2, padding=0, dilation=1, ceil_mode=False)\n",
       "  )\n",
       "  (block4): Sequential(\n",
       "    (0): DepthwiseSeparableConv(\n",
       "      (depthwise): Conv2d(64, 64, kernel_size=(3, 3), stride=(1, 1), padding=(1, 1), groups=64)\n",
       "      (pointwise): Conv2d(64, 128, kernel_size=(1, 1), stride=(1, 1))\n",
       "      (bn_dw): BatchNorm2d(64, eps=1e-05, momentum=0.1, affine=True, track_running_stats=True)\n",
       "      (bn_pw): BatchNorm2d(128, eps=1e-05, momentum=0.1, affine=True, track_running_stats=True)\n",
       "    )\n",
       "    (1): DepthwiseSeparableConv(\n",
       "      (depthwise): Conv2d(128, 128, kernel_size=(3, 3), stride=(1, 1), padding=(1, 1), groups=128)\n",
       "      (pointwise): Conv2d(128, 128, kernel_size=(1, 1), stride=(1, 1))\n",
       "      (bn_dw): BatchNorm2d(128, eps=1e-05, momentum=0.1, affine=True, track_running_stats=True)\n",
       "      (bn_pw): BatchNorm2d(128, eps=1e-05, momentum=0.1, affine=True, track_running_stats=True)\n",
       "    )\n",
       "    (2): MaxPool2d(kernel_size=2, stride=2, padding=0, dilation=1, ceil_mode=False)\n",
       "  )\n",
       "  (global_avg_pool): AdaptiveAvgPool2d(output_size=(1, 1))\n",
       "  (dropout): Dropout(p=0.5, inplace=False)\n",
       "  (fc): Linear(in_features=128, out_features=196, bias=True)\n",
       ")"
      ]
     },
     "execution_count": 501,
     "metadata": {},
     "output_type": "execute_result"
    },
    {
     "name": "stdout",
     "output_type": "stream",
     "text": [
      "time: 42.5 ms (started: 2025-03-06 23:53:53 +02:00)\n"
     ]
    }
   ],
   "source": [
    "class DepthwiseSeparableConv(nn.Module):\n",
    "    def __init__(self, in_channels, out_channels, kernel_size, stride=1, padding=0):\n",
    "        super(DepthwiseSeparableConv, self).__init__()\n",
    "        self.depthwise = nn.Conv2d(in_channels, in_channels, kernel_size, stride, padding, groups=in_channels)\n",
    "        self.pointwise = nn.Conv2d(in_channels, out_channels, 1)\n",
    "        self.bn_dw = nn.BatchNorm2d(in_channels)\n",
    "        self.bn_pw = nn.BatchNorm2d(out_channels)\n",
    "\n",
    "\n",
    "    def forward(self, x):\n",
    "        x = F.relu(self.bn_dw(self.depthwise(x)))\n",
    "        x = F.relu(self.bn_pw(self.pointwise(x)))\n",
    "        return x\n",
    "\n",
    "class SmallCNN(nn.Module):\n",
    "    def __init__(self, num_classes=196):\n",
    "        super(SmallCNN, self).__init__()\n",
    "        self.conv1 = nn.Conv2d(1, 8, 3, stride=2, padding=1)\n",
    "        self.bn1 = nn.BatchNorm2d(8)\n",
    "\n",
    "        self.block1 = self._make_block(8, 16)\n",
    "        self.block2 = self._make_block(16, 32)\n",
    "        self.block3 = self._make_block(32, 64)\n",
    "        self.block4 = self._make_block(64, 128)\n",
    "\n",
    "        self.global_avg_pool = nn.AdaptiveAvgPool2d((1, 1))\n",
    "        self.dropout = nn.Dropout(0.5)\n",
    "        self.fc = nn.Linear(128, num_classes)\n",
    "\n",
    "    def _make_block(self, in_channels, out_channels):\n",
    "        return nn.Sequential(\n",
    "            DepthwiseSeparableConv(in_channels, out_channels, 3, stride=1, padding=1),\n",
    "            DepthwiseSeparableConv(out_channels, out_channels, 3, stride=1, padding=1),\n",
    "            nn.MaxPool2d(2,2)\n",
    "        )\n",
    "\n",
    "    def forward(self, x):\n",
    "        x = F.relu(self.bn1(self.conv1(x)))\n",
    "        x = self.block1(x)\n",
    "        x = self.block2(x)\n",
    "        x = self.block3(x)\n",
    "        x = self.block4(x)\n",
    "        x = self.global_avg_pool(x)\n",
    "        x = x.view(x.size(0), -1)  # Flatten\n",
    "        x = self.dropout(x)\n",
    "        x = self.fc(x)\n",
    "        return x\n",
    "\n",
    "small_cnn_exp_2 = SmallCNN()\n",
    "small_cnn_exp_2.to(device)\n",
    "print_params_count(small_cnn_exp_2)"
   ]
  },
  {
   "cell_type": "code",
   "execution_count": 508,
   "metadata": {},
   "outputs": [
    {
     "name": "stdout",
     "output_type": "stream",
     "text": [
      "Total number of parameters: 63780\n",
      "Total number of trainable parameters: 63780\n",
      "time: 1.91 ms (started: 2025-03-07 00:24:10 +02:00)\n"
     ]
    }
   ],
   "source": [
    "print_params_count(small_cnn_exp_2)"
   ]
  },
  {
   "cell_type": "code",
   "execution_count": null,
   "metadata": {},
   "outputs": [
    {
     "name": "stderr",
     "output_type": "stream",
     "text": [
      "                                                               \r"
     ]
    },
    {
     "name": "stdout",
     "output_type": "stream",
     "text": [
      "Epoch [1/25], Loss: 1.7188, Validation Loss: 1.5476, Validation Accuracy: 57.44%\n"
     ]
    },
    {
     "name": "stderr",
     "output_type": "stream",
     "text": [
      "                                                               \r"
     ]
    },
    {
     "name": "stdout",
     "output_type": "stream",
     "text": [
      "Epoch [2/25], Loss: 1.6998, Validation Loss: 1.5448, Validation Accuracy: 57.88%\n"
     ]
    },
    {
     "name": "stderr",
     "output_type": "stream",
     "text": [
      "                                                               \r"
     ]
    },
    {
     "name": "stdout",
     "output_type": "stream",
     "text": [
      "Epoch [3/25], Loss: 1.6877, Validation Loss: 1.5371, Validation Accuracy: 58.69%\n"
     ]
    },
    {
     "name": "stderr",
     "output_type": "stream",
     "text": [
      "                                                               \r"
     ]
    },
    {
     "name": "stdout",
     "output_type": "stream",
     "text": [
      "Epoch [4/25], Loss: 1.6859, Validation Loss: 1.5468, Validation Accuracy: 58.69%\n"
     ]
    },
    {
     "name": "stderr",
     "output_type": "stream",
     "text": [
      "                                                               \r"
     ]
    },
    {
     "name": "stdout",
     "output_type": "stream",
     "text": [
      "Epoch [5/25], Loss: 1.6785, Validation Loss: 1.5222, Validation Accuracy: 58.32%\n"
     ]
    },
    {
     "name": "stderr",
     "output_type": "stream",
     "text": [
      "                                                               \r"
     ]
    },
    {
     "name": "stdout",
     "output_type": "stream",
     "text": [
      "Epoch [6/25], Loss: 1.6683, Validation Loss: 1.4301, Validation Accuracy: 61.16%\n"
     ]
    },
    {
     "name": "stderr",
     "output_type": "stream",
     "text": [
      "                                                               \r"
     ]
    },
    {
     "name": "stdout",
     "output_type": "stream",
     "text": [
      "Epoch [7/25], Loss: 1.6630, Validation Loss: 1.4811, Validation Accuracy: 60.28%\n"
     ]
    },
    {
     "name": "stderr",
     "output_type": "stream",
     "text": [
      "                                                               \r"
     ]
    },
    {
     "name": "stdout",
     "output_type": "stream",
     "text": [
      "Epoch [8/25], Loss: 1.6469, Validation Loss: 1.4736, Validation Accuracy: 59.84%\n"
     ]
    },
    {
     "name": "stderr",
     "output_type": "stream",
     "text": [
      "                                                               \r"
     ]
    },
    {
     "name": "stdout",
     "output_type": "stream",
     "text": [
      "Epoch [9/25], Loss: 1.6422, Validation Loss: 1.5416, Validation Accuracy: 59.45%\n"
     ]
    },
    {
     "name": "stderr",
     "output_type": "stream",
     "text": [
      "                                                                \r"
     ]
    },
    {
     "name": "stdout",
     "output_type": "stream",
     "text": [
      "Epoch [10/25], Loss: 1.6419, Validation Loss: 1.4998, Validation Accuracy: 59.64%\n"
     ]
    },
    {
     "name": "stderr",
     "output_type": "stream",
     "text": [
      "                                                                \r"
     ]
    },
    {
     "name": "stdout",
     "output_type": "stream",
     "text": [
      "Epoch [11/25], Loss: 1.6275, Validation Loss: 1.5699, Validation Accuracy: 58.20%\n"
     ]
    },
    {
     "name": "stderr",
     "output_type": "stream",
     "text": [
      "                                                                \r"
     ]
    },
    {
     "name": "stdout",
     "output_type": "stream",
     "text": [
      "Epoch [12/25], Loss: 1.6200, Validation Loss: 1.6028, Validation Accuracy: 56.88%\n"
     ]
    },
    {
     "name": "stderr",
     "output_type": "stream",
     "text": [
      "                                                                \r"
     ]
    },
    {
     "name": "stdout",
     "output_type": "stream",
     "text": [
      "Epoch [13/25], Loss: 1.6166, Validation Loss: 1.4932, Validation Accuracy: 59.52%\n"
     ]
    },
    {
     "name": "stderr",
     "output_type": "stream",
     "text": [
      "                                                                \r"
     ]
    },
    {
     "name": "stdout",
     "output_type": "stream",
     "text": [
      "Epoch [14/25], Loss: 1.6003, Validation Loss: 1.4344, Validation Accuracy: 60.72%\n"
     ]
    },
    {
     "name": "stderr",
     "output_type": "stream",
     "text": [
      "                                                                \r"
     ]
    },
    {
     "name": "stdout",
     "output_type": "stream",
     "text": [
      "Epoch [15/25], Loss: 1.6077, Validation Loss: 1.3953, Validation Accuracy: 62.22%\n"
     ]
    },
    {
     "name": "stderr",
     "output_type": "stream",
     "text": [
      "                                                                \r"
     ]
    },
    {
     "name": "stdout",
     "output_type": "stream",
     "text": [
      "Epoch [16/25], Loss: 1.5989, Validation Loss: 1.3504, Validation Accuracy: 63.31%\n"
     ]
    },
    {
     "name": "stderr",
     "output_type": "stream",
     "text": [
      "                                                                \r"
     ]
    },
    {
     "name": "stdout",
     "output_type": "stream",
     "text": [
      "Epoch [17/25], Loss: 1.5970, Validation Loss: 1.4281, Validation Accuracy: 60.46%\n"
     ]
    },
    {
     "name": "stderr",
     "output_type": "stream",
     "text": [
      "                                                                \r"
     ]
    },
    {
     "name": "stdout",
     "output_type": "stream",
     "text": [
      "Epoch [18/25], Loss: 1.5854, Validation Loss: 1.3907, Validation Accuracy: 62.24%\n"
     ]
    },
    {
     "name": "stderr",
     "output_type": "stream",
     "text": [
      "                                                                \r"
     ]
    },
    {
     "name": "stdout",
     "output_type": "stream",
     "text": [
      "Epoch [19/25], Loss: 1.5701, Validation Loss: 1.4469, Validation Accuracy: 60.84%\n"
     ]
    },
    {
     "name": "stderr",
     "output_type": "stream",
     "text": [
      "                                                                \r"
     ]
    },
    {
     "name": "stdout",
     "output_type": "stream",
     "text": [
      "Epoch [20/25], Loss: 1.5826, Validation Loss: 1.4364, Validation Accuracy: 61.50%\n"
     ]
    },
    {
     "name": "stderr",
     "output_type": "stream",
     "text": [
      "                                                                \r"
     ]
    },
    {
     "name": "stdout",
     "output_type": "stream",
     "text": [
      "Epoch [21/25], Loss: 1.5622, Validation Loss: 1.3457, Validation Accuracy: 63.81%\n"
     ]
    },
    {
     "name": "stderr",
     "output_type": "stream",
     "text": [
      "                                                                \r"
     ]
    },
    {
     "name": "stdout",
     "output_type": "stream",
     "text": [
      "Epoch [22/25], Loss: 1.5613, Validation Loss: 1.3803, Validation Accuracy: 62.98%\n"
     ]
    },
    {
     "name": "stderr",
     "output_type": "stream",
     "text": [
      "                                                                \r"
     ]
    },
    {
     "name": "stdout",
     "output_type": "stream",
     "text": [
      "Epoch [23/25], Loss: 1.5529, Validation Loss: 1.3678, Validation Accuracy: 62.56%\n"
     ]
    },
    {
     "name": "stderr",
     "output_type": "stream",
     "text": [
      "                                                                \r"
     ]
    },
    {
     "name": "stdout",
     "output_type": "stream",
     "text": [
      "Epoch [24/25], Loss: 1.5548, Validation Loss: 1.3159, Validation Accuracy: 64.04%\n"
     ]
    },
    {
     "name": "stderr",
     "output_type": "stream",
     "text": [
      "                                                                \r"
     ]
    },
    {
     "name": "stdout",
     "output_type": "stream",
     "text": [
      "Epoch [25/25], Loss: 1.5486, Validation Loss: 1.3421, Validation Accuracy: 62.44%\n"
     ]
    },
    {
     "data": {
      "image/png": "[encoded data removed]",
      "text/plain": [
       "<Figure size 1200x500 with 2 Axes>"
      ]
     },
     "metadata": {},
     "output_type": "display_data"
    },
    {
     "name": "stdout",
     "output_type": "stream",
     "text": [
      "Accuracy: 0.5156\n",
      "F1 Score: 0.5148\n",
      "Precision: 0.5386\n",
      "Recall: 0.5156\n",
      "time: 10min 54s (started: 2025-03-07 00:25:59 +02:00)\n"
     ]
    }
   ],
   "source": [
    "epochs=75 \n",
    "lr=0.01\n",
    "\n",
    "optimizer = optim.Adam(small_cnn_exp_2.parameters(), lr)  # Adjust learning rate\n",
    "criterion = nn.CrossEntropyLoss()\n",
    "\n",
    "train_loss, val_loss, train_acc, val_acc = training_loop(\n",
    "    small_cnn_exp_2, optimizer, criterion, epochs, train_loader, val_loader, is_clip=True ,none_blocking=True)\n",
    "\n",
    "visualize_results(train_loss, val_loss, train_acc, val_acc)\n",
    "generate_classification_report(small_cnn_exp_2, test_loader, device)"
   ]
  },
  {
   "cell_type": "markdown",
   "metadata": {},
   "source": [
    "# Experiment 3: Advanced Techniques\n",
    "In this experiment, we will:\n",
    "- Implement advanced techniques such as data augmentation\n",
    "- Explore different optimization strategies\n",
    "- Experiment with ensemble methods\n",
    "- Analyze the impact of these techniques on model performance"
   ]
  },
  {
   "cell_type": "code",
   "execution_count": null,
   "metadata": {},
   "outputs": [],
   "source": [
    "%pip install clip"
   ]
  },
  {
   "cell_type": "code",
   "execution_count": 514,
   "metadata": {},
   "outputs": [
    {
     "name": "stdout",
     "output_type": "stream",
     "text": [
      "time: 1.17 ms (started: 2025-03-07 01:22:38 +02:00)\n"
     ]
    }
   ],
   "source": [
    "def embed_tensor_clip(image_tensor, model, preprocess):\n",
    "    image = preprocess(image_tensor).unsqueeze(0).to(device)\n",
    "    with torch.no_grad():\n",
    "        image_features = model.encode_image(image)\n",
    "    return image_features.cpu().numpy()"
   ]
  },
  {
   "cell_type": "code",
   "execution_count": 513,
   "metadata": {},
   "outputs": [
    {
     "name": "stderr",
     "output_type": "stream",
     "text": [
      "100%|██████████| 11360/11360 [00:32<00:00, 351.88it/s]\n"
     ]
    },
    {
     "name": "stdout",
     "output_type": "stream",
     "text": [
      "Images tensor shape: torch.Size([11360, 1, 224, 224]) Image tensors labels shape: torch.Size([11360])\n",
      "time: 33.3 s (started: 2025-03-07 01:16:18 +02:00)\n"
     ]
    }
   ],
   "source": [
    " images_tensor, labels_tensor = csv_to_tensors(\n",
    "    'stanford_cars_train.csv',\n",
    "    './content/images',\n",
    "    output_size=(224, 224)\n",
    ")"
   ]
  },
  {
   "cell_type": "code",
   "execution_count": 515,
   "metadata": {},
   "outputs": [
    {
     "ename": "NameError",
     "evalue": "name 'clip' is not defined",
     "output_type": "error",
     "traceback": [
      "\u001b[31m---------------------------------------------------------------------------\u001b[39m",
      "\u001b[31mNameError\u001b[39m                                 Traceback (most recent call last)",
      "\u001b[36mCell\u001b[39m\u001b[36m \u001b[39m\u001b[32mIn[515]\u001b[39m\u001b[32m, line 1\u001b[39m\n\u001b[32m----> \u001b[39m\u001b[32m1\u001b[39m model, clip_preprocess = \u001b[43mclip\u001b[49m.load(\u001b[33m\"\u001b[39m\u001b[33mViT-B/32\u001b[39m\u001b[33m\"\u001b[39m, device=device)\n",
      "\u001b[31mNameError\u001b[39m: name 'clip' is not defined"
     ]
    },
    {
     "name": "stdout",
     "output_type": "stream",
     "text": [
      "time: 261 ms (started: 2025-03-07 01:23:22 +02:00)\n"
     ]
    }
   ],
   "source": [
    "model, clip_preprocess = clip.load(\"ViT-B/32\", device=device)"
   ]
  },
  {
   "cell_type": "code",
   "execution_count": null,
   "metadata": {},
   "outputs": [],
   "source": [
    "preprocess = transforms.Compose([\n",
    "    transforms.ToPILImage(),\n",
    "    transforms.ToTensor(),\n",
    "])\n",
    "\n",
    "preprocessed_data = []\n",
    "for i in range(images_tensor.shape[0]):\n",
    "    preprocessed_data.append(preprocess(images_tensor[i]))\n",
    "preprocessed_data = torch.stack(preprocessed_data)\n",
    "\n",
    "\n",
    "dataset = TensorDataset(preprocessed_data, labels_tensor)\n",
    "dataloader = DataLoader(dataset, batch_size=32)\n",
    "\n",
    "embeddings = []\n",
    "all_labels = []\n",
    "\n",
    "for images, labels in dataloader:\n",
    "    for image in images:\n",
    "        embedding = embed_tensor_clip(image, model, clip_preprocess)\n",
    "        embeddings.append(embedding)\n",
    "    all_labels.extend(labels.tolist())\n",
    "\n",
    "embeddings = np.concatenate(embeddings, axis=0)\n",
    "\n",
    "print(f\"Embeddings shape: {embeddings.shape}\")\n",
    "print(f\"Number of labels: {len(all_labels)}\")"
   ]
  },
  {
   "cell_type": "markdown",
   "metadata": {},
   "source": [
    "# Save Model\n",
    "In this section, we will:\n",
    "- Save the best performing model\n",
    "- Document the model architecture and hyperparameters\n",
    "- Prepare the model for deployment or future use"
   ]
  },
  {
   "cell_type": "code",
   "execution_count": 512,
   "metadata": {},
   "outputs": [
    {
     "name": "stdout",
     "output_type": "stream",
     "text": [
      "Model saved to /Users/yoavgal/code/car-classification/CNN-notebook/./saved_models/small_cnn_exp_2\n",
      "time: 60 ms (started: 2025-03-07 00:38:52 +02:00)\n"
     ]
    }
   ],
   "source": [
    "model_filename = \"small_cnn_exp_2\"\n",
    "save_best_model(small_cnn_exp_2,model_filename)"
   ]
  },
  {
   "cell_type": "markdown",
   "metadata": {},
   "source": [
    "# Test Model\n",
    "In this section, we will:\n",
    "- Evaluate the final model on the test dataset\n",
    "- Generate classification reports and confusion matrices\n",
    "- Visualize the model's predictions on sample images\n",
    "- Discuss the strengths and weaknesses of our approach"
   ]
  }
 ],
 "metadata": {
  "kernelspec": {
   "display_name": "Python 3",
   "language": "python",
   "name": "python3"
  },
  "language_info": {
   "codemirror_mode": {
    "name": "ipython",
    "version": 3
   },
   "file_extension": ".py",
   "mimetype": "text/x-python",
   "name": "python",
   "nbconvert_exporter": "python",
   "pygments_lexer": "ipython3",
   "version": "3.11.11"
  }
 },
 "nbformat": 4,
 "nbformat_minor": 4
}
